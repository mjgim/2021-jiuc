{
 "cells": [
  {
   "cell_type": "markdown",
   "metadata": {
    "id": "blKP7u2LEj3L"
   },
   "source": [
    "# 데이터 전처리"
   ]
  },
  {
   "cell_type": "markdown",
   "metadata": {
    "id": "qkX1U0D-Fw3m"
   },
   "source": [
    "## 데이터 불러오기"
   ]
  },
  {
   "cell_type": "markdown",
   "metadata": {
    "id": "DPvL0at2LJ70"
   },
   "source": [
    "수집된 데이터를 잘 활용하기 위해서 데이터를 정리하는 과정이 필요합니다. 보통은 데이터를 살펴 보는 탐색적 데이터 분석(EDA, exploratory data analysis) 과정과 같이 진행하며, 몇 주기에 걸쳐 업데이트하면서 정돈합니다.\n",
    "\n",
    "엑셀, CSV(comma-separated values, 각 열을 쉼표로 구분해서 저장한 단순 텍스트 파일), TSV(tab-separated values) 등이 주로 쓰입니다. pandas에서는 read_excel() 함수나, read_csv() 함수(TSV의 경우 delimiter 옵션을 변경하여 불러오기 가능) 등을 이용해서 데이터 프레임으로 불러올 수 있습니다. 또한 데이터베이스에서 직접 불러오는 것도 가능합니다.\n",
    "\n",
    "일반적으로는 각 열을 변수, 각 행이 한 번의 관측을 나타냅니다."
   ]
  },
  {
   "cell_type": "markdown",
   "metadata": {
    "id": "Jv-J8GwaKkK-"
   },
   "source": [
    "### 엑셀 파일 불러오기"
   ]
  },
  {
   "cell_type": "code",
   "execution_count": 1,
   "metadata": {
    "executionInfo": {
     "elapsed": 291,
     "status": "ok",
     "timestamp": 1636509832964,
     "user": {
      "displayName": "Seunghwan Yang",
      "photoUrl": "https://lh3.googleusercontent.com/a/default-user=s64",
      "userId": "06508627432049251211"
     },
     "user_tz": -540
    },
    "id": "ereIgq1gJCvz"
   },
   "outputs": [],
   "source": [
    "import pandas as pd\n",
    "df = pd.read_excel('sample.xlsx', sheet_name='Sheet1')"
   ]
  },
  {
   "cell_type": "code",
   "execution_count": 2,
   "metadata": {
    "colab": {
     "base_uri": "https://localhost:8080/",
     "height": 423
    },
    "executionInfo": {
     "elapsed": 276,
     "status": "ok",
     "timestamp": 1636509849306,
     "user": {
      "displayName": "Seunghwan Yang",
      "photoUrl": "https://lh3.googleusercontent.com/a/default-user=s64",
      "userId": "06508627432049251211"
     },
     "user_tz": -540
    },
    "id": "z0ipGtf_JNOs",
    "outputId": "5df8a466-a7be-48fa-d5e5-7049d44531ac"
   },
   "outputs": [
    {
     "data": {
      "text/html": [
       "<div>\n",
       "<style scoped>\n",
       "    .dataframe tbody tr th:only-of-type {\n",
       "        vertical-align: middle;\n",
       "    }\n",
       "\n",
       "    .dataframe tbody tr th {\n",
       "        vertical-align: top;\n",
       "    }\n",
       "\n",
       "    .dataframe thead th {\n",
       "        text-align: right;\n",
       "    }\n",
       "</style>\n",
       "<table border=\"1\" class=\"dataframe\">\n",
       "  <thead>\n",
       "    <tr style=\"text-align: right;\">\n",
       "      <th></th>\n",
       "      <th>X_ActualPosition</th>\n",
       "      <th>X_ActualVelocity</th>\n",
       "      <th>X_ActualAcceleration</th>\n",
       "      <th>X_SetPosition</th>\n",
       "      <th>X_SetVelocity</th>\n",
       "    </tr>\n",
       "  </thead>\n",
       "  <tbody>\n",
       "    <tr>\n",
       "      <th>0</th>\n",
       "      <td>202.0</td>\n",
       "      <td>4.000</td>\n",
       "      <td>4.00</td>\n",
       "      <td>202.0</td>\n",
       "      <td>4.0</td>\n",
       "    </tr>\n",
       "    <tr>\n",
       "      <th>1</th>\n",
       "      <td>202.0</td>\n",
       "      <td>-6.800</td>\n",
       "      <td>-346.00</td>\n",
       "      <td>202.0</td>\n",
       "      <td>-9.6</td>\n",
       "    </tr>\n",
       "    <tr>\n",
       "      <th>2</th>\n",
       "      <td>200.0</td>\n",
       "      <td>-13.800</td>\n",
       "      <td>-2.25</td>\n",
       "      <td>200.0</td>\n",
       "      <td>-13.9</td>\n",
       "    </tr>\n",
       "    <tr>\n",
       "      <th>3</th>\n",
       "      <td>198.0</td>\n",
       "      <td>-14.000</td>\n",
       "      <td>4.00</td>\n",
       "      <td>198.0</td>\n",
       "      <td>-13.9</td>\n",
       "    </tr>\n",
       "    <tr>\n",
       "      <th>4</th>\n",
       "      <td>197.0</td>\n",
       "      <td>-13.900</td>\n",
       "      <td>-14.80</td>\n",
       "      <td>196.0</td>\n",
       "      <td>-13.9</td>\n",
       "    </tr>\n",
       "    <tr>\n",
       "      <th>...</th>\n",
       "      <td>...</td>\n",
       "      <td>...</td>\n",
       "      <td>...</td>\n",
       "      <td>...</td>\n",
       "      <td>...</td>\n",
       "    </tr>\n",
       "    <tr>\n",
       "      <th>95</th>\n",
       "      <td>163.0</td>\n",
       "      <td>3.875</td>\n",
       "      <td>-58.50</td>\n",
       "      <td>163.0</td>\n",
       "      <td>4.0</td>\n",
       "    </tr>\n",
       "    <tr>\n",
       "      <th>96</th>\n",
       "      <td>163.0</td>\n",
       "      <td>4.175</td>\n",
       "      <td>85.20</td>\n",
       "      <td>163.0</td>\n",
       "      <td>4.0</td>\n",
       "    </tr>\n",
       "    <tr>\n",
       "      <th>97</th>\n",
       "      <td>163.0</td>\n",
       "      <td>4.000</td>\n",
       "      <td>-8.50</td>\n",
       "      <td>163.0</td>\n",
       "      <td>4.0</td>\n",
       "    </tr>\n",
       "    <tr>\n",
       "      <th>98</th>\n",
       "      <td>163.0</td>\n",
       "      <td>4.050</td>\n",
       "      <td>29.00</td>\n",
       "      <td>163.0</td>\n",
       "      <td>4.0</td>\n",
       "    </tr>\n",
       "    <tr>\n",
       "      <th>99</th>\n",
       "      <td>163.0</td>\n",
       "      <td>4.025</td>\n",
       "      <td>29.00</td>\n",
       "      <td>163.0</td>\n",
       "      <td>4.0</td>\n",
       "    </tr>\n",
       "  </tbody>\n",
       "</table>\n",
       "<p>100 rows × 5 columns</p>\n",
       "</div>"
      ],
      "text/plain": [
       "    X_ActualPosition  X_ActualVelocity  X_ActualAcceleration  X_SetPosition  \\\n",
       "0              202.0             4.000                  4.00          202.0   \n",
       "1              202.0            -6.800               -346.00          202.0   \n",
       "2              200.0           -13.800                 -2.25          200.0   \n",
       "3              198.0           -14.000                  4.00          198.0   \n",
       "4              197.0           -13.900                -14.80          196.0   \n",
       "..               ...               ...                   ...            ...   \n",
       "95             163.0             3.875                -58.50          163.0   \n",
       "96             163.0             4.175                 85.20          163.0   \n",
       "97             163.0             4.000                 -8.50          163.0   \n",
       "98             163.0             4.050                 29.00          163.0   \n",
       "99             163.0             4.025                 29.00          163.0   \n",
       "\n",
       "    X_SetVelocity  \n",
       "0             4.0  \n",
       "1            -9.6  \n",
       "2           -13.9  \n",
       "3           -13.9  \n",
       "4           -13.9  \n",
       "..            ...  \n",
       "95            4.0  \n",
       "96            4.0  \n",
       "97            4.0  \n",
       "98            4.0  \n",
       "99            4.0  \n",
       "\n",
       "[100 rows x 5 columns]"
      ]
     },
     "execution_count": 2,
     "metadata": {},
     "output_type": "execute_result"
    }
   ],
   "source": [
    "df"
   ]
  },
  {
   "cell_type": "code",
   "execution_count": 3,
   "metadata": {
    "executionInfo": {
     "elapsed": 321,
     "status": "ok",
     "timestamp": 1636509962727,
     "user": {
      "displayName": "Seunghwan Yang",
      "photoUrl": "https://lh3.googleusercontent.com/a/default-user=s64",
      "userId": "06508627432049251211"
     },
     "user_tz": -540
    },
    "id": "zaZJy5h8MC4R"
   },
   "outputs": [],
   "source": [
    "# help(pd.read_csv)\n",
    "pd.read_csv?"
   ]
  },
  {
   "cell_type": "markdown",
   "metadata": {
    "id": "tveX5_f8p4O7"
   },
   "source": [
    "### CSV 파일 불러오기"
   ]
  },
  {
   "cell_type": "markdown",
   "metadata": {
    "id": "2J0IkrANLzID"
   },
   "source": [
    "다음은 pandas로 [붓꽃(iris) 데이터셋](https://gist.github.com/netj/8836201)을 불러 오는 예제입니다."
   ]
  },
  {
   "cell_type": "code",
   "execution_count": 4,
   "metadata": {
    "colab": {
     "base_uri": "https://localhost:8080/",
     "height": 423
    },
    "executionInfo": {
     "elapsed": 287,
     "status": "ok",
     "timestamp": 1636510013016,
     "user": {
      "displayName": "Seunghwan Yang",
      "photoUrl": "https://lh3.googleusercontent.com/a/default-user=s64",
      "userId": "06508627432049251211"
     },
     "user_tz": -540
    },
    "id": "K3xdWpI9LvcD",
    "outputId": "9ca8b779-7a98-4f75-ff9e-d893b582ff6f"
   },
   "outputs": [
    {
     "data": {
      "text/html": [
       "<div>\n",
       "<style scoped>\n",
       "    .dataframe tbody tr th:only-of-type {\n",
       "        vertical-align: middle;\n",
       "    }\n",
       "\n",
       "    .dataframe tbody tr th {\n",
       "        vertical-align: top;\n",
       "    }\n",
       "\n",
       "    .dataframe thead th {\n",
       "        text-align: right;\n",
       "    }\n",
       "</style>\n",
       "<table border=\"1\" class=\"dataframe\">\n",
       "  <thead>\n",
       "    <tr style=\"text-align: right;\">\n",
       "      <th></th>\n",
       "      <th>sepal.length</th>\n",
       "      <th>sepal.width</th>\n",
       "      <th>petal.length</th>\n",
       "      <th>petal.width</th>\n",
       "      <th>variety</th>\n",
       "    </tr>\n",
       "  </thead>\n",
       "  <tbody>\n",
       "    <tr>\n",
       "      <th>0</th>\n",
       "      <td>5.1</td>\n",
       "      <td>3.5</td>\n",
       "      <td>1.4</td>\n",
       "      <td>0.2</td>\n",
       "      <td>Setosa</td>\n",
       "    </tr>\n",
       "    <tr>\n",
       "      <th>1</th>\n",
       "      <td>4.9</td>\n",
       "      <td>3.0</td>\n",
       "      <td>1.4</td>\n",
       "      <td>0.2</td>\n",
       "      <td>Setosa</td>\n",
       "    </tr>\n",
       "    <tr>\n",
       "      <th>2</th>\n",
       "      <td>4.7</td>\n",
       "      <td>3.2</td>\n",
       "      <td>1.3</td>\n",
       "      <td>0.2</td>\n",
       "      <td>Setosa</td>\n",
       "    </tr>\n",
       "    <tr>\n",
       "      <th>3</th>\n",
       "      <td>4.6</td>\n",
       "      <td>3.1</td>\n",
       "      <td>1.5</td>\n",
       "      <td>0.2</td>\n",
       "      <td>Setosa</td>\n",
       "    </tr>\n",
       "    <tr>\n",
       "      <th>4</th>\n",
       "      <td>5.0</td>\n",
       "      <td>3.6</td>\n",
       "      <td>1.4</td>\n",
       "      <td>0.2</td>\n",
       "      <td>Setosa</td>\n",
       "    </tr>\n",
       "    <tr>\n",
       "      <th>...</th>\n",
       "      <td>...</td>\n",
       "      <td>...</td>\n",
       "      <td>...</td>\n",
       "      <td>...</td>\n",
       "      <td>...</td>\n",
       "    </tr>\n",
       "    <tr>\n",
       "      <th>145</th>\n",
       "      <td>6.7</td>\n",
       "      <td>3.0</td>\n",
       "      <td>5.2</td>\n",
       "      <td>2.3</td>\n",
       "      <td>Virginica</td>\n",
       "    </tr>\n",
       "    <tr>\n",
       "      <th>146</th>\n",
       "      <td>6.3</td>\n",
       "      <td>2.5</td>\n",
       "      <td>5.0</td>\n",
       "      <td>1.9</td>\n",
       "      <td>Virginica</td>\n",
       "    </tr>\n",
       "    <tr>\n",
       "      <th>147</th>\n",
       "      <td>6.5</td>\n",
       "      <td>3.0</td>\n",
       "      <td>5.2</td>\n",
       "      <td>2.0</td>\n",
       "      <td>Virginica</td>\n",
       "    </tr>\n",
       "    <tr>\n",
       "      <th>148</th>\n",
       "      <td>6.2</td>\n",
       "      <td>3.4</td>\n",
       "      <td>5.4</td>\n",
       "      <td>2.3</td>\n",
       "      <td>Virginica</td>\n",
       "    </tr>\n",
       "    <tr>\n",
       "      <th>149</th>\n",
       "      <td>5.9</td>\n",
       "      <td>3.0</td>\n",
       "      <td>5.1</td>\n",
       "      <td>1.8</td>\n",
       "      <td>Virginica</td>\n",
       "    </tr>\n",
       "  </tbody>\n",
       "</table>\n",
       "<p>150 rows × 5 columns</p>\n",
       "</div>"
      ],
      "text/plain": [
       "     sepal.length  sepal.width  petal.length  petal.width    variety\n",
       "0             5.1          3.5           1.4          0.2     Setosa\n",
       "1             4.9          3.0           1.4          0.2     Setosa\n",
       "2             4.7          3.2           1.3          0.2     Setosa\n",
       "3             4.6          3.1           1.5          0.2     Setosa\n",
       "4             5.0          3.6           1.4          0.2     Setosa\n",
       "..            ...          ...           ...          ...        ...\n",
       "145           6.7          3.0           5.2          2.3  Virginica\n",
       "146           6.3          2.5           5.0          1.9  Virginica\n",
       "147           6.5          3.0           5.2          2.0  Virginica\n",
       "148           6.2          3.4           5.4          2.3  Virginica\n",
       "149           5.9          3.0           5.1          1.8  Virginica\n",
       "\n",
       "[150 rows x 5 columns]"
      ]
     },
     "execution_count": 4,
     "metadata": {},
     "output_type": "execute_result"
    }
   ],
   "source": [
    "iris = pd.read_csv(\n",
    "    \"https://gist.githubusercontent.com\"\n",
    "    \"/netj/8836201/raw/6f9306ad21398ea43cba4f7d537619d0e07d5ae3/iris.csv\"\n",
    ")\n",
    "iris"
   ]
  },
  {
   "cell_type": "markdown",
   "metadata": {
    "id": "blUiys7yMXs5"
   },
   "source": [
    "`DataFrame.info()`나 `.DataFrame.describe()` 함수로 간단한 데이터의 상태를 확인할 수 있습니다."
   ]
  },
  {
   "cell_type": "code",
   "execution_count": 5,
   "metadata": {
    "colab": {
     "base_uri": "https://localhost:8080/"
    },
    "executionInfo": {
     "elapsed": 265,
     "status": "ok",
     "timestamp": 1636510098052,
     "user": {
      "displayName": "Seunghwan Yang",
      "photoUrl": "https://lh3.googleusercontent.com/a/default-user=s64",
      "userId": "06508627432049251211"
     },
     "user_tz": -540
    },
    "id": "iL4UnXhxLvys",
    "outputId": "4096f1d5-cf86-42ac-c3bf-b69a2d4a2d0d"
   },
   "outputs": [
    {
     "name": "stdout",
     "output_type": "stream",
     "text": [
      "<class 'pandas.core.frame.DataFrame'>\n",
      "RangeIndex: 150 entries, 0 to 149\n",
      "Data columns (total 5 columns):\n",
      " #   Column        Non-Null Count  Dtype  \n",
      "---  ------        --------------  -----  \n",
      " 0   sepal.length  150 non-null    float64\n",
      " 1   sepal.width   150 non-null    float64\n",
      " 2   petal.length  150 non-null    float64\n",
      " 3   petal.width   150 non-null    float64\n",
      " 4   variety       150 non-null    object \n",
      "dtypes: float64(4), object(1)\n",
      "memory usage: 6.0+ KB\n"
     ]
    }
   ],
   "source": [
    "iris.info()"
   ]
  },
  {
   "cell_type": "code",
   "execution_count": 6,
   "metadata": {
    "colab": {
     "base_uri": "https://localhost:8080/",
     "height": 300
    },
    "executionInfo": {
     "elapsed": 318,
     "status": "ok",
     "timestamp": 1636510125604,
     "user": {
      "displayName": "Seunghwan Yang",
      "photoUrl": "https://lh3.googleusercontent.com/a/default-user=s64",
      "userId": "06508627432049251211"
     },
     "user_tz": -540
    },
    "id": "XtOrMsTuMaUR",
    "outputId": "48791379-3249-433b-eaac-4c891ed85f9d"
   },
   "outputs": [
    {
     "data": {
      "text/html": [
       "<div>\n",
       "<style scoped>\n",
       "    .dataframe tbody tr th:only-of-type {\n",
       "        vertical-align: middle;\n",
       "    }\n",
       "\n",
       "    .dataframe tbody tr th {\n",
       "        vertical-align: top;\n",
       "    }\n",
       "\n",
       "    .dataframe thead th {\n",
       "        text-align: right;\n",
       "    }\n",
       "</style>\n",
       "<table border=\"1\" class=\"dataframe\">\n",
       "  <thead>\n",
       "    <tr style=\"text-align: right;\">\n",
       "      <th></th>\n",
       "      <th>sepal.length</th>\n",
       "      <th>sepal.width</th>\n",
       "      <th>petal.length</th>\n",
       "      <th>petal.width</th>\n",
       "    </tr>\n",
       "  </thead>\n",
       "  <tbody>\n",
       "    <tr>\n",
       "      <th>count</th>\n",
       "      <td>150.000000</td>\n",
       "      <td>150.000000</td>\n",
       "      <td>150.000000</td>\n",
       "      <td>150.000000</td>\n",
       "    </tr>\n",
       "    <tr>\n",
       "      <th>mean</th>\n",
       "      <td>5.843333</td>\n",
       "      <td>3.057333</td>\n",
       "      <td>3.758000</td>\n",
       "      <td>1.199333</td>\n",
       "    </tr>\n",
       "    <tr>\n",
       "      <th>std</th>\n",
       "      <td>0.828066</td>\n",
       "      <td>0.435866</td>\n",
       "      <td>1.765298</td>\n",
       "      <td>0.762238</td>\n",
       "    </tr>\n",
       "    <tr>\n",
       "      <th>min</th>\n",
       "      <td>4.300000</td>\n",
       "      <td>2.000000</td>\n",
       "      <td>1.000000</td>\n",
       "      <td>0.100000</td>\n",
       "    </tr>\n",
       "    <tr>\n",
       "      <th>25%</th>\n",
       "      <td>5.100000</td>\n",
       "      <td>2.800000</td>\n",
       "      <td>1.600000</td>\n",
       "      <td>0.300000</td>\n",
       "    </tr>\n",
       "    <tr>\n",
       "      <th>50%</th>\n",
       "      <td>5.800000</td>\n",
       "      <td>3.000000</td>\n",
       "      <td>4.350000</td>\n",
       "      <td>1.300000</td>\n",
       "    </tr>\n",
       "    <tr>\n",
       "      <th>75%</th>\n",
       "      <td>6.400000</td>\n",
       "      <td>3.300000</td>\n",
       "      <td>5.100000</td>\n",
       "      <td>1.800000</td>\n",
       "    </tr>\n",
       "    <tr>\n",
       "      <th>max</th>\n",
       "      <td>7.900000</td>\n",
       "      <td>4.400000</td>\n",
       "      <td>6.900000</td>\n",
       "      <td>2.500000</td>\n",
       "    </tr>\n",
       "  </tbody>\n",
       "</table>\n",
       "</div>"
      ],
      "text/plain": [
       "       sepal.length  sepal.width  petal.length  petal.width\n",
       "count    150.000000   150.000000    150.000000   150.000000\n",
       "mean       5.843333     3.057333      3.758000     1.199333\n",
       "std        0.828066     0.435866      1.765298     0.762238\n",
       "min        4.300000     2.000000      1.000000     0.100000\n",
       "25%        5.100000     2.800000      1.600000     0.300000\n",
       "50%        5.800000     3.000000      4.350000     1.300000\n",
       "75%        6.400000     3.300000      5.100000     1.800000\n",
       "max        7.900000     4.400000      6.900000     2.500000"
      ]
     },
     "execution_count": 6,
     "metadata": {},
     "output_type": "execute_result"
    }
   ],
   "source": [
    "iris.describe()"
   ]
  },
  {
   "cell_type": "code",
   "execution_count": 7,
   "metadata": {
    "colab": {
     "base_uri": "https://localhost:8080/"
    },
    "executionInfo": {
     "elapsed": 287,
     "status": "ok",
     "timestamp": 1636510378575,
     "user": {
      "displayName": "Seunghwan Yang",
      "photoUrl": "https://lh3.googleusercontent.com/a/default-user=s64",
      "userId": "06508627432049251211"
     },
     "user_tz": -540
    },
    "id": "tFjr1TDWMfBF",
    "outputId": "5eb605de-e34a-4d19-ed24-945dba2cdff4"
   },
   "outputs": [
    {
     "data": {
      "text/plain": [
       "0         Setosa\n",
       "1         Setosa\n",
       "2         Setosa\n",
       "3         Setosa\n",
       "4         Setosa\n",
       "         ...    \n",
       "145    Virginica\n",
       "146    Virginica\n",
       "147    Virginica\n",
       "148    Virginica\n",
       "149    Virginica\n",
       "Name: variety, Length: 150, dtype: object"
      ]
     },
     "execution_count": 7,
     "metadata": {},
     "output_type": "execute_result"
    }
   ],
   "source": [
    "iris['variety']"
   ]
  },
  {
   "cell_type": "markdown",
   "metadata": {
    "id": "eD0d_Bn2NFOX"
   },
   "source": [
    "## 데이터의 자료형"
   ]
  },
  {
   "cell_type": "markdown",
   "metadata": {
    "id": "Gc0h8XNKNMCs"
   },
   "source": [
    "CSV는 단순한 텍스트 파일이므로, 숫자와 문자열의 구분이 되어있지 않습니다.\n",
    "pandas에서는 기본적으로 각 열의 데이터를 파악하고 적절한 자료형으로 바꿔 주려고 시도하지만, 다양한 예외적 상황 때문에 제대로 되지 않는 경우가 있습니다.\n",
    "또한 기본 자료형(int64, float64, object) 대신 메모리를 덜 차지하는 다른 자료형을 사용하거나, 범주형 데이터로 저장하기를 원할 수도 있습니다.\n",
    "그러한 경우 직접 처리해 주어야 합니다.\n",
    "\n",
    "데이터가 아주 큰 경우에는 차이가 많이 날 수 있습니다.\n",
    "예를 들어 붓꽃 데이터에서 float64 대신 float32를 사용하고, 문자열 대신 범주형 데이터를 사용하면 다음과 같습니다."
   ]
  },
  {
   "cell_type": "code",
   "execution_count": 8,
   "metadata": {
    "colab": {
     "base_uri": "https://localhost:8080/"
    },
    "executionInfo": {
     "elapsed": 294,
     "status": "ok",
     "timestamp": 1636510415777,
     "user": {
      "displayName": "Seunghwan Yang",
      "photoUrl": "https://lh3.googleusercontent.com/a/default-user=s64",
      "userId": "06508627432049251211"
     },
     "user_tz": -540
    },
    "id": "1KLXYxraMjQ7",
    "outputId": "6ddd3239-3363-4652-a2fb-c55a082c9e78"
   },
   "outputs": [
    {
     "name": "stdout",
     "output_type": "stream",
     "text": [
      "sepal.length    float64\n",
      "sepal.width     float64\n",
      "petal.length    float64\n",
      "petal.width     float64\n",
      "variety          object\n",
      "dtype: object\n",
      "Index            128\n",
      "sepal.length    1200\n",
      "sepal.width     1200\n",
      "petal.length    1200\n",
      "petal.width     1200\n",
      "variety         9800\n",
      "dtype: int64\n",
      "Total: 0.01 MB\n"
     ]
    }
   ],
   "source": [
    "def print_dataframe_size(df):\n",
    "    df_memory_usage = df.memory_usage(deep=True)\n",
    "    print(df_memory_usage)\n",
    "    print(f\"Total: {df_memory_usage.sum() / 1024 / 1024:.2f} MB\")\n",
    "\n",
    "large_iris = pd.concat([iris] * 20_000)\n",
    "print(iris.dtypes)\n",
    "print_dataframe_size(iris)"
   ]
  },
  {
   "cell_type": "code",
   "execution_count": 9,
   "metadata": {},
   "outputs": [
    {
     "data": {
      "text/html": [
       "<div>\n",
       "<style scoped>\n",
       "    .dataframe tbody tr th:only-of-type {\n",
       "        vertical-align: middle;\n",
       "    }\n",
       "\n",
       "    .dataframe tbody tr th {\n",
       "        vertical-align: top;\n",
       "    }\n",
       "\n",
       "    .dataframe thead th {\n",
       "        text-align: right;\n",
       "    }\n",
       "</style>\n",
       "<table border=\"1\" class=\"dataframe\">\n",
       "  <thead>\n",
       "    <tr style=\"text-align: right;\">\n",
       "      <th></th>\n",
       "      <th>sepal.length</th>\n",
       "      <th>sepal.width</th>\n",
       "      <th>petal.length</th>\n",
       "      <th>petal.width</th>\n",
       "      <th>variety</th>\n",
       "    </tr>\n",
       "  </thead>\n",
       "  <tbody>\n",
       "    <tr>\n",
       "      <th>0</th>\n",
       "      <td>5.1</td>\n",
       "      <td>3.5</td>\n",
       "      <td>1.4</td>\n",
       "      <td>0.2</td>\n",
       "      <td>Setosa</td>\n",
       "    </tr>\n",
       "    <tr>\n",
       "      <th>1</th>\n",
       "      <td>4.9</td>\n",
       "      <td>3.0</td>\n",
       "      <td>1.4</td>\n",
       "      <td>0.2</td>\n",
       "      <td>Setosa</td>\n",
       "    </tr>\n",
       "    <tr>\n",
       "      <th>2</th>\n",
       "      <td>4.7</td>\n",
       "      <td>3.2</td>\n",
       "      <td>1.3</td>\n",
       "      <td>0.2</td>\n",
       "      <td>Setosa</td>\n",
       "    </tr>\n",
       "    <tr>\n",
       "      <th>3</th>\n",
       "      <td>4.6</td>\n",
       "      <td>3.1</td>\n",
       "      <td>1.5</td>\n",
       "      <td>0.2</td>\n",
       "      <td>Setosa</td>\n",
       "    </tr>\n",
       "    <tr>\n",
       "      <th>4</th>\n",
       "      <td>5.0</td>\n",
       "      <td>3.6</td>\n",
       "      <td>1.4</td>\n",
       "      <td>0.2</td>\n",
       "      <td>Setosa</td>\n",
       "    </tr>\n",
       "    <tr>\n",
       "      <th>...</th>\n",
       "      <td>...</td>\n",
       "      <td>...</td>\n",
       "      <td>...</td>\n",
       "      <td>...</td>\n",
       "      <td>...</td>\n",
       "    </tr>\n",
       "    <tr>\n",
       "      <th>145</th>\n",
       "      <td>6.7</td>\n",
       "      <td>3.0</td>\n",
       "      <td>5.2</td>\n",
       "      <td>2.3</td>\n",
       "      <td>Virginica</td>\n",
       "    </tr>\n",
       "    <tr>\n",
       "      <th>146</th>\n",
       "      <td>6.3</td>\n",
       "      <td>2.5</td>\n",
       "      <td>5.0</td>\n",
       "      <td>1.9</td>\n",
       "      <td>Virginica</td>\n",
       "    </tr>\n",
       "    <tr>\n",
       "      <th>147</th>\n",
       "      <td>6.5</td>\n",
       "      <td>3.0</td>\n",
       "      <td>5.2</td>\n",
       "      <td>2.0</td>\n",
       "      <td>Virginica</td>\n",
       "    </tr>\n",
       "    <tr>\n",
       "      <th>148</th>\n",
       "      <td>6.2</td>\n",
       "      <td>3.4</td>\n",
       "      <td>5.4</td>\n",
       "      <td>2.3</td>\n",
       "      <td>Virginica</td>\n",
       "    </tr>\n",
       "    <tr>\n",
       "      <th>149</th>\n",
       "      <td>5.9</td>\n",
       "      <td>3.0</td>\n",
       "      <td>5.1</td>\n",
       "      <td>1.8</td>\n",
       "      <td>Virginica</td>\n",
       "    </tr>\n",
       "  </tbody>\n",
       "</table>\n",
       "<p>3000000 rows × 5 columns</p>\n",
       "</div>"
      ],
      "text/plain": [
       "     sepal.length  sepal.width  petal.length  petal.width    variety\n",
       "0             5.1          3.5           1.4          0.2     Setosa\n",
       "1             4.9          3.0           1.4          0.2     Setosa\n",
       "2             4.7          3.2           1.3          0.2     Setosa\n",
       "3             4.6          3.1           1.5          0.2     Setosa\n",
       "4             5.0          3.6           1.4          0.2     Setosa\n",
       "..            ...          ...           ...          ...        ...\n",
       "145           6.7          3.0           5.2          2.3  Virginica\n",
       "146           6.3          2.5           5.0          1.9  Virginica\n",
       "147           6.5          3.0           5.2          2.0  Virginica\n",
       "148           6.2          3.4           5.4          2.3  Virginica\n",
       "149           5.9          3.0           5.1          1.8  Virginica\n",
       "\n",
       "[3000000 rows x 5 columns]"
      ]
     },
     "execution_count": 9,
     "metadata": {},
     "output_type": "execute_result"
    }
   ],
   "source": [
    "large_iris"
   ]
  },
  {
   "cell_type": "code",
   "execution_count": 10,
   "metadata": {},
   "outputs": [
    {
     "name": "stdout",
     "output_type": "stream",
     "text": [
      "Index            24000000\n",
      "sepal.length     24000000\n",
      "sepal.width      24000000\n",
      "petal.length     24000000\n",
      "petal.width      24000000\n",
      "variety         196000000\n",
      "dtype: int64\n",
      "Total: 301.36 MB\n"
     ]
    }
   ],
   "source": [
    "print_dataframe_size(large_iris)"
   ]
  },
  {
   "cell_type": "code",
   "execution_count": 11,
   "metadata": {
    "colab": {
     "base_uri": "https://localhost:8080/"
    },
    "executionInfo": {
     "elapsed": 289,
     "status": "ok",
     "timestamp": 1636510452269,
     "user": {
      "displayName": "Seunghwan Yang",
      "photoUrl": "https://lh3.googleusercontent.com/a/default-user=s64",
      "userId": "06508627432049251211"
     },
     "user_tz": -540
    },
    "id": "GAko0uLhNQs0",
    "outputId": "d362f1e8-f0ac-4977-c13e-3088ae224fac"
   },
   "outputs": [
    {
     "name": "stdout",
     "output_type": "stream",
     "text": [
      "sepal.length    float32\n",
      "sepal.width     float32\n",
      "petal.length    float32\n",
      "petal.width     float32\n",
      "variety          object\n",
      "dtype: object\n",
      "Index            128\n",
      "sepal.length     600\n",
      "sepal.width      600\n",
      "petal.length     600\n",
      "petal.width      600\n",
      "variety         9800\n",
      "dtype: int64\n",
      "Total: 0.01 MB\n"
     ]
    }
   ],
   "source": [
    "iris_float32 = iris.astype(\"float32\", errors=\"ignore\")\n",
    "print(iris_float32.dtypes)\n",
    "print_dataframe_size(iris_float32)"
   ]
  },
  {
   "cell_type": "code",
   "execution_count": 12,
   "metadata": {
    "colab": {
     "base_uri": "https://localhost:8080/"
    },
    "executionInfo": {
     "elapsed": 310,
     "status": "ok",
     "timestamp": 1636510527199,
     "user": {
      "displayName": "Seunghwan Yang",
      "photoUrl": "https://lh3.googleusercontent.com/a/default-user=s64",
      "userId": "06508627432049251211"
     },
     "user_tz": -540
    },
    "id": "U4I0_dSTNTOA",
    "outputId": "78bbe2d8-c157-44af-db9b-817cceae6c08",
    "scrolled": true
   },
   "outputs": [
    {
     "name": "stdout",
     "output_type": "stream",
     "text": [
      "sepal.length     float32\n",
      "sepal.width      float32\n",
      "petal.length     float32\n",
      "petal.width      float32\n",
      "variety         category\n",
      "dtype: object\n",
      "Index           128\n",
      "sepal.length    600\n",
      "sepal.width     600\n",
      "petal.length    600\n",
      "petal.width     600\n",
      "variety         454\n",
      "dtype: int64\n",
      "Total: 0.00 MB\n"
     ]
    }
   ],
   "source": [
    "iris_categorical = iris_float32.astype({\"variety\": \"category\"})\n",
    "print(iris_categorical.dtypes)\n",
    "print_dataframe_size(iris_categorical)\n",
    "\n",
    "# See https://stackoverflow.com/questions/30601830/when-to-use-category-rather-than-object"
   ]
  },
  {
   "cell_type": "markdown",
   "metadata": {
    "id": "LocskSwdSfC_"
   },
   "source": [
    "## 결측치 처리"
   ]
  },
  {
   "cell_type": "markdown",
   "metadata": {
    "id": "eG8CBDogSfI1"
   },
   "source": [
    "데이터에 결측이 발생했을 경우, 여러 가지 방법으로 처리할 수 있습니다.\n",
    "\n",
    "1. 결정 트리 기반 알고리즘 등, 결측치가 존재해도 처리가 가능한 분석을 하려고 하는 경우, 그대로 둘 수 있습니다.\n",
    "2. 행이 순서대로 저장되면서 변화량이 크지 않은 경우, 즉 결측치의 위아래 근처 행과 연관이 많은 경우, 주위 값을 이용해서 메웁니다.\n",
    "3. 행의 순서가 데이터와 관계없는 경우, 결측치에 특별한 값(sentinel)을 주거나, 전체 데이터의 평균값 등 대표값을 일괄적으로 줄 수 있습니다."
   ]
  },
  {
   "cell_type": "code",
   "execution_count": 13,
   "metadata": {
    "executionInfo": {
     "elapsed": 298,
     "status": "ok",
     "timestamp": 1636510590182,
     "user": {
      "displayName": "Seunghwan Yang",
      "photoUrl": "https://lh3.googleusercontent.com/a/default-user=s64",
      "userId": "06508627432049251211"
     },
     "user_tz": -540
    },
    "id": "57F54lscThyX"
   },
   "outputs": [],
   "source": [
    "df = pd.read_excel('sample.xlsx', sheet_name='Sheet2')"
   ]
  },
  {
   "cell_type": "code",
   "execution_count": 14,
   "metadata": {
    "colab": {
     "base_uri": "https://localhost:8080/",
     "height": 582
    },
    "executionInfo": {
     "elapsed": 306,
     "status": "ok",
     "timestamp": 1636510604368,
     "user": {
      "displayName": "Seunghwan Yang",
      "photoUrl": "https://lh3.googleusercontent.com/a/default-user=s64",
      "userId": "06508627432049251211"
     },
     "user_tz": -540
    },
    "id": "ZvNyou2hTjFK",
    "outputId": "befd2f54-87ad-4aff-9f22-24da5c4bd559",
    "scrolled": true
   },
   "outputs": [
    {
     "data": {
      "text/html": [
       "<div>\n",
       "<style scoped>\n",
       "    .dataframe tbody tr th:only-of-type {\n",
       "        vertical-align: middle;\n",
       "    }\n",
       "\n",
       "    .dataframe tbody tr th {\n",
       "        vertical-align: top;\n",
       "    }\n",
       "\n",
       "    .dataframe thead th {\n",
       "        text-align: right;\n",
       "    }\n",
       "</style>\n",
       "<table border=\"1\" class=\"dataframe\">\n",
       "  <thead>\n",
       "    <tr style=\"text-align: right;\">\n",
       "      <th></th>\n",
       "      <th>X_ActualPosition</th>\n",
       "      <th>X_ActualVelocity</th>\n",
       "      <th>X_ActualAcceleration</th>\n",
       "      <th>X_SetPosition</th>\n",
       "      <th>X_SetVelocity</th>\n",
       "    </tr>\n",
       "  </thead>\n",
       "  <tbody>\n",
       "    <tr>\n",
       "      <th>0</th>\n",
       "      <td>184.0</td>\n",
       "      <td>-13.700</td>\n",
       "      <td>66.50</td>\n",
       "      <td>184.0</td>\n",
       "      <td>-13.90</td>\n",
       "    </tr>\n",
       "    <tr>\n",
       "      <th>1</th>\n",
       "      <td>NaN</td>\n",
       "      <td>-13.900</td>\n",
       "      <td>-33.50</td>\n",
       "      <td>182.0</td>\n",
       "      <td>-13.90</td>\n",
       "    </tr>\n",
       "    <tr>\n",
       "      <th>2</th>\n",
       "      <td>180.0</td>\n",
       "      <td>-13.800</td>\n",
       "      <td>110.00</td>\n",
       "      <td>180.0</td>\n",
       "      <td>-13.90</td>\n",
       "    </tr>\n",
       "    <tr>\n",
       "      <th>3</th>\n",
       "      <td>175.0</td>\n",
       "      <td>-13.800</td>\n",
       "      <td>22.80</td>\n",
       "      <td>175.0</td>\n",
       "      <td>-13.90</td>\n",
       "    </tr>\n",
       "    <tr>\n",
       "      <th>4</th>\n",
       "      <td>173.0</td>\n",
       "      <td>NaN</td>\n",
       "      <td>NaN</td>\n",
       "      <td>173.0</td>\n",
       "      <td>-13.90</td>\n",
       "    </tr>\n",
       "    <tr>\n",
       "      <th>5</th>\n",
       "      <td>161.0</td>\n",
       "      <td>-13.900</td>\n",
       "      <td>-8.50</td>\n",
       "      <td>161.0</td>\n",
       "      <td>-13.90</td>\n",
       "    </tr>\n",
       "    <tr>\n",
       "      <th>6</th>\n",
       "      <td>159.0</td>\n",
       "      <td>-13.700</td>\n",
       "      <td>22.80</td>\n",
       "      <td>159.0</td>\n",
       "      <td>-13.90</td>\n",
       "    </tr>\n",
       "    <tr>\n",
       "      <th>7</th>\n",
       "      <td>157.0</td>\n",
       "      <td>NaN</td>\n",
       "      <td>NaN</td>\n",
       "      <td>157.0</td>\n",
       "      <td>-13.90</td>\n",
       "    </tr>\n",
       "    <tr>\n",
       "      <th>8</th>\n",
       "      <td>155.0</td>\n",
       "      <td>-13.200</td>\n",
       "      <td>192.00</td>\n",
       "      <td>155.0</td>\n",
       "      <td>-10.30</td>\n",
       "    </tr>\n",
       "    <tr>\n",
       "      <th>9</th>\n",
       "      <td>155.0</td>\n",
       "      <td>3.925</td>\n",
       "      <td>NaN</td>\n",
       "      <td>NaN</td>\n",
       "      <td>NaN</td>\n",
       "    </tr>\n",
       "    <tr>\n",
       "      <th>10</th>\n",
       "      <td>149.0</td>\n",
       "      <td>-1.820</td>\n",
       "      <td>-64.70</td>\n",
       "      <td>149.0</td>\n",
       "      <td>-1.64</td>\n",
       "    </tr>\n",
       "    <tr>\n",
       "      <th>11</th>\n",
       "      <td>148.0</td>\n",
       "      <td>-1.200</td>\n",
       "      <td>54.00</td>\n",
       "      <td>148.0</td>\n",
       "      <td>-1.33</td>\n",
       "    </tr>\n",
       "    <tr>\n",
       "      <th>12</th>\n",
       "      <td>148.0</td>\n",
       "      <td>-1.070</td>\n",
       "      <td>NaN</td>\n",
       "      <td>148.0</td>\n",
       "      <td>NaN</td>\n",
       "    </tr>\n",
       "    <tr>\n",
       "      <th>13</th>\n",
       "      <td>147.0</td>\n",
       "      <td>-0.470</td>\n",
       "      <td>-8.50</td>\n",
       "      <td>147.0</td>\n",
       "      <td>-0.49</td>\n",
       "    </tr>\n",
       "    <tr>\n",
       "      <th>14</th>\n",
       "      <td>147.0</td>\n",
       "      <td>-0.050</td>\n",
       "      <td>10.25</td>\n",
       "      <td>147.0</td>\n",
       "      <td>0.06</td>\n",
       "    </tr>\n",
       "    <tr>\n",
       "      <th>15</th>\n",
       "      <td>149.0</td>\n",
       "      <td>6.050</td>\n",
       "      <td>10.25</td>\n",
       "      <td>149.0</td>\n",
       "      <td>NaN</td>\n",
       "    </tr>\n",
       "    <tr>\n",
       "      <th>16</th>\n",
       "      <td>149.0</td>\n",
       "      <td>7.100</td>\n",
       "      <td>79.00</td>\n",
       "      <td>149.0</td>\n",
       "      <td>7.05</td>\n",
       "    </tr>\n",
       "  </tbody>\n",
       "</table>\n",
       "</div>"
      ],
      "text/plain": [
       "    X_ActualPosition  X_ActualVelocity  X_ActualAcceleration  X_SetPosition  \\\n",
       "0              184.0           -13.700                 66.50          184.0   \n",
       "1                NaN           -13.900                -33.50          182.0   \n",
       "2              180.0           -13.800                110.00          180.0   \n",
       "3              175.0           -13.800                 22.80          175.0   \n",
       "4              173.0               NaN                   NaN          173.0   \n",
       "5              161.0           -13.900                 -8.50          161.0   \n",
       "6              159.0           -13.700                 22.80          159.0   \n",
       "7              157.0               NaN                   NaN          157.0   \n",
       "8              155.0           -13.200                192.00          155.0   \n",
       "9              155.0             3.925                   NaN            NaN   \n",
       "10             149.0            -1.820                -64.70          149.0   \n",
       "11             148.0            -1.200                 54.00          148.0   \n",
       "12             148.0            -1.070                   NaN          148.0   \n",
       "13             147.0            -0.470                 -8.50          147.0   \n",
       "14             147.0            -0.050                 10.25          147.0   \n",
       "15             149.0             6.050                 10.25          149.0   \n",
       "16             149.0             7.100                 79.00          149.0   \n",
       "\n",
       "    X_SetVelocity  \n",
       "0          -13.90  \n",
       "1          -13.90  \n",
       "2          -13.90  \n",
       "3          -13.90  \n",
       "4          -13.90  \n",
       "5          -13.90  \n",
       "6          -13.90  \n",
       "7          -13.90  \n",
       "8          -10.30  \n",
       "9             NaN  \n",
       "10          -1.64  \n",
       "11          -1.33  \n",
       "12            NaN  \n",
       "13          -0.49  \n",
       "14           0.06  \n",
       "15            NaN  \n",
       "16           7.05  "
      ]
     },
     "execution_count": 14,
     "metadata": {},
     "output_type": "execute_result"
    }
   ],
   "source": [
    "df"
   ]
  },
  {
   "cell_type": "code",
   "execution_count": 15,
   "metadata": {
    "colab": {
     "base_uri": "https://localhost:8080/"
    },
    "executionInfo": {
     "elapsed": 6,
     "status": "ok",
     "timestamp": 1636455156379,
     "user": {
      "displayName": "Seunghwan Yang",
      "photoUrl": "https://lh3.googleusercontent.com/a/default-user=s64",
      "userId": "06508627432049251211"
     },
     "user_tz": -540
    },
    "id": "y3ikXOdGNozx",
    "outputId": "afc58a8a-6abb-486c-8bb0-4da1e297e32c"
   },
   "outputs": [
    {
     "data": {
      "text/plain": [
       "X_ActualPosition        1\n",
       "X_ActualVelocity        2\n",
       "X_ActualAcceleration    4\n",
       "X_SetPosition           1\n",
       "X_SetVelocity           3\n",
       "dtype: int64"
      ]
     },
     "execution_count": 15,
     "metadata": {},
     "output_type": "execute_result"
    }
   ],
   "source": [
    "df.isnull().sum()"
   ]
  },
  {
   "cell_type": "markdown",
   "metadata": {
    "id": "9P59mjhfV8Nj"
   },
   "source": [
    "### 결측치 제거"
   ]
  },
  {
   "cell_type": "code",
   "execution_count": 16,
   "metadata": {},
   "outputs": [
    {
     "data": {
      "text/html": [
       "<div>\n",
       "<style scoped>\n",
       "    .dataframe tbody tr th:only-of-type {\n",
       "        vertical-align: middle;\n",
       "    }\n",
       "\n",
       "    .dataframe tbody tr th {\n",
       "        vertical-align: top;\n",
       "    }\n",
       "\n",
       "    .dataframe thead th {\n",
       "        text-align: right;\n",
       "    }\n",
       "</style>\n",
       "<table border=\"1\" class=\"dataframe\">\n",
       "  <thead>\n",
       "    <tr style=\"text-align: right;\">\n",
       "      <th></th>\n",
       "      <th>X_ActualPosition</th>\n",
       "      <th>X_ActualVelocity</th>\n",
       "      <th>X_ActualAcceleration</th>\n",
       "      <th>X_SetPosition</th>\n",
       "      <th>X_SetVelocity</th>\n",
       "    </tr>\n",
       "  </thead>\n",
       "  <tbody>\n",
       "    <tr>\n",
       "      <th>0</th>\n",
       "      <td>184.0</td>\n",
       "      <td>-13.7</td>\n",
       "      <td>66.5</td>\n",
       "      <td>184.0</td>\n",
       "      <td>-13.9</td>\n",
       "    </tr>\n",
       "    <tr>\n",
       "      <th>1</th>\n",
       "      <td>NaN</td>\n",
       "      <td>-13.9</td>\n",
       "      <td>-33.5</td>\n",
       "      <td>182.0</td>\n",
       "      <td>-13.9</td>\n",
       "    </tr>\n",
       "    <tr>\n",
       "      <th>2</th>\n",
       "      <td>180.0</td>\n",
       "      <td>-13.8</td>\n",
       "      <td>110.0</td>\n",
       "      <td>180.0</td>\n",
       "      <td>-13.9</td>\n",
       "    </tr>\n",
       "    <tr>\n",
       "      <th>3</th>\n",
       "      <td>175.0</td>\n",
       "      <td>-13.8</td>\n",
       "      <td>22.8</td>\n",
       "      <td>175.0</td>\n",
       "      <td>-13.9</td>\n",
       "    </tr>\n",
       "    <tr>\n",
       "      <th>4</th>\n",
       "      <td>173.0</td>\n",
       "      <td>NaN</td>\n",
       "      <td>NaN</td>\n",
       "      <td>173.0</td>\n",
       "      <td>-13.9</td>\n",
       "    </tr>\n",
       "  </tbody>\n",
       "</table>\n",
       "</div>"
      ],
      "text/plain": [
       "   X_ActualPosition  X_ActualVelocity  X_ActualAcceleration  X_SetPosition  \\\n",
       "0             184.0             -13.7                  66.5          184.0   \n",
       "1               NaN             -13.9                 -33.5          182.0   \n",
       "2             180.0             -13.8                 110.0          180.0   \n",
       "3             175.0             -13.8                  22.8          175.0   \n",
       "4             173.0               NaN                   NaN          173.0   \n",
       "\n",
       "   X_SetVelocity  \n",
       "0          -13.9  \n",
       "1          -13.9  \n",
       "2          -13.9  \n",
       "3          -13.9  \n",
       "4          -13.9  "
      ]
     },
     "execution_count": 16,
     "metadata": {},
     "output_type": "execute_result"
    }
   ],
   "source": [
    "df.head()"
   ]
  },
  {
   "cell_type": "code",
   "execution_count": 17,
   "metadata": {
    "colab": {
     "base_uri": "https://localhost:8080/",
     "height": 394
    },
    "executionInfo": {
     "elapsed": 279,
     "status": "ok",
     "timestamp": 1636510689011,
     "user": {
      "displayName": "Seunghwan Yang",
      "photoUrl": "https://lh3.googleusercontent.com/a/default-user=s64",
      "userId": "06508627432049251211"
     },
     "user_tz": -540
    },
    "id": "Rco7r3UySlAq",
    "outputId": "a9d7c388-d884-48a1-b4ab-a24a3bb39af4"
   },
   "outputs": [
    {
     "data": {
      "text/html": [
       "<div>\n",
       "<style scoped>\n",
       "    .dataframe tbody tr th:only-of-type {\n",
       "        vertical-align: middle;\n",
       "    }\n",
       "\n",
       "    .dataframe tbody tr th {\n",
       "        vertical-align: top;\n",
       "    }\n",
       "\n",
       "    .dataframe thead th {\n",
       "        text-align: right;\n",
       "    }\n",
       "</style>\n",
       "<table border=\"1\" class=\"dataframe\">\n",
       "  <thead>\n",
       "    <tr style=\"text-align: right;\">\n",
       "      <th></th>\n",
       "      <th>X_ActualPosition</th>\n",
       "      <th>X_ActualVelocity</th>\n",
       "      <th>X_ActualAcceleration</th>\n",
       "      <th>X_SetPosition</th>\n",
       "      <th>X_SetVelocity</th>\n",
       "    </tr>\n",
       "  </thead>\n",
       "  <tbody>\n",
       "    <tr>\n",
       "      <th>0</th>\n",
       "      <td>184.0</td>\n",
       "      <td>-13.70</td>\n",
       "      <td>66.50</td>\n",
       "      <td>184.0</td>\n",
       "      <td>-13.90</td>\n",
       "    </tr>\n",
       "    <tr>\n",
       "      <th>2</th>\n",
       "      <td>180.0</td>\n",
       "      <td>-13.80</td>\n",
       "      <td>110.00</td>\n",
       "      <td>180.0</td>\n",
       "      <td>-13.90</td>\n",
       "    </tr>\n",
       "    <tr>\n",
       "      <th>3</th>\n",
       "      <td>175.0</td>\n",
       "      <td>-13.80</td>\n",
       "      <td>22.80</td>\n",
       "      <td>175.0</td>\n",
       "      <td>-13.90</td>\n",
       "    </tr>\n",
       "    <tr>\n",
       "      <th>5</th>\n",
       "      <td>161.0</td>\n",
       "      <td>-13.90</td>\n",
       "      <td>-8.50</td>\n",
       "      <td>161.0</td>\n",
       "      <td>-13.90</td>\n",
       "    </tr>\n",
       "    <tr>\n",
       "      <th>6</th>\n",
       "      <td>159.0</td>\n",
       "      <td>-13.70</td>\n",
       "      <td>22.80</td>\n",
       "      <td>159.0</td>\n",
       "      <td>-13.90</td>\n",
       "    </tr>\n",
       "    <tr>\n",
       "      <th>8</th>\n",
       "      <td>155.0</td>\n",
       "      <td>-13.20</td>\n",
       "      <td>192.00</td>\n",
       "      <td>155.0</td>\n",
       "      <td>-10.30</td>\n",
       "    </tr>\n",
       "    <tr>\n",
       "      <th>10</th>\n",
       "      <td>149.0</td>\n",
       "      <td>-1.82</td>\n",
       "      <td>-64.70</td>\n",
       "      <td>149.0</td>\n",
       "      <td>-1.64</td>\n",
       "    </tr>\n",
       "    <tr>\n",
       "      <th>11</th>\n",
       "      <td>148.0</td>\n",
       "      <td>-1.20</td>\n",
       "      <td>54.00</td>\n",
       "      <td>148.0</td>\n",
       "      <td>-1.33</td>\n",
       "    </tr>\n",
       "    <tr>\n",
       "      <th>13</th>\n",
       "      <td>147.0</td>\n",
       "      <td>-0.47</td>\n",
       "      <td>-8.50</td>\n",
       "      <td>147.0</td>\n",
       "      <td>-0.49</td>\n",
       "    </tr>\n",
       "    <tr>\n",
       "      <th>14</th>\n",
       "      <td>147.0</td>\n",
       "      <td>-0.05</td>\n",
       "      <td>10.25</td>\n",
       "      <td>147.0</td>\n",
       "      <td>0.06</td>\n",
       "    </tr>\n",
       "    <tr>\n",
       "      <th>16</th>\n",
       "      <td>149.0</td>\n",
       "      <td>7.10</td>\n",
       "      <td>79.00</td>\n",
       "      <td>149.0</td>\n",
       "      <td>7.05</td>\n",
       "    </tr>\n",
       "  </tbody>\n",
       "</table>\n",
       "</div>"
      ],
      "text/plain": [
       "    X_ActualPosition  X_ActualVelocity  X_ActualAcceleration  X_SetPosition  \\\n",
       "0              184.0            -13.70                 66.50          184.0   \n",
       "2              180.0            -13.80                110.00          180.0   \n",
       "3              175.0            -13.80                 22.80          175.0   \n",
       "5              161.0            -13.90                 -8.50          161.0   \n",
       "6              159.0            -13.70                 22.80          159.0   \n",
       "8              155.0            -13.20                192.00          155.0   \n",
       "10             149.0             -1.82                -64.70          149.0   \n",
       "11             148.0             -1.20                 54.00          148.0   \n",
       "13             147.0             -0.47                 -8.50          147.0   \n",
       "14             147.0             -0.05                 10.25          147.0   \n",
       "16             149.0              7.10                 79.00          149.0   \n",
       "\n",
       "    X_SetVelocity  \n",
       "0          -13.90  \n",
       "2          -13.90  \n",
       "3          -13.90  \n",
       "5          -13.90  \n",
       "6          -13.90  \n",
       "8          -10.30  \n",
       "10          -1.64  \n",
       "11          -1.33  \n",
       "13          -0.49  \n",
       "14           0.06  \n",
       "16           7.05  "
      ]
     },
     "execution_count": 17,
     "metadata": {},
     "output_type": "execute_result"
    }
   ],
   "source": [
    "df.dropna()"
   ]
  },
  {
   "cell_type": "code",
   "execution_count": 18,
   "metadata": {
    "colab": {
     "base_uri": "https://localhost:8080/",
     "height": 565
    },
    "executionInfo": {
     "elapsed": 314,
     "status": "ok",
     "timestamp": 1636510739488,
     "user": {
      "displayName": "Seunghwan Yang",
      "photoUrl": "https://lh3.googleusercontent.com/a/default-user=s64",
      "userId": "06508627432049251211"
     },
     "user_tz": -540
    },
    "id": "Ghbr7fLrTvBW",
    "outputId": "91bf691b-7d62-4435-bf58-aaed3376ae71"
   },
   "outputs": [
    {
     "data": {
      "text/html": [
       "<div>\n",
       "<style scoped>\n",
       "    .dataframe tbody tr th:only-of-type {\n",
       "        vertical-align: middle;\n",
       "    }\n",
       "\n",
       "    .dataframe tbody tr th {\n",
       "        vertical-align: top;\n",
       "    }\n",
       "\n",
       "    .dataframe thead th {\n",
       "        text-align: right;\n",
       "    }\n",
       "</style>\n",
       "<table border=\"1\" class=\"dataframe\">\n",
       "  <thead>\n",
       "    <tr style=\"text-align: right;\">\n",
       "      <th></th>\n",
       "    </tr>\n",
       "  </thead>\n",
       "  <tbody>\n",
       "    <tr>\n",
       "      <th>0</th>\n",
       "    </tr>\n",
       "    <tr>\n",
       "      <th>1</th>\n",
       "    </tr>\n",
       "    <tr>\n",
       "      <th>2</th>\n",
       "    </tr>\n",
       "    <tr>\n",
       "      <th>3</th>\n",
       "    </tr>\n",
       "    <tr>\n",
       "      <th>4</th>\n",
       "    </tr>\n",
       "    <tr>\n",
       "      <th>5</th>\n",
       "    </tr>\n",
       "    <tr>\n",
       "      <th>6</th>\n",
       "    </tr>\n",
       "    <tr>\n",
       "      <th>7</th>\n",
       "    </tr>\n",
       "    <tr>\n",
       "      <th>8</th>\n",
       "    </tr>\n",
       "    <tr>\n",
       "      <th>9</th>\n",
       "    </tr>\n",
       "    <tr>\n",
       "      <th>10</th>\n",
       "    </tr>\n",
       "    <tr>\n",
       "      <th>11</th>\n",
       "    </tr>\n",
       "    <tr>\n",
       "      <th>12</th>\n",
       "    </tr>\n",
       "    <tr>\n",
       "      <th>13</th>\n",
       "    </tr>\n",
       "    <tr>\n",
       "      <th>14</th>\n",
       "    </tr>\n",
       "    <tr>\n",
       "      <th>15</th>\n",
       "    </tr>\n",
       "    <tr>\n",
       "      <th>16</th>\n",
       "    </tr>\n",
       "  </tbody>\n",
       "</table>\n",
       "</div>"
      ],
      "text/plain": [
       "Empty DataFrame\n",
       "Columns: []\n",
       "Index: [0, 1, 2, 3, 4, 5, 6, 7, 8, 9, 10, 11, 12, 13, 14, 15, 16]"
      ]
     },
     "execution_count": 18,
     "metadata": {},
     "output_type": "execute_result"
    }
   ],
   "source": [
    "df.dropna(axis=1)"
   ]
  },
  {
   "cell_type": "code",
   "execution_count": 19,
   "metadata": {
    "colab": {
     "base_uri": "https://localhost:8080/",
     "height": 551
    },
    "executionInfo": {
     "elapsed": 296,
     "status": "ok",
     "timestamp": 1636510795324,
     "user": {
      "displayName": "Seunghwan Yang",
      "photoUrl": "https://lh3.googleusercontent.com/a/default-user=s64",
      "userId": "06508627432049251211"
     },
     "user_tz": -540
    },
    "id": "wOh5IEIxT819",
    "outputId": "a0d16ed0-4ac6-4f89-cc30-75636f55fcae"
   },
   "outputs": [
    {
     "data": {
      "text/html": [
       "<div>\n",
       "<style scoped>\n",
       "    .dataframe tbody tr th:only-of-type {\n",
       "        vertical-align: middle;\n",
       "    }\n",
       "\n",
       "    .dataframe tbody tr th {\n",
       "        vertical-align: top;\n",
       "    }\n",
       "\n",
       "    .dataframe thead th {\n",
       "        text-align: right;\n",
       "    }\n",
       "</style>\n",
       "<table border=\"1\" class=\"dataframe\">\n",
       "  <thead>\n",
       "    <tr style=\"text-align: right;\">\n",
       "      <th></th>\n",
       "      <th>X_ActualPosition</th>\n",
       "      <th>X_ActualVelocity</th>\n",
       "      <th>X_ActualAcceleration</th>\n",
       "      <th>X_SetPosition</th>\n",
       "      <th>X_SetVelocity</th>\n",
       "    </tr>\n",
       "  </thead>\n",
       "  <tbody>\n",
       "    <tr>\n",
       "      <th>0</th>\n",
       "      <td>184.0</td>\n",
       "      <td>-13.70</td>\n",
       "      <td>66.50</td>\n",
       "      <td>184.0</td>\n",
       "      <td>-13.90</td>\n",
       "    </tr>\n",
       "    <tr>\n",
       "      <th>1</th>\n",
       "      <td>NaN</td>\n",
       "      <td>-13.90</td>\n",
       "      <td>-33.50</td>\n",
       "      <td>182.0</td>\n",
       "      <td>-13.90</td>\n",
       "    </tr>\n",
       "    <tr>\n",
       "      <th>2</th>\n",
       "      <td>180.0</td>\n",
       "      <td>-13.80</td>\n",
       "      <td>110.00</td>\n",
       "      <td>180.0</td>\n",
       "      <td>-13.90</td>\n",
       "    </tr>\n",
       "    <tr>\n",
       "      <th>3</th>\n",
       "      <td>175.0</td>\n",
       "      <td>-13.80</td>\n",
       "      <td>22.80</td>\n",
       "      <td>175.0</td>\n",
       "      <td>-13.90</td>\n",
       "    </tr>\n",
       "    <tr>\n",
       "      <th>4</th>\n",
       "      <td>173.0</td>\n",
       "      <td>NaN</td>\n",
       "      <td>NaN</td>\n",
       "      <td>173.0</td>\n",
       "      <td>-13.90</td>\n",
       "    </tr>\n",
       "    <tr>\n",
       "      <th>5</th>\n",
       "      <td>161.0</td>\n",
       "      <td>-13.90</td>\n",
       "      <td>-8.50</td>\n",
       "      <td>161.0</td>\n",
       "      <td>-13.90</td>\n",
       "    </tr>\n",
       "    <tr>\n",
       "      <th>6</th>\n",
       "      <td>159.0</td>\n",
       "      <td>-13.70</td>\n",
       "      <td>22.80</td>\n",
       "      <td>159.0</td>\n",
       "      <td>-13.90</td>\n",
       "    </tr>\n",
       "    <tr>\n",
       "      <th>7</th>\n",
       "      <td>157.0</td>\n",
       "      <td>NaN</td>\n",
       "      <td>NaN</td>\n",
       "      <td>157.0</td>\n",
       "      <td>-13.90</td>\n",
       "    </tr>\n",
       "    <tr>\n",
       "      <th>8</th>\n",
       "      <td>155.0</td>\n",
       "      <td>-13.20</td>\n",
       "      <td>192.00</td>\n",
       "      <td>155.0</td>\n",
       "      <td>-10.30</td>\n",
       "    </tr>\n",
       "    <tr>\n",
       "      <th>10</th>\n",
       "      <td>149.0</td>\n",
       "      <td>-1.82</td>\n",
       "      <td>-64.70</td>\n",
       "      <td>149.0</td>\n",
       "      <td>-1.64</td>\n",
       "    </tr>\n",
       "    <tr>\n",
       "      <th>11</th>\n",
       "      <td>148.0</td>\n",
       "      <td>-1.20</td>\n",
       "      <td>54.00</td>\n",
       "      <td>148.0</td>\n",
       "      <td>-1.33</td>\n",
       "    </tr>\n",
       "    <tr>\n",
       "      <th>12</th>\n",
       "      <td>148.0</td>\n",
       "      <td>-1.07</td>\n",
       "      <td>NaN</td>\n",
       "      <td>148.0</td>\n",
       "      <td>NaN</td>\n",
       "    </tr>\n",
       "    <tr>\n",
       "      <th>13</th>\n",
       "      <td>147.0</td>\n",
       "      <td>-0.47</td>\n",
       "      <td>-8.50</td>\n",
       "      <td>147.0</td>\n",
       "      <td>-0.49</td>\n",
       "    </tr>\n",
       "    <tr>\n",
       "      <th>14</th>\n",
       "      <td>147.0</td>\n",
       "      <td>-0.05</td>\n",
       "      <td>10.25</td>\n",
       "      <td>147.0</td>\n",
       "      <td>0.06</td>\n",
       "    </tr>\n",
       "    <tr>\n",
       "      <th>15</th>\n",
       "      <td>149.0</td>\n",
       "      <td>6.05</td>\n",
       "      <td>10.25</td>\n",
       "      <td>149.0</td>\n",
       "      <td>NaN</td>\n",
       "    </tr>\n",
       "    <tr>\n",
       "      <th>16</th>\n",
       "      <td>149.0</td>\n",
       "      <td>7.10</td>\n",
       "      <td>79.00</td>\n",
       "      <td>149.0</td>\n",
       "      <td>7.05</td>\n",
       "    </tr>\n",
       "  </tbody>\n",
       "</table>\n",
       "</div>"
      ],
      "text/plain": [
       "    X_ActualPosition  X_ActualVelocity  X_ActualAcceleration  X_SetPosition  \\\n",
       "0              184.0            -13.70                 66.50          184.0   \n",
       "1                NaN            -13.90                -33.50          182.0   \n",
       "2              180.0            -13.80                110.00          180.0   \n",
       "3              175.0            -13.80                 22.80          175.0   \n",
       "4              173.0               NaN                   NaN          173.0   \n",
       "5              161.0            -13.90                 -8.50          161.0   \n",
       "6              159.0            -13.70                 22.80          159.0   \n",
       "7              157.0               NaN                   NaN          157.0   \n",
       "8              155.0            -13.20                192.00          155.0   \n",
       "10             149.0             -1.82                -64.70          149.0   \n",
       "11             148.0             -1.20                 54.00          148.0   \n",
       "12             148.0             -1.07                   NaN          148.0   \n",
       "13             147.0             -0.47                 -8.50          147.0   \n",
       "14             147.0             -0.05                 10.25          147.0   \n",
       "15             149.0              6.05                 10.25          149.0   \n",
       "16             149.0              7.10                 79.00          149.0   \n",
       "\n",
       "    X_SetVelocity  \n",
       "0          -13.90  \n",
       "1          -13.90  \n",
       "2          -13.90  \n",
       "3          -13.90  \n",
       "4          -13.90  \n",
       "5          -13.90  \n",
       "6          -13.90  \n",
       "7          -13.90  \n",
       "8          -10.30  \n",
       "10          -1.64  \n",
       "11          -1.33  \n",
       "12            NaN  \n",
       "13          -0.49  \n",
       "14           0.06  \n",
       "15            NaN  \n",
       "16           7.05  "
      ]
     },
     "execution_count": 19,
     "metadata": {},
     "output_type": "execute_result"
    }
   ],
   "source": [
    "df.dropna(thresh=3) # 값이 3개 이상인 데이터만 남김"
   ]
  },
  {
   "cell_type": "code",
   "execution_count": 20,
   "metadata": {
    "colab": {
     "base_uri": "https://localhost:8080/",
     "height": 582
    },
    "executionInfo": {
     "elapsed": 287,
     "status": "ok",
     "timestamp": 1636510859828,
     "user": {
      "displayName": "Seunghwan Yang",
      "photoUrl": "https://lh3.googleusercontent.com/a/default-user=s64",
      "userId": "06508627432049251211"
     },
     "user_tz": -540
    },
    "id": "a3vvjFRNU7G-",
    "outputId": "e90f479b-d0a2-4104-8b4b-4fcd11106ed6"
   },
   "outputs": [
    {
     "data": {
      "text/html": [
       "<div>\n",
       "<style scoped>\n",
       "    .dataframe tbody tr th:only-of-type {\n",
       "        vertical-align: middle;\n",
       "    }\n",
       "\n",
       "    .dataframe tbody tr th {\n",
       "        vertical-align: top;\n",
       "    }\n",
       "\n",
       "    .dataframe thead th {\n",
       "        text-align: right;\n",
       "    }\n",
       "</style>\n",
       "<table border=\"1\" class=\"dataframe\">\n",
       "  <thead>\n",
       "    <tr style=\"text-align: right;\">\n",
       "      <th></th>\n",
       "      <th>X_ActualPosition</th>\n",
       "      <th>X_ActualVelocity</th>\n",
       "      <th>X_SetPosition</th>\n",
       "    </tr>\n",
       "  </thead>\n",
       "  <tbody>\n",
       "    <tr>\n",
       "      <th>0</th>\n",
       "      <td>184.0</td>\n",
       "      <td>-13.700</td>\n",
       "      <td>184.0</td>\n",
       "    </tr>\n",
       "    <tr>\n",
       "      <th>1</th>\n",
       "      <td>NaN</td>\n",
       "      <td>-13.900</td>\n",
       "      <td>182.0</td>\n",
       "    </tr>\n",
       "    <tr>\n",
       "      <th>2</th>\n",
       "      <td>180.0</td>\n",
       "      <td>-13.800</td>\n",
       "      <td>180.0</td>\n",
       "    </tr>\n",
       "    <tr>\n",
       "      <th>3</th>\n",
       "      <td>175.0</td>\n",
       "      <td>-13.800</td>\n",
       "      <td>175.0</td>\n",
       "    </tr>\n",
       "    <tr>\n",
       "      <th>4</th>\n",
       "      <td>173.0</td>\n",
       "      <td>NaN</td>\n",
       "      <td>173.0</td>\n",
       "    </tr>\n",
       "    <tr>\n",
       "      <th>5</th>\n",
       "      <td>161.0</td>\n",
       "      <td>-13.900</td>\n",
       "      <td>161.0</td>\n",
       "    </tr>\n",
       "    <tr>\n",
       "      <th>6</th>\n",
       "      <td>159.0</td>\n",
       "      <td>-13.700</td>\n",
       "      <td>159.0</td>\n",
       "    </tr>\n",
       "    <tr>\n",
       "      <th>7</th>\n",
       "      <td>157.0</td>\n",
       "      <td>NaN</td>\n",
       "      <td>157.0</td>\n",
       "    </tr>\n",
       "    <tr>\n",
       "      <th>8</th>\n",
       "      <td>155.0</td>\n",
       "      <td>-13.200</td>\n",
       "      <td>155.0</td>\n",
       "    </tr>\n",
       "    <tr>\n",
       "      <th>9</th>\n",
       "      <td>155.0</td>\n",
       "      <td>3.925</td>\n",
       "      <td>NaN</td>\n",
       "    </tr>\n",
       "    <tr>\n",
       "      <th>10</th>\n",
       "      <td>149.0</td>\n",
       "      <td>-1.820</td>\n",
       "      <td>149.0</td>\n",
       "    </tr>\n",
       "    <tr>\n",
       "      <th>11</th>\n",
       "      <td>148.0</td>\n",
       "      <td>-1.200</td>\n",
       "      <td>148.0</td>\n",
       "    </tr>\n",
       "    <tr>\n",
       "      <th>12</th>\n",
       "      <td>148.0</td>\n",
       "      <td>-1.070</td>\n",
       "      <td>148.0</td>\n",
       "    </tr>\n",
       "    <tr>\n",
       "      <th>13</th>\n",
       "      <td>147.0</td>\n",
       "      <td>-0.470</td>\n",
       "      <td>147.0</td>\n",
       "    </tr>\n",
       "    <tr>\n",
       "      <th>14</th>\n",
       "      <td>147.0</td>\n",
       "      <td>-0.050</td>\n",
       "      <td>147.0</td>\n",
       "    </tr>\n",
       "    <tr>\n",
       "      <th>15</th>\n",
       "      <td>149.0</td>\n",
       "      <td>6.050</td>\n",
       "      <td>149.0</td>\n",
       "    </tr>\n",
       "    <tr>\n",
       "      <th>16</th>\n",
       "      <td>149.0</td>\n",
       "      <td>7.100</td>\n",
       "      <td>149.0</td>\n",
       "    </tr>\n",
       "  </tbody>\n",
       "</table>\n",
       "</div>"
      ],
      "text/plain": [
       "    X_ActualPosition  X_ActualVelocity  X_SetPosition\n",
       "0              184.0           -13.700          184.0\n",
       "1                NaN           -13.900          182.0\n",
       "2              180.0           -13.800          180.0\n",
       "3              175.0           -13.800          175.0\n",
       "4              173.0               NaN          173.0\n",
       "5              161.0           -13.900          161.0\n",
       "6              159.0           -13.700          159.0\n",
       "7              157.0               NaN          157.0\n",
       "8              155.0           -13.200          155.0\n",
       "9              155.0             3.925            NaN\n",
       "10             149.0            -1.820          149.0\n",
       "11             148.0            -1.200          148.0\n",
       "12             148.0            -1.070          148.0\n",
       "13             147.0            -0.470          147.0\n",
       "14             147.0            -0.050          147.0\n",
       "15             149.0             6.050          149.0\n",
       "16             149.0             7.100          149.0"
      ]
     },
     "execution_count": 20,
     "metadata": {},
     "output_type": "execute_result"
    }
   ],
   "source": [
    "df.dropna(axis=1, thresh=15)"
   ]
  },
  {
   "cell_type": "code",
   "execution_count": 21,
   "metadata": {
    "colab": {
     "base_uri": "https://localhost:8080/",
     "height": 514
    },
    "executionInfo": {
     "elapsed": 381,
     "status": "ok",
     "timestamp": 1636455346747,
     "user": {
      "displayName": "Seunghwan Yang",
      "photoUrl": "https://lh3.googleusercontent.com/a/default-user=s64",
      "userId": "06508627432049251211"
     },
     "user_tz": -540
    },
    "id": "RN040o3mVZgG",
    "outputId": "db20bcbd-0cf5-420c-96f4-b56bcdf4638a"
   },
   "outputs": [
    {
     "data": {
      "text/html": [
       "<div>\n",
       "<style scoped>\n",
       "    .dataframe tbody tr th:only-of-type {\n",
       "        vertical-align: middle;\n",
       "    }\n",
       "\n",
       "    .dataframe tbody tr th {\n",
       "        vertical-align: top;\n",
       "    }\n",
       "\n",
       "    .dataframe thead th {\n",
       "        text-align: right;\n",
       "    }\n",
       "</style>\n",
       "<table border=\"1\" class=\"dataframe\">\n",
       "  <thead>\n",
       "    <tr style=\"text-align: right;\">\n",
       "      <th></th>\n",
       "      <th>X_ActualPosition</th>\n",
       "      <th>X_ActualVelocity</th>\n",
       "      <th>X_ActualAcceleration</th>\n",
       "      <th>X_SetPosition</th>\n",
       "      <th>X_SetVelocity</th>\n",
       "    </tr>\n",
       "  </thead>\n",
       "  <tbody>\n",
       "    <tr>\n",
       "      <th>0</th>\n",
       "      <td>184.0</td>\n",
       "      <td>-13.700</td>\n",
       "      <td>66.50</td>\n",
       "      <td>184.0</td>\n",
       "      <td>-13.90</td>\n",
       "    </tr>\n",
       "    <tr>\n",
       "      <th>1</th>\n",
       "      <td>NaN</td>\n",
       "      <td>-13.900</td>\n",
       "      <td>-33.50</td>\n",
       "      <td>182.0</td>\n",
       "      <td>-13.90</td>\n",
       "    </tr>\n",
       "    <tr>\n",
       "      <th>2</th>\n",
       "      <td>180.0</td>\n",
       "      <td>-13.800</td>\n",
       "      <td>110.00</td>\n",
       "      <td>180.0</td>\n",
       "      <td>-13.90</td>\n",
       "    </tr>\n",
       "    <tr>\n",
       "      <th>3</th>\n",
       "      <td>175.0</td>\n",
       "      <td>-13.800</td>\n",
       "      <td>22.80</td>\n",
       "      <td>175.0</td>\n",
       "      <td>-13.90</td>\n",
       "    </tr>\n",
       "    <tr>\n",
       "      <th>5</th>\n",
       "      <td>161.0</td>\n",
       "      <td>-13.900</td>\n",
       "      <td>-8.50</td>\n",
       "      <td>161.0</td>\n",
       "      <td>-13.90</td>\n",
       "    </tr>\n",
       "    <tr>\n",
       "      <th>6</th>\n",
       "      <td>159.0</td>\n",
       "      <td>-13.700</td>\n",
       "      <td>22.80</td>\n",
       "      <td>159.0</td>\n",
       "      <td>-13.90</td>\n",
       "    </tr>\n",
       "    <tr>\n",
       "      <th>8</th>\n",
       "      <td>155.0</td>\n",
       "      <td>-13.200</td>\n",
       "      <td>192.00</td>\n",
       "      <td>155.0</td>\n",
       "      <td>-10.30</td>\n",
       "    </tr>\n",
       "    <tr>\n",
       "      <th>9</th>\n",
       "      <td>155.0</td>\n",
       "      <td>3.925</td>\n",
       "      <td>NaN</td>\n",
       "      <td>NaN</td>\n",
       "      <td>NaN</td>\n",
       "    </tr>\n",
       "    <tr>\n",
       "      <th>10</th>\n",
       "      <td>149.0</td>\n",
       "      <td>-1.820</td>\n",
       "      <td>-64.70</td>\n",
       "      <td>149.0</td>\n",
       "      <td>-1.64</td>\n",
       "    </tr>\n",
       "    <tr>\n",
       "      <th>11</th>\n",
       "      <td>148.0</td>\n",
       "      <td>-1.200</td>\n",
       "      <td>54.00</td>\n",
       "      <td>148.0</td>\n",
       "      <td>-1.33</td>\n",
       "    </tr>\n",
       "    <tr>\n",
       "      <th>12</th>\n",
       "      <td>148.0</td>\n",
       "      <td>-1.070</td>\n",
       "      <td>NaN</td>\n",
       "      <td>148.0</td>\n",
       "      <td>NaN</td>\n",
       "    </tr>\n",
       "    <tr>\n",
       "      <th>13</th>\n",
       "      <td>147.0</td>\n",
       "      <td>-0.470</td>\n",
       "      <td>-8.50</td>\n",
       "      <td>147.0</td>\n",
       "      <td>-0.49</td>\n",
       "    </tr>\n",
       "    <tr>\n",
       "      <th>14</th>\n",
       "      <td>147.0</td>\n",
       "      <td>-0.050</td>\n",
       "      <td>10.25</td>\n",
       "      <td>147.0</td>\n",
       "      <td>0.06</td>\n",
       "    </tr>\n",
       "    <tr>\n",
       "      <th>15</th>\n",
       "      <td>149.0</td>\n",
       "      <td>6.050</td>\n",
       "      <td>10.25</td>\n",
       "      <td>149.0</td>\n",
       "      <td>NaN</td>\n",
       "    </tr>\n",
       "    <tr>\n",
       "      <th>16</th>\n",
       "      <td>149.0</td>\n",
       "      <td>7.100</td>\n",
       "      <td>79.00</td>\n",
       "      <td>149.0</td>\n",
       "      <td>7.05</td>\n",
       "    </tr>\n",
       "  </tbody>\n",
       "</table>\n",
       "</div>"
      ],
      "text/plain": [
       "    X_ActualPosition  X_ActualVelocity  X_ActualAcceleration  X_SetPosition  \\\n",
       "0              184.0           -13.700                 66.50          184.0   \n",
       "1                NaN           -13.900                -33.50          182.0   \n",
       "2              180.0           -13.800                110.00          180.0   \n",
       "3              175.0           -13.800                 22.80          175.0   \n",
       "5              161.0           -13.900                 -8.50          161.0   \n",
       "6              159.0           -13.700                 22.80          159.0   \n",
       "8              155.0           -13.200                192.00          155.0   \n",
       "9              155.0             3.925                   NaN            NaN   \n",
       "10             149.0            -1.820                -64.70          149.0   \n",
       "11             148.0            -1.200                 54.00          148.0   \n",
       "12             148.0            -1.070                   NaN          148.0   \n",
       "13             147.0            -0.470                 -8.50          147.0   \n",
       "14             147.0            -0.050                 10.25          147.0   \n",
       "15             149.0             6.050                 10.25          149.0   \n",
       "16             149.0             7.100                 79.00          149.0   \n",
       "\n",
       "    X_SetVelocity  \n",
       "0          -13.90  \n",
       "1          -13.90  \n",
       "2          -13.90  \n",
       "3          -13.90  \n",
       "5          -13.90  \n",
       "6          -13.90  \n",
       "8          -10.30  \n",
       "9             NaN  \n",
       "10          -1.64  \n",
       "11          -1.33  \n",
       "12            NaN  \n",
       "13          -0.49  \n",
       "14           0.06  \n",
       "15            NaN  \n",
       "16           7.05  "
      ]
     },
     "execution_count": 21,
     "metadata": {},
     "output_type": "execute_result"
    }
   ],
   "source": [
    "df.dropna(subset=['X_ActualVelocity'])"
   ]
  },
  {
   "cell_type": "markdown",
   "metadata": {
    "id": "EWCL7GXBqAfG"
   },
   "source": [
    "### 결측치 채우기"
   ]
  },
  {
   "cell_type": "code",
   "execution_count": 22,
   "metadata": {
    "colab": {
     "base_uri": "https://localhost:8080/",
     "height": 142
    },
    "executionInfo": {
     "elapsed": 346,
     "status": "ok",
     "timestamp": 1636455648863,
     "user": {
      "displayName": "Seunghwan Yang",
      "photoUrl": "https://lh3.googleusercontent.com/a/default-user=s64",
      "userId": "06508627432049251211"
     },
     "user_tz": -540
    },
    "id": "bVad6XYSWO64",
    "outputId": "dadce7f4-83a5-4660-d66d-4d81f35eba13"
   },
   "outputs": [
    {
     "data": {
      "text/html": [
       "<div>\n",
       "<style scoped>\n",
       "    .dataframe tbody tr th:only-of-type {\n",
       "        vertical-align: middle;\n",
       "    }\n",
       "\n",
       "    .dataframe tbody tr th {\n",
       "        vertical-align: top;\n",
       "    }\n",
       "\n",
       "    .dataframe thead th {\n",
       "        text-align: right;\n",
       "    }\n",
       "</style>\n",
       "<table border=\"1\" class=\"dataframe\">\n",
       "  <thead>\n",
       "    <tr style=\"text-align: right;\">\n",
       "      <th></th>\n",
       "      <th>X_ActualPosition</th>\n",
       "      <th>X_ActualVelocity</th>\n",
       "      <th>X_ActualAcceleration</th>\n",
       "      <th>X_SetPosition</th>\n",
       "      <th>X_SetVelocity</th>\n",
       "    </tr>\n",
       "  </thead>\n",
       "  <tbody>\n",
       "    <tr>\n",
       "      <th>0</th>\n",
       "      <td>184.0</td>\n",
       "      <td>-13.7</td>\n",
       "      <td>66.5</td>\n",
       "      <td>184.0</td>\n",
       "      <td>-13.9</td>\n",
       "    </tr>\n",
       "    <tr>\n",
       "      <th>1</th>\n",
       "      <td>NaN</td>\n",
       "      <td>-13.9</td>\n",
       "      <td>-33.5</td>\n",
       "      <td>182.0</td>\n",
       "      <td>-13.9</td>\n",
       "    </tr>\n",
       "    <tr>\n",
       "      <th>2</th>\n",
       "      <td>180.0</td>\n",
       "      <td>-13.8</td>\n",
       "      <td>110.0</td>\n",
       "      <td>180.0</td>\n",
       "      <td>-13.9</td>\n",
       "    </tr>\n",
       "  </tbody>\n",
       "</table>\n",
       "</div>"
      ],
      "text/plain": [
       "   X_ActualPosition  X_ActualVelocity  X_ActualAcceleration  X_SetPosition  \\\n",
       "0             184.0             -13.7                  66.5          184.0   \n",
       "1               NaN             -13.9                 -33.5          182.0   \n",
       "2             180.0             -13.8                 110.0          180.0   \n",
       "\n",
       "   X_SetVelocity  \n",
       "0          -13.9  \n",
       "1          -13.9  \n",
       "2          -13.9  "
      ]
     },
     "execution_count": 22,
     "metadata": {},
     "output_type": "execute_result"
    }
   ],
   "source": [
    "df.head(3)"
   ]
  },
  {
   "cell_type": "code",
   "execution_count": 23,
   "metadata": {
    "colab": {
     "base_uri": "https://localhost:8080/",
     "height": 142
    },
    "executionInfo": {
     "elapsed": 7,
     "status": "ok",
     "timestamp": 1636455652739,
     "user": {
      "displayName": "Seunghwan Yang",
      "photoUrl": "https://lh3.googleusercontent.com/a/default-user=s64",
      "userId": "06508627432049251211"
     },
     "user_tz": -540
    },
    "id": "TXy7cPeEVu6x",
    "outputId": "8f0b5938-f70c-46a0-e490-40172a9b410a"
   },
   "outputs": [
    {
     "data": {
      "text/html": [
       "<div>\n",
       "<style scoped>\n",
       "    .dataframe tbody tr th:only-of-type {\n",
       "        vertical-align: middle;\n",
       "    }\n",
       "\n",
       "    .dataframe tbody tr th {\n",
       "        vertical-align: top;\n",
       "    }\n",
       "\n",
       "    .dataframe thead th {\n",
       "        text-align: right;\n",
       "    }\n",
       "</style>\n",
       "<table border=\"1\" class=\"dataframe\">\n",
       "  <thead>\n",
       "    <tr style=\"text-align: right;\">\n",
       "      <th></th>\n",
       "      <th>X_ActualPosition</th>\n",
       "      <th>X_ActualVelocity</th>\n",
       "      <th>X_ActualAcceleration</th>\n",
       "      <th>X_SetPosition</th>\n",
       "      <th>X_SetVelocity</th>\n",
       "    </tr>\n",
       "  </thead>\n",
       "  <tbody>\n",
       "    <tr>\n",
       "      <th>0</th>\n",
       "      <td>184.0</td>\n",
       "      <td>-13.7</td>\n",
       "      <td>66.5</td>\n",
       "      <td>184.0</td>\n",
       "      <td>-13.9</td>\n",
       "    </tr>\n",
       "    <tr>\n",
       "      <th>1</th>\n",
       "      <td>184.0</td>\n",
       "      <td>-13.9</td>\n",
       "      <td>-33.5</td>\n",
       "      <td>182.0</td>\n",
       "      <td>-13.9</td>\n",
       "    </tr>\n",
       "    <tr>\n",
       "      <th>2</th>\n",
       "      <td>180.0</td>\n",
       "      <td>-13.8</td>\n",
       "      <td>110.0</td>\n",
       "      <td>180.0</td>\n",
       "      <td>-13.9</td>\n",
       "    </tr>\n",
       "  </tbody>\n",
       "</table>\n",
       "</div>"
      ],
      "text/plain": [
       "   X_ActualPosition  X_ActualVelocity  X_ActualAcceleration  X_SetPosition  \\\n",
       "0             184.0             -13.7                  66.5          184.0   \n",
       "1             184.0             -13.9                 -33.5          182.0   \n",
       "2             180.0             -13.8                 110.0          180.0   \n",
       "\n",
       "   X_SetVelocity  \n",
       "0          -13.9  \n",
       "1          -13.9  \n",
       "2          -13.9  "
      ]
     },
     "execution_count": 23,
     "metadata": {},
     "output_type": "execute_result"
    }
   ],
   "source": [
    "df.fillna(method=\"ffill\").head(3)"
   ]
  },
  {
   "cell_type": "code",
   "execution_count": 24,
   "metadata": {
    "colab": {
     "base_uri": "https://localhost:8080/",
     "height": 142
    },
    "executionInfo": {
     "elapsed": 6,
     "status": "ok",
     "timestamp": 1636455655756,
     "user": {
      "displayName": "Seunghwan Yang",
      "photoUrl": "https://lh3.googleusercontent.com/a/default-user=s64",
      "userId": "06508627432049251211"
     },
     "user_tz": -540
    },
    "id": "NdVn1XyrWKxO",
    "outputId": "3341e76c-e9a5-454c-f58d-960db8cc09ae"
   },
   "outputs": [
    {
     "data": {
      "text/html": [
       "<div>\n",
       "<style scoped>\n",
       "    .dataframe tbody tr th:only-of-type {\n",
       "        vertical-align: middle;\n",
       "    }\n",
       "\n",
       "    .dataframe tbody tr th {\n",
       "        vertical-align: top;\n",
       "    }\n",
       "\n",
       "    .dataframe thead th {\n",
       "        text-align: right;\n",
       "    }\n",
       "</style>\n",
       "<table border=\"1\" class=\"dataframe\">\n",
       "  <thead>\n",
       "    <tr style=\"text-align: right;\">\n",
       "      <th></th>\n",
       "      <th>X_ActualPosition</th>\n",
       "      <th>X_ActualVelocity</th>\n",
       "      <th>X_ActualAcceleration</th>\n",
       "      <th>X_SetPosition</th>\n",
       "      <th>X_SetVelocity</th>\n",
       "    </tr>\n",
       "  </thead>\n",
       "  <tbody>\n",
       "    <tr>\n",
       "      <th>0</th>\n",
       "      <td>184.0</td>\n",
       "      <td>-13.7</td>\n",
       "      <td>66.5</td>\n",
       "      <td>184.0</td>\n",
       "      <td>-13.9</td>\n",
       "    </tr>\n",
       "    <tr>\n",
       "      <th>1</th>\n",
       "      <td>180.0</td>\n",
       "      <td>-13.9</td>\n",
       "      <td>-33.5</td>\n",
       "      <td>182.0</td>\n",
       "      <td>-13.9</td>\n",
       "    </tr>\n",
       "    <tr>\n",
       "      <th>2</th>\n",
       "      <td>180.0</td>\n",
       "      <td>-13.8</td>\n",
       "      <td>110.0</td>\n",
       "      <td>180.0</td>\n",
       "      <td>-13.9</td>\n",
       "    </tr>\n",
       "  </tbody>\n",
       "</table>\n",
       "</div>"
      ],
      "text/plain": [
       "   X_ActualPosition  X_ActualVelocity  X_ActualAcceleration  X_SetPosition  \\\n",
       "0             184.0             -13.7                  66.5          184.0   \n",
       "1             180.0             -13.9                 -33.5          182.0   \n",
       "2             180.0             -13.8                 110.0          180.0   \n",
       "\n",
       "   X_SetVelocity  \n",
       "0          -13.9  \n",
       "1          -13.9  \n",
       "2          -13.9  "
      ]
     },
     "execution_count": 24,
     "metadata": {},
     "output_type": "execute_result"
    }
   ],
   "source": [
    "df.fillna(method=\"bfill\").head(3)"
   ]
  },
  {
   "cell_type": "code",
   "execution_count": 25,
   "metadata": {
    "colab": {
     "base_uri": "https://localhost:8080/",
     "height": 142
    },
    "executionInfo": {
     "elapsed": 321,
     "status": "ok",
     "timestamp": 1636455672398,
     "user": {
      "displayName": "Seunghwan Yang",
      "photoUrl": "https://lh3.googleusercontent.com/a/default-user=s64",
      "userId": "06508627432049251211"
     },
     "user_tz": -540
    },
    "id": "RPcAe1hDWbXz",
    "outputId": "5c1d4e99-f978-4aba-ccf9-5336da17370e"
   },
   "outputs": [
    {
     "data": {
      "text/html": [
       "<div>\n",
       "<style scoped>\n",
       "    .dataframe tbody tr th:only-of-type {\n",
       "        vertical-align: middle;\n",
       "    }\n",
       "\n",
       "    .dataframe tbody tr th {\n",
       "        vertical-align: top;\n",
       "    }\n",
       "\n",
       "    .dataframe thead th {\n",
       "        text-align: right;\n",
       "    }\n",
       "</style>\n",
       "<table border=\"1\" class=\"dataframe\">\n",
       "  <thead>\n",
       "    <tr style=\"text-align: right;\">\n",
       "      <th></th>\n",
       "      <th>X_ActualPosition</th>\n",
       "      <th>X_ActualVelocity</th>\n",
       "      <th>X_ActualAcceleration</th>\n",
       "      <th>X_SetPosition</th>\n",
       "      <th>X_SetVelocity</th>\n",
       "    </tr>\n",
       "  </thead>\n",
       "  <tbody>\n",
       "    <tr>\n",
       "      <th>0</th>\n",
       "      <td>184.0</td>\n",
       "      <td>-13.7</td>\n",
       "      <td>66.5</td>\n",
       "      <td>184.0</td>\n",
       "      <td>-13.9</td>\n",
       "    </tr>\n",
       "    <tr>\n",
       "      <th>1</th>\n",
       "      <td>182.0</td>\n",
       "      <td>-13.9</td>\n",
       "      <td>-33.5</td>\n",
       "      <td>182.0</td>\n",
       "      <td>-13.9</td>\n",
       "    </tr>\n",
       "    <tr>\n",
       "      <th>2</th>\n",
       "      <td>180.0</td>\n",
       "      <td>-13.8</td>\n",
       "      <td>110.0</td>\n",
       "      <td>180.0</td>\n",
       "      <td>-13.9</td>\n",
       "    </tr>\n",
       "  </tbody>\n",
       "</table>\n",
       "</div>"
      ],
      "text/plain": [
       "   X_ActualPosition  X_ActualVelocity  X_ActualAcceleration  X_SetPosition  \\\n",
       "0             184.0             -13.7                  66.5          184.0   \n",
       "1             182.0             -13.9                 -33.5          182.0   \n",
       "2             180.0             -13.8                 110.0          180.0   \n",
       "\n",
       "   X_SetVelocity  \n",
       "0          -13.9  \n",
       "1          -13.9  \n",
       "2          -13.9  "
      ]
     },
     "execution_count": 25,
     "metadata": {},
     "output_type": "execute_result"
    }
   ],
   "source": [
    "df.interpolate().head(3)"
   ]
  },
  {
   "cell_type": "code",
   "execution_count": 26,
   "metadata": {
    "colab": {
     "base_uri": "https://localhost:8080/"
    },
    "executionInfo": {
     "elapsed": 324,
     "status": "ok",
     "timestamp": 1636455756667,
     "user": {
      "displayName": "Seunghwan Yang",
      "photoUrl": "https://lh3.googleusercontent.com/a/default-user=s64",
      "userId": "06508627432049251211"
     },
     "user_tz": -540
    },
    "id": "W8IQz644W-Yu",
    "outputId": "f451bec3-e591-43b6-ae23-1931c60baaa4"
   },
   "outputs": [
    {
     "data": {
      "text/plain": [
       "X_ActualPosition        158.500000\n",
       "X_ActualVelocity         -5.569000\n",
       "X_ActualAcceleration     34.800000\n",
       "X_SetPosition           160.187500\n",
       "X_SetVelocity            -8.417857\n",
       "dtype: float64"
      ]
     },
     "execution_count": 26,
     "metadata": {},
     "output_type": "execute_result"
    }
   ],
   "source": [
    "df.mean()"
   ]
  },
  {
   "cell_type": "code",
   "execution_count": 27,
   "metadata": {
    "colab": {
     "base_uri": "https://localhost:8080/",
     "height": 235
    },
    "executionInfo": {
     "elapsed": 508,
     "status": "ok",
     "timestamp": 1636455779912,
     "user": {
      "displayName": "Seunghwan Yang",
      "photoUrl": "https://lh3.googleusercontent.com/a/default-user=s64",
      "userId": "06508627432049251211"
     },
     "user_tz": -540
    },
    "id": "ae-C338DXX1-",
    "outputId": "a9f1dd44-6e7b-4414-9d87-574574ec4dd5"
   },
   "outputs": [
    {
     "data": {
      "text/html": [
       "<div>\n",
       "<style scoped>\n",
       "    .dataframe tbody tr th:only-of-type {\n",
       "        vertical-align: middle;\n",
       "    }\n",
       "\n",
       "    .dataframe tbody tr th {\n",
       "        vertical-align: top;\n",
       "    }\n",
       "\n",
       "    .dataframe thead th {\n",
       "        text-align: right;\n",
       "    }\n",
       "</style>\n",
       "<table border=\"1\" class=\"dataframe\">\n",
       "  <thead>\n",
       "    <tr style=\"text-align: right;\">\n",
       "      <th></th>\n",
       "      <th>X_ActualPosition</th>\n",
       "      <th>X_ActualVelocity</th>\n",
       "      <th>X_ActualAcceleration</th>\n",
       "      <th>X_SetPosition</th>\n",
       "      <th>X_SetVelocity</th>\n",
       "    </tr>\n",
       "  </thead>\n",
       "  <tbody>\n",
       "    <tr>\n",
       "      <th>0</th>\n",
       "      <td>184.0</td>\n",
       "      <td>-13.7</td>\n",
       "      <td>66.5</td>\n",
       "      <td>184.0</td>\n",
       "      <td>-13.9</td>\n",
       "    </tr>\n",
       "    <tr>\n",
       "      <th>1</th>\n",
       "      <td>NaN</td>\n",
       "      <td>-13.9</td>\n",
       "      <td>-33.5</td>\n",
       "      <td>182.0</td>\n",
       "      <td>-13.9</td>\n",
       "    </tr>\n",
       "    <tr>\n",
       "      <th>2</th>\n",
       "      <td>180.0</td>\n",
       "      <td>-13.8</td>\n",
       "      <td>110.0</td>\n",
       "      <td>180.0</td>\n",
       "      <td>-13.9</td>\n",
       "    </tr>\n",
       "    <tr>\n",
       "      <th>3</th>\n",
       "      <td>175.0</td>\n",
       "      <td>-13.8</td>\n",
       "      <td>22.8</td>\n",
       "      <td>175.0</td>\n",
       "      <td>-13.9</td>\n",
       "    </tr>\n",
       "    <tr>\n",
       "      <th>4</th>\n",
       "      <td>173.0</td>\n",
       "      <td>NaN</td>\n",
       "      <td>NaN</td>\n",
       "      <td>173.0</td>\n",
       "      <td>-13.9</td>\n",
       "    </tr>\n",
       "    <tr>\n",
       "      <th>5</th>\n",
       "      <td>161.0</td>\n",
       "      <td>-13.9</td>\n",
       "      <td>-8.5</td>\n",
       "      <td>161.0</td>\n",
       "      <td>-13.9</td>\n",
       "    </tr>\n",
       "  </tbody>\n",
       "</table>\n",
       "</div>"
      ],
      "text/plain": [
       "   X_ActualPosition  X_ActualVelocity  X_ActualAcceleration  X_SetPosition  \\\n",
       "0             184.0             -13.7                  66.5          184.0   \n",
       "1               NaN             -13.9                 -33.5          182.0   \n",
       "2             180.0             -13.8                 110.0          180.0   \n",
       "3             175.0             -13.8                  22.8          175.0   \n",
       "4             173.0               NaN                   NaN          173.0   \n",
       "5             161.0             -13.9                  -8.5          161.0   \n",
       "\n",
       "   X_SetVelocity  \n",
       "0          -13.9  \n",
       "1          -13.9  \n",
       "2          -13.9  \n",
       "3          -13.9  \n",
       "4          -13.9  \n",
       "5          -13.9  "
      ]
     },
     "execution_count": 27,
     "metadata": {},
     "output_type": "execute_result"
    }
   ],
   "source": [
    "df.head(6)"
   ]
  },
  {
   "cell_type": "code",
   "execution_count": 28,
   "metadata": {
    "colab": {
     "base_uri": "https://localhost:8080/",
     "height": 235
    },
    "executionInfo": {
     "elapsed": 411,
     "status": "ok",
     "timestamp": 1636455774341,
     "user": {
      "displayName": "Seunghwan Yang",
      "photoUrl": "https://lh3.googleusercontent.com/a/default-user=s64",
      "userId": "06508627432049251211"
     },
     "user_tz": -540
    },
    "id": "cdLf0FmyXEqW",
    "outputId": "1e3b026a-4c48-4a83-939c-939a073dde1f"
   },
   "outputs": [
    {
     "data": {
      "text/html": [
       "<div>\n",
       "<style scoped>\n",
       "    .dataframe tbody tr th:only-of-type {\n",
       "        vertical-align: middle;\n",
       "    }\n",
       "\n",
       "    .dataframe tbody tr th {\n",
       "        vertical-align: top;\n",
       "    }\n",
       "\n",
       "    .dataframe thead th {\n",
       "        text-align: right;\n",
       "    }\n",
       "</style>\n",
       "<table border=\"1\" class=\"dataframe\">\n",
       "  <thead>\n",
       "    <tr style=\"text-align: right;\">\n",
       "      <th></th>\n",
       "      <th>X_ActualPosition</th>\n",
       "      <th>X_ActualVelocity</th>\n",
       "      <th>X_ActualAcceleration</th>\n",
       "      <th>X_SetPosition</th>\n",
       "      <th>X_SetVelocity</th>\n",
       "    </tr>\n",
       "  </thead>\n",
       "  <tbody>\n",
       "    <tr>\n",
       "      <th>0</th>\n",
       "      <td>184.0</td>\n",
       "      <td>-13.700</td>\n",
       "      <td>66.5</td>\n",
       "      <td>184.0</td>\n",
       "      <td>-13.9</td>\n",
       "    </tr>\n",
       "    <tr>\n",
       "      <th>1</th>\n",
       "      <td>158.5</td>\n",
       "      <td>-13.900</td>\n",
       "      <td>-33.5</td>\n",
       "      <td>182.0</td>\n",
       "      <td>-13.9</td>\n",
       "    </tr>\n",
       "    <tr>\n",
       "      <th>2</th>\n",
       "      <td>180.0</td>\n",
       "      <td>-13.800</td>\n",
       "      <td>110.0</td>\n",
       "      <td>180.0</td>\n",
       "      <td>-13.9</td>\n",
       "    </tr>\n",
       "    <tr>\n",
       "      <th>3</th>\n",
       "      <td>175.0</td>\n",
       "      <td>-13.800</td>\n",
       "      <td>22.8</td>\n",
       "      <td>175.0</td>\n",
       "      <td>-13.9</td>\n",
       "    </tr>\n",
       "    <tr>\n",
       "      <th>4</th>\n",
       "      <td>173.0</td>\n",
       "      <td>-5.569</td>\n",
       "      <td>34.8</td>\n",
       "      <td>173.0</td>\n",
       "      <td>-13.9</td>\n",
       "    </tr>\n",
       "    <tr>\n",
       "      <th>5</th>\n",
       "      <td>161.0</td>\n",
       "      <td>-13.900</td>\n",
       "      <td>-8.5</td>\n",
       "      <td>161.0</td>\n",
       "      <td>-13.9</td>\n",
       "    </tr>\n",
       "  </tbody>\n",
       "</table>\n",
       "</div>"
      ],
      "text/plain": [
       "   X_ActualPosition  X_ActualVelocity  X_ActualAcceleration  X_SetPosition  \\\n",
       "0             184.0           -13.700                  66.5          184.0   \n",
       "1             158.5           -13.900                 -33.5          182.0   \n",
       "2             180.0           -13.800                 110.0          180.0   \n",
       "3             175.0           -13.800                  22.8          175.0   \n",
       "4             173.0            -5.569                  34.8          173.0   \n",
       "5             161.0           -13.900                  -8.5          161.0   \n",
       "\n",
       "   X_SetVelocity  \n",
       "0          -13.9  \n",
       "1          -13.9  \n",
       "2          -13.9  \n",
       "3          -13.9  \n",
       "4          -13.9  \n",
       "5          -13.9  "
      ]
     },
     "execution_count": 28,
     "metadata": {},
     "output_type": "execute_result"
    }
   ],
   "source": [
    "df.fillna(value=df.mean()).head(6)"
   ]
  },
  {
   "cell_type": "markdown",
   "metadata": {
    "id": "3BUtZdQOYI3U"
   },
   "source": [
    "## 범주형 데이터 다루기\n",
    "- 순서가 있는 특성 vs. 순서가 없는 특성\n",
    "- 순서 특성 매핑\n",
    "- 원-핫 인코딩"
   ]
  },
  {
   "cell_type": "code",
   "execution_count": 29,
   "metadata": {
    "colab": {
     "base_uri": "https://localhost:8080/"
    },
    "executionInfo": {
     "elapsed": 6,
     "status": "ok",
     "timestamp": 1636456047469,
     "user": {
      "displayName": "Seunghwan Yang",
      "photoUrl": "https://lh3.googleusercontent.com/a/default-user=s64",
      "userId": "06508627432049251211"
     },
     "user_tz": -540
    },
    "id": "YCf-9fVoXMBy",
    "outputId": "cf0887da-7736-4f63-9be3-80fa4053a56c"
   },
   "outputs": [
    {
     "data": {
      "text/plain": [
       "0         Setosa\n",
       "1         Setosa\n",
       "2         Setosa\n",
       "3         Setosa\n",
       "4         Setosa\n",
       "         ...    \n",
       "145    Virginica\n",
       "146    Virginica\n",
       "147    Virginica\n",
       "148    Virginica\n",
       "149    Virginica\n",
       "Name: variety, Length: 150, dtype: object"
      ]
     },
     "execution_count": 29,
     "metadata": {},
     "output_type": "execute_result"
    }
   ],
   "source": [
    "iris['variety']"
   ]
  },
  {
   "cell_type": "code",
   "execution_count": 30,
   "metadata": {
    "colab": {
     "base_uri": "https://localhost:8080/"
    },
    "executionInfo": {
     "elapsed": 343,
     "status": "ok",
     "timestamp": 1636456038385,
     "user": {
      "displayName": "Seunghwan Yang",
      "photoUrl": "https://lh3.googleusercontent.com/a/default-user=s64",
      "userId": "06508627432049251211"
     },
     "user_tz": -540
    },
    "id": "K9b5ammuYNPh",
    "outputId": "fa01f9e3-b3cc-4403-eebd-e1c2a7f19625"
   },
   "outputs": [
    {
     "data": {
      "text/plain": [
       "0         Setosa\n",
       "1         Setosa\n",
       "2         Setosa\n",
       "3         Setosa\n",
       "4         Setosa\n",
       "         ...    \n",
       "145    Virginica\n",
       "146    Virginica\n",
       "147    Virginica\n",
       "148    Virginica\n",
       "149    Virginica\n",
       "Name: variety, Length: 150, dtype: category\n",
       "Categories (3, object): ['Setosa', 'Versicolor', 'Virginica']"
      ]
     },
     "execution_count": 30,
     "metadata": {},
     "output_type": "execute_result"
    }
   ],
   "source": [
    "iris['variety'].astype('category')"
   ]
  },
  {
   "cell_type": "markdown",
   "metadata": {
    "id": "Rd6QUFcYg11X"
   },
   "source": [
    "### 순서특성매핑"
   ]
  },
  {
   "cell_type": "code",
   "execution_count": 31,
   "metadata": {
    "colab": {
     "base_uri": "https://localhost:8080/"
    },
    "executionInfo": {
     "elapsed": 458,
     "status": "ok",
     "timestamp": 1636456128356,
     "user": {
      "displayName": "Seunghwan Yang",
      "photoUrl": "https://lh3.googleusercontent.com/a/default-user=s64",
      "userId": "06508627432049251211"
     },
     "user_tz": -540
    },
    "id": "OavWq2IKYWvU",
    "outputId": "ce60d95e-5135-463a-9759-9dfbc10b9ebb"
   },
   "outputs": [
    {
     "data": {
      "text/plain": [
       "0      1\n",
       "1      1\n",
       "2      1\n",
       "3      1\n",
       "4      1\n",
       "      ..\n",
       "145    3\n",
       "146    3\n",
       "147    3\n",
       "148    3\n",
       "149    3\n",
       "Name: variety, Length: 150, dtype: int8"
      ]
     },
     "execution_count": 31,
     "metadata": {},
     "output_type": "execute_result"
    }
   ],
   "source": [
    "iris['variety'].map({'Setosa':1, 'Versicolor':2, 'Virginica':3}).astype('int8')"
   ]
  },
  {
   "cell_type": "code",
   "execution_count": 32,
   "metadata": {
    "id": "5KbgXE6zYo4f"
   },
   "outputs": [],
   "source": [
    "from sklearn.preprocessing import LabelEncoder"
   ]
  },
  {
   "cell_type": "code",
   "execution_count": 33,
   "metadata": {
    "id": "YsBILUmcZCzx"
   },
   "outputs": [],
   "source": [
    "class_le = LabelEncoder()"
   ]
  },
  {
   "cell_type": "code",
   "execution_count": 34,
   "metadata": {
    "colab": {
     "base_uri": "https://localhost:8080/"
    },
    "executionInfo": {
     "elapsed": 450,
     "status": "ok",
     "timestamp": 1636459842842,
     "user": {
      "displayName": "Seunghwan Yang",
      "photoUrl": "https://lh3.googleusercontent.com/a/default-user=s64",
      "userId": "06508627432049251211"
     },
     "user_tz": -540
    },
    "id": "Cf2efKH0ZLCl",
    "outputId": "1e07afe7-3e98-4d80-9461-9465e5b9c2e1"
   },
   "outputs": [
    {
     "data": {
      "text/plain": [
       "array([0, 0, 0, 0, 0, 0, 0, 0, 0, 0, 0, 0, 0, 0, 0, 0, 0, 0, 0, 0, 0, 0,\n",
       "       0, 0, 0, 0, 0, 0, 0, 0, 0, 0, 0, 0, 0, 0, 0, 0, 0, 0, 0, 0, 0, 0,\n",
       "       0, 0, 0, 0, 0, 0, 1, 1, 1, 1, 1, 1, 1, 1, 1, 1, 1, 1, 1, 1, 1, 1,\n",
       "       1, 1, 1, 1, 1, 1, 1, 1, 1, 1, 1, 1, 1, 1, 1, 1, 1, 1, 1, 1, 1, 1,\n",
       "       1, 1, 1, 1, 1, 1, 1, 1, 1, 1, 1, 1, 2, 2, 2, 2, 2, 2, 2, 2, 2, 2,\n",
       "       2, 2, 2, 2, 2, 2, 2, 2, 2, 2, 2, 2, 2, 2, 2, 2, 2, 2, 2, 2, 2, 2,\n",
       "       2, 2, 2, 2, 2, 2, 2, 2, 2, 2, 2, 2, 2, 2, 2, 2, 2, 2])"
      ]
     },
     "execution_count": 34,
     "metadata": {},
     "output_type": "execute_result"
    }
   ],
   "source": [
    "y = class_le.fit_transform(iris['variety'])\n",
    "y"
   ]
  },
  {
   "cell_type": "code",
   "execution_count": 35,
   "metadata": {
    "colab": {
     "base_uri": "https://localhost:8080/"
    },
    "executionInfo": {
     "elapsed": 10,
     "status": "ok",
     "timestamp": 1636459844211,
     "user": {
      "displayName": "Seunghwan Yang",
      "photoUrl": "https://lh3.googleusercontent.com/a/default-user=s64",
      "userId": "06508627432049251211"
     },
     "user_tz": -540
    },
    "id": "SdwwVHKgZQvg",
    "outputId": "9311b2e1-d14a-4542-f0fe-7400ba47840a"
   },
   "outputs": [
    {
     "data": {
      "text/plain": [
       "array(['Setosa', 'Setosa', 'Setosa', 'Setosa', 'Setosa', 'Setosa',\n",
       "       'Setosa', 'Setosa', 'Setosa', 'Setosa', 'Setosa', 'Setosa',\n",
       "       'Setosa', 'Setosa', 'Setosa', 'Setosa', 'Setosa', 'Setosa',\n",
       "       'Setosa', 'Setosa', 'Setosa', 'Setosa', 'Setosa', 'Setosa',\n",
       "       'Setosa', 'Setosa', 'Setosa', 'Setosa', 'Setosa', 'Setosa',\n",
       "       'Setosa', 'Setosa', 'Setosa', 'Setosa', 'Setosa', 'Setosa',\n",
       "       'Setosa', 'Setosa', 'Setosa', 'Setosa', 'Setosa', 'Setosa',\n",
       "       'Setosa', 'Setosa', 'Setosa', 'Setosa', 'Setosa', 'Setosa',\n",
       "       'Setosa', 'Setosa', 'Versicolor', 'Versicolor', 'Versicolor',\n",
       "       'Versicolor', 'Versicolor', 'Versicolor', 'Versicolor',\n",
       "       'Versicolor', 'Versicolor', 'Versicolor', 'Versicolor',\n",
       "       'Versicolor', 'Versicolor', 'Versicolor', 'Versicolor',\n",
       "       'Versicolor', 'Versicolor', 'Versicolor', 'Versicolor',\n",
       "       'Versicolor', 'Versicolor', 'Versicolor', 'Versicolor',\n",
       "       'Versicolor', 'Versicolor', 'Versicolor', 'Versicolor',\n",
       "       'Versicolor', 'Versicolor', 'Versicolor', 'Versicolor',\n",
       "       'Versicolor', 'Versicolor', 'Versicolor', 'Versicolor',\n",
       "       'Versicolor', 'Versicolor', 'Versicolor', 'Versicolor',\n",
       "       'Versicolor', 'Versicolor', 'Versicolor', 'Versicolor',\n",
       "       'Versicolor', 'Versicolor', 'Versicolor', 'Versicolor',\n",
       "       'Versicolor', 'Versicolor', 'Versicolor', 'Virginica', 'Virginica',\n",
       "       'Virginica', 'Virginica', 'Virginica', 'Virginica', 'Virginica',\n",
       "       'Virginica', 'Virginica', 'Virginica', 'Virginica', 'Virginica',\n",
       "       'Virginica', 'Virginica', 'Virginica', 'Virginica', 'Virginica',\n",
       "       'Virginica', 'Virginica', 'Virginica', 'Virginica', 'Virginica',\n",
       "       'Virginica', 'Virginica', 'Virginica', 'Virginica', 'Virginica',\n",
       "       'Virginica', 'Virginica', 'Virginica', 'Virginica', 'Virginica',\n",
       "       'Virginica', 'Virginica', 'Virginica', 'Virginica', 'Virginica',\n",
       "       'Virginica', 'Virginica', 'Virginica', 'Virginica', 'Virginica',\n",
       "       'Virginica', 'Virginica', 'Virginica', 'Virginica', 'Virginica',\n",
       "       'Virginica', 'Virginica', 'Virginica'], dtype=object)"
      ]
     },
     "execution_count": 35,
     "metadata": {},
     "output_type": "execute_result"
    }
   ],
   "source": [
    "class_le.inverse_transform(y)"
   ]
  },
  {
   "cell_type": "markdown",
   "metadata": {
    "id": "HeocebdFgvMV"
   },
   "source": [
    "### 원핫인코딩"
   ]
  },
  {
   "cell_type": "code",
   "execution_count": 36,
   "metadata": {},
   "outputs": [
    {
     "data": {
      "text/html": [
       "<div>\n",
       "<style scoped>\n",
       "    .dataframe tbody tr th:only-of-type {\n",
       "        vertical-align: middle;\n",
       "    }\n",
       "\n",
       "    .dataframe tbody tr th {\n",
       "        vertical-align: top;\n",
       "    }\n",
       "\n",
       "    .dataframe thead th {\n",
       "        text-align: right;\n",
       "    }\n",
       "</style>\n",
       "<table border=\"1\" class=\"dataframe\">\n",
       "  <thead>\n",
       "    <tr style=\"text-align: right;\">\n",
       "      <th></th>\n",
       "      <th>sepal.length</th>\n",
       "      <th>sepal.width</th>\n",
       "      <th>petal.length</th>\n",
       "      <th>petal.width</th>\n",
       "      <th>variety</th>\n",
       "    </tr>\n",
       "  </thead>\n",
       "  <tbody>\n",
       "    <tr>\n",
       "      <th>0</th>\n",
       "      <td>5.1</td>\n",
       "      <td>3.5</td>\n",
       "      <td>1.4</td>\n",
       "      <td>0.2</td>\n",
       "      <td>Setosa</td>\n",
       "    </tr>\n",
       "    <tr>\n",
       "      <th>1</th>\n",
       "      <td>4.9</td>\n",
       "      <td>3.0</td>\n",
       "      <td>1.4</td>\n",
       "      <td>0.2</td>\n",
       "      <td>Setosa</td>\n",
       "    </tr>\n",
       "    <tr>\n",
       "      <th>2</th>\n",
       "      <td>4.7</td>\n",
       "      <td>3.2</td>\n",
       "      <td>1.3</td>\n",
       "      <td>0.2</td>\n",
       "      <td>Setosa</td>\n",
       "    </tr>\n",
       "    <tr>\n",
       "      <th>3</th>\n",
       "      <td>4.6</td>\n",
       "      <td>3.1</td>\n",
       "      <td>1.5</td>\n",
       "      <td>0.2</td>\n",
       "      <td>Setosa</td>\n",
       "    </tr>\n",
       "    <tr>\n",
       "      <th>4</th>\n",
       "      <td>5.0</td>\n",
       "      <td>3.6</td>\n",
       "      <td>1.4</td>\n",
       "      <td>0.2</td>\n",
       "      <td>Setosa</td>\n",
       "    </tr>\n",
       "    <tr>\n",
       "      <th>...</th>\n",
       "      <td>...</td>\n",
       "      <td>...</td>\n",
       "      <td>...</td>\n",
       "      <td>...</td>\n",
       "      <td>...</td>\n",
       "    </tr>\n",
       "    <tr>\n",
       "      <th>145</th>\n",
       "      <td>6.7</td>\n",
       "      <td>3.0</td>\n",
       "      <td>5.2</td>\n",
       "      <td>2.3</td>\n",
       "      <td>Virginica</td>\n",
       "    </tr>\n",
       "    <tr>\n",
       "      <th>146</th>\n",
       "      <td>6.3</td>\n",
       "      <td>2.5</td>\n",
       "      <td>5.0</td>\n",
       "      <td>1.9</td>\n",
       "      <td>Virginica</td>\n",
       "    </tr>\n",
       "    <tr>\n",
       "      <th>147</th>\n",
       "      <td>6.5</td>\n",
       "      <td>3.0</td>\n",
       "      <td>5.2</td>\n",
       "      <td>2.0</td>\n",
       "      <td>Virginica</td>\n",
       "    </tr>\n",
       "    <tr>\n",
       "      <th>148</th>\n",
       "      <td>6.2</td>\n",
       "      <td>3.4</td>\n",
       "      <td>5.4</td>\n",
       "      <td>2.3</td>\n",
       "      <td>Virginica</td>\n",
       "    </tr>\n",
       "    <tr>\n",
       "      <th>149</th>\n",
       "      <td>5.9</td>\n",
       "      <td>3.0</td>\n",
       "      <td>5.1</td>\n",
       "      <td>1.8</td>\n",
       "      <td>Virginica</td>\n",
       "    </tr>\n",
       "  </tbody>\n",
       "</table>\n",
       "<p>150 rows × 5 columns</p>\n",
       "</div>"
      ],
      "text/plain": [
       "     sepal.length  sepal.width  petal.length  petal.width    variety\n",
       "0             5.1          3.5           1.4          0.2     Setosa\n",
       "1             4.9          3.0           1.4          0.2     Setosa\n",
       "2             4.7          3.2           1.3          0.2     Setosa\n",
       "3             4.6          3.1           1.5          0.2     Setosa\n",
       "4             5.0          3.6           1.4          0.2     Setosa\n",
       "..            ...          ...           ...          ...        ...\n",
       "145           6.7          3.0           5.2          2.3  Virginica\n",
       "146           6.3          2.5           5.0          1.9  Virginica\n",
       "147           6.5          3.0           5.2          2.0  Virginica\n",
       "148           6.2          3.4           5.4          2.3  Virginica\n",
       "149           5.9          3.0           5.1          1.8  Virginica\n",
       "\n",
       "[150 rows x 5 columns]"
      ]
     },
     "execution_count": 36,
     "metadata": {},
     "output_type": "execute_result"
    }
   ],
   "source": [
    "iris"
   ]
  },
  {
   "cell_type": "code",
   "execution_count": 37,
   "metadata": {
    "colab": {
     "base_uri": "https://localhost:8080/",
     "height": 419
    },
    "executionInfo": {
     "elapsed": 492,
     "status": "ok",
     "timestamp": 1636458007862,
     "user": {
      "displayName": "Seunghwan Yang",
      "photoUrl": "https://lh3.googleusercontent.com/a/default-user=s64",
      "userId": "06508627432049251211"
     },
     "user_tz": -540
    },
    "id": "GJI0KwHjfsL4",
    "outputId": "c8ff6a33-2937-4e09-d33e-1e286eadbf58"
   },
   "outputs": [
    {
     "data": {
      "text/html": [
       "<div>\n",
       "<style scoped>\n",
       "    .dataframe tbody tr th:only-of-type {\n",
       "        vertical-align: middle;\n",
       "    }\n",
       "\n",
       "    .dataframe tbody tr th {\n",
       "        vertical-align: top;\n",
       "    }\n",
       "\n",
       "    .dataframe thead th {\n",
       "        text-align: right;\n",
       "    }\n",
       "</style>\n",
       "<table border=\"1\" class=\"dataframe\">\n",
       "  <thead>\n",
       "    <tr style=\"text-align: right;\">\n",
       "      <th></th>\n",
       "      <th>sepal.length</th>\n",
       "      <th>sepal.width</th>\n",
       "      <th>petal.length</th>\n",
       "      <th>petal.width</th>\n",
       "      <th>variety_Setosa</th>\n",
       "      <th>variety_Versicolor</th>\n",
       "      <th>variety_Virginica</th>\n",
       "    </tr>\n",
       "  </thead>\n",
       "  <tbody>\n",
       "    <tr>\n",
       "      <th>0</th>\n",
       "      <td>5.1</td>\n",
       "      <td>3.5</td>\n",
       "      <td>1.4</td>\n",
       "      <td>0.2</td>\n",
       "      <td>1</td>\n",
       "      <td>0</td>\n",
       "      <td>0</td>\n",
       "    </tr>\n",
       "    <tr>\n",
       "      <th>1</th>\n",
       "      <td>4.9</td>\n",
       "      <td>3.0</td>\n",
       "      <td>1.4</td>\n",
       "      <td>0.2</td>\n",
       "      <td>1</td>\n",
       "      <td>0</td>\n",
       "      <td>0</td>\n",
       "    </tr>\n",
       "    <tr>\n",
       "      <th>2</th>\n",
       "      <td>4.7</td>\n",
       "      <td>3.2</td>\n",
       "      <td>1.3</td>\n",
       "      <td>0.2</td>\n",
       "      <td>1</td>\n",
       "      <td>0</td>\n",
       "      <td>0</td>\n",
       "    </tr>\n",
       "    <tr>\n",
       "      <th>3</th>\n",
       "      <td>4.6</td>\n",
       "      <td>3.1</td>\n",
       "      <td>1.5</td>\n",
       "      <td>0.2</td>\n",
       "      <td>1</td>\n",
       "      <td>0</td>\n",
       "      <td>0</td>\n",
       "    </tr>\n",
       "    <tr>\n",
       "      <th>4</th>\n",
       "      <td>5.0</td>\n",
       "      <td>3.6</td>\n",
       "      <td>1.4</td>\n",
       "      <td>0.2</td>\n",
       "      <td>1</td>\n",
       "      <td>0</td>\n",
       "      <td>0</td>\n",
       "    </tr>\n",
       "    <tr>\n",
       "      <th>...</th>\n",
       "      <td>...</td>\n",
       "      <td>...</td>\n",
       "      <td>...</td>\n",
       "      <td>...</td>\n",
       "      <td>...</td>\n",
       "      <td>...</td>\n",
       "      <td>...</td>\n",
       "    </tr>\n",
       "    <tr>\n",
       "      <th>145</th>\n",
       "      <td>6.7</td>\n",
       "      <td>3.0</td>\n",
       "      <td>5.2</td>\n",
       "      <td>2.3</td>\n",
       "      <td>0</td>\n",
       "      <td>0</td>\n",
       "      <td>1</td>\n",
       "    </tr>\n",
       "    <tr>\n",
       "      <th>146</th>\n",
       "      <td>6.3</td>\n",
       "      <td>2.5</td>\n",
       "      <td>5.0</td>\n",
       "      <td>1.9</td>\n",
       "      <td>0</td>\n",
       "      <td>0</td>\n",
       "      <td>1</td>\n",
       "    </tr>\n",
       "    <tr>\n",
       "      <th>147</th>\n",
       "      <td>6.5</td>\n",
       "      <td>3.0</td>\n",
       "      <td>5.2</td>\n",
       "      <td>2.0</td>\n",
       "      <td>0</td>\n",
       "      <td>0</td>\n",
       "      <td>1</td>\n",
       "    </tr>\n",
       "    <tr>\n",
       "      <th>148</th>\n",
       "      <td>6.2</td>\n",
       "      <td>3.4</td>\n",
       "      <td>5.4</td>\n",
       "      <td>2.3</td>\n",
       "      <td>0</td>\n",
       "      <td>0</td>\n",
       "      <td>1</td>\n",
       "    </tr>\n",
       "    <tr>\n",
       "      <th>149</th>\n",
       "      <td>5.9</td>\n",
       "      <td>3.0</td>\n",
       "      <td>5.1</td>\n",
       "      <td>1.8</td>\n",
       "      <td>0</td>\n",
       "      <td>0</td>\n",
       "      <td>1</td>\n",
       "    </tr>\n",
       "  </tbody>\n",
       "</table>\n",
       "<p>150 rows × 7 columns</p>\n",
       "</div>"
      ],
      "text/plain": [
       "     sepal.length  sepal.width  petal.length  petal.width  variety_Setosa  \\\n",
       "0             5.1          3.5           1.4          0.2               1   \n",
       "1             4.9          3.0           1.4          0.2               1   \n",
       "2             4.7          3.2           1.3          0.2               1   \n",
       "3             4.6          3.1           1.5          0.2               1   \n",
       "4             5.0          3.6           1.4          0.2               1   \n",
       "..            ...          ...           ...          ...             ...   \n",
       "145           6.7          3.0           5.2          2.3               0   \n",
       "146           6.3          2.5           5.0          1.9               0   \n",
       "147           6.5          3.0           5.2          2.0               0   \n",
       "148           6.2          3.4           5.4          2.3               0   \n",
       "149           5.9          3.0           5.1          1.8               0   \n",
       "\n",
       "     variety_Versicolor  variety_Virginica  \n",
       "0                     0                  0  \n",
       "1                     0                  0  \n",
       "2                     0                  0  \n",
       "3                     0                  0  \n",
       "4                     0                  0  \n",
       "..                  ...                ...  \n",
       "145                   0                  1  \n",
       "146                   0                  1  \n",
       "147                   0                  1  \n",
       "148                   0                  1  \n",
       "149                   0                  1  \n",
       "\n",
       "[150 rows x 7 columns]"
      ]
     },
     "execution_count": 37,
     "metadata": {},
     "output_type": "execute_result"
    }
   ],
   "source": [
    "pd.get_dummies(iris)"
   ]
  },
  {
   "cell_type": "code",
   "execution_count": 38,
   "metadata": {
    "colab": {
     "base_uri": "https://localhost:8080/",
     "height": 419
    },
    "executionInfo": {
     "elapsed": 466,
     "status": "ok",
     "timestamp": 1636458059402,
     "user": {
      "displayName": "Seunghwan Yang",
      "photoUrl": "https://lh3.googleusercontent.com/a/default-user=s64",
      "userId": "06508627432049251211"
     },
     "user_tz": -540
    },
    "id": "irmRTgPPbFP6",
    "outputId": "fd3fe453-f899-4c40-9071-1b7880d99b37"
   },
   "outputs": [
    {
     "data": {
      "text/html": [
       "<div>\n",
       "<style scoped>\n",
       "    .dataframe tbody tr th:only-of-type {\n",
       "        vertical-align: middle;\n",
       "    }\n",
       "\n",
       "    .dataframe tbody tr th {\n",
       "        vertical-align: top;\n",
       "    }\n",
       "\n",
       "    .dataframe thead th {\n",
       "        text-align: right;\n",
       "    }\n",
       "</style>\n",
       "<table border=\"1\" class=\"dataframe\">\n",
       "  <thead>\n",
       "    <tr style=\"text-align: right;\">\n",
       "      <th></th>\n",
       "      <th>sepal.length</th>\n",
       "      <th>sepal.width</th>\n",
       "      <th>petal.length</th>\n",
       "      <th>petal.width</th>\n",
       "      <th>variety_Versicolor</th>\n",
       "      <th>variety_Virginica</th>\n",
       "    </tr>\n",
       "  </thead>\n",
       "  <tbody>\n",
       "    <tr>\n",
       "      <th>0</th>\n",
       "      <td>5.1</td>\n",
       "      <td>3.5</td>\n",
       "      <td>1.4</td>\n",
       "      <td>0.2</td>\n",
       "      <td>0</td>\n",
       "      <td>0</td>\n",
       "    </tr>\n",
       "    <tr>\n",
       "      <th>1</th>\n",
       "      <td>4.9</td>\n",
       "      <td>3.0</td>\n",
       "      <td>1.4</td>\n",
       "      <td>0.2</td>\n",
       "      <td>0</td>\n",
       "      <td>0</td>\n",
       "    </tr>\n",
       "    <tr>\n",
       "      <th>2</th>\n",
       "      <td>4.7</td>\n",
       "      <td>3.2</td>\n",
       "      <td>1.3</td>\n",
       "      <td>0.2</td>\n",
       "      <td>0</td>\n",
       "      <td>0</td>\n",
       "    </tr>\n",
       "    <tr>\n",
       "      <th>3</th>\n",
       "      <td>4.6</td>\n",
       "      <td>3.1</td>\n",
       "      <td>1.5</td>\n",
       "      <td>0.2</td>\n",
       "      <td>0</td>\n",
       "      <td>0</td>\n",
       "    </tr>\n",
       "    <tr>\n",
       "      <th>4</th>\n",
       "      <td>5.0</td>\n",
       "      <td>3.6</td>\n",
       "      <td>1.4</td>\n",
       "      <td>0.2</td>\n",
       "      <td>0</td>\n",
       "      <td>0</td>\n",
       "    </tr>\n",
       "    <tr>\n",
       "      <th>...</th>\n",
       "      <td>...</td>\n",
       "      <td>...</td>\n",
       "      <td>...</td>\n",
       "      <td>...</td>\n",
       "      <td>...</td>\n",
       "      <td>...</td>\n",
       "    </tr>\n",
       "    <tr>\n",
       "      <th>145</th>\n",
       "      <td>6.7</td>\n",
       "      <td>3.0</td>\n",
       "      <td>5.2</td>\n",
       "      <td>2.3</td>\n",
       "      <td>0</td>\n",
       "      <td>1</td>\n",
       "    </tr>\n",
       "    <tr>\n",
       "      <th>146</th>\n",
       "      <td>6.3</td>\n",
       "      <td>2.5</td>\n",
       "      <td>5.0</td>\n",
       "      <td>1.9</td>\n",
       "      <td>0</td>\n",
       "      <td>1</td>\n",
       "    </tr>\n",
       "    <tr>\n",
       "      <th>147</th>\n",
       "      <td>6.5</td>\n",
       "      <td>3.0</td>\n",
       "      <td>5.2</td>\n",
       "      <td>2.0</td>\n",
       "      <td>0</td>\n",
       "      <td>1</td>\n",
       "    </tr>\n",
       "    <tr>\n",
       "      <th>148</th>\n",
       "      <td>6.2</td>\n",
       "      <td>3.4</td>\n",
       "      <td>5.4</td>\n",
       "      <td>2.3</td>\n",
       "      <td>0</td>\n",
       "      <td>1</td>\n",
       "    </tr>\n",
       "    <tr>\n",
       "      <th>149</th>\n",
       "      <td>5.9</td>\n",
       "      <td>3.0</td>\n",
       "      <td>5.1</td>\n",
       "      <td>1.8</td>\n",
       "      <td>0</td>\n",
       "      <td>1</td>\n",
       "    </tr>\n",
       "  </tbody>\n",
       "</table>\n",
       "<p>150 rows × 6 columns</p>\n",
       "</div>"
      ],
      "text/plain": [
       "     sepal.length  sepal.width  petal.length  petal.width  variety_Versicolor  \\\n",
       "0             5.1          3.5           1.4          0.2                   0   \n",
       "1             4.9          3.0           1.4          0.2                   0   \n",
       "2             4.7          3.2           1.3          0.2                   0   \n",
       "3             4.6          3.1           1.5          0.2                   0   \n",
       "4             5.0          3.6           1.4          0.2                   0   \n",
       "..            ...          ...           ...          ...                 ...   \n",
       "145           6.7          3.0           5.2          2.3                   0   \n",
       "146           6.3          2.5           5.0          1.9                   0   \n",
       "147           6.5          3.0           5.2          2.0                   0   \n",
       "148           6.2          3.4           5.4          2.3                   0   \n",
       "149           5.9          3.0           5.1          1.8                   0   \n",
       "\n",
       "     variety_Virginica  \n",
       "0                    0  \n",
       "1                    0  \n",
       "2                    0  \n",
       "3                    0  \n",
       "4                    0  \n",
       "..                 ...  \n",
       "145                  1  \n",
       "146                  1  \n",
       "147                  1  \n",
       "148                  1  \n",
       "149                  1  \n",
       "\n",
       "[150 rows x 6 columns]"
      ]
     },
     "execution_count": 38,
     "metadata": {},
     "output_type": "execute_result"
    }
   ],
   "source": [
    "pd.get_dummies(iris, drop_first=True)"
   ]
  },
  {
   "cell_type": "markdown",
   "metadata": {
    "id": "OJ_BqT1Og_iO"
   },
   "source": [
    "## 데이터를 훈련세트와 테스트세트로 나누기"
   ]
  },
  {
   "cell_type": "code",
   "execution_count": 39,
   "metadata": {
    "executionInfo": {
     "elapsed": 775,
     "status": "ok",
     "timestamp": 1636511623912,
     "user": {
      "displayName": "Seunghwan Yang",
      "photoUrl": "https://lh3.googleusercontent.com/a/default-user=s64",
      "userId": "06508627432049251211"
     },
     "user_tz": -540
    },
    "id": "HVcl7llTgE-v"
   },
   "outputs": [],
   "source": [
    "from sklearn.model_selection import train_test_split"
   ]
  },
  {
   "cell_type": "code",
   "execution_count": 40,
   "metadata": {
    "executionInfo": {
     "elapsed": 276,
     "status": "ok",
     "timestamp": 1636511767944,
     "user": {
      "displayName": "Seunghwan Yang",
      "photoUrl": "https://lh3.googleusercontent.com/a/default-user=s64",
      "userId": "06508627432049251211"
     },
     "user_tz": -540
    },
    "id": "KFj1iP9KhO20"
   },
   "outputs": [],
   "source": [
    "X, y = iris.iloc[:,:-1], iris.iloc[:,-1]"
   ]
  },
  {
   "cell_type": "code",
   "execution_count": 41,
   "metadata": {
    "executionInfo": {
     "elapsed": 14,
     "status": "ok",
     "timestamp": 1636511768517,
     "user": {
      "displayName": "Seunghwan Yang",
      "photoUrl": "https://lh3.googleusercontent.com/a/default-user=s64",
      "userId": "06508627432049251211"
     },
     "user_tz": -540
    },
    "id": "td8KWvimhYLe"
   },
   "outputs": [],
   "source": [
    "X_train, X_test, y_train, y_test = train_test_split(X, y, test_size=0.3, random_state=0)"
   ]
  },
  {
   "cell_type": "code",
   "execution_count": 42,
   "metadata": {
    "colab": {
     "base_uri": "https://localhost:8080/"
    },
    "executionInfo": {
     "elapsed": 16,
     "status": "ok",
     "timestamp": 1636511769697,
     "user": {
      "displayName": "Seunghwan Yang",
      "photoUrl": "https://lh3.googleusercontent.com/a/default-user=s64",
      "userId": "06508627432049251211"
     },
     "user_tz": -540
    },
    "id": "lKJAFAtFhnLv",
    "outputId": "3d9e679e-d0c6-4c15-e7a1-81343a4da126"
   },
   "outputs": [
    {
     "data": {
      "text/plain": [
       "(105, 45)"
      ]
     },
     "execution_count": 42,
     "metadata": {},
     "output_type": "execute_result"
    }
   ],
   "source": [
    "len(X_train), len(X_test)"
   ]
  },
  {
   "cell_type": "code",
   "execution_count": 43,
   "metadata": {
    "colab": {
     "base_uri": "https://localhost:8080/"
    },
    "executionInfo": {
     "elapsed": 263,
     "status": "ok",
     "timestamp": 1636511785237,
     "user": {
      "displayName": "Seunghwan Yang",
      "photoUrl": "https://lh3.googleusercontent.com/a/default-user=s64",
      "userId": "06508627432049251211"
     },
     "user_tz": -540
    },
    "id": "N3h0JTrohroP",
    "outputId": "287524e9-02a8-4486-acd0-77ce377bc431"
   },
   "outputs": [
    {
     "name": "stdout",
     "output_type": "stream",
     "text": [
      "Virginica     39\n",
      "Setosa        34\n",
      "Versicolor    32\n",
      "Name: variety, dtype: int64\n",
      "Versicolor    18\n",
      "Setosa        16\n",
      "Virginica     11\n",
      "Name: variety, dtype: int64\n"
     ]
    }
   ],
   "source": [
    "print(y_train.value_counts())\n",
    "print(y_test.value_counts())"
   ]
  },
  {
   "cell_type": "code",
   "execution_count": 44,
   "metadata": {
    "colab": {
     "base_uri": "https://localhost:8080/"
    },
    "executionInfo": {
     "elapsed": 289,
     "status": "ok",
     "timestamp": 1636511841859,
     "user": {
      "displayName": "Seunghwan Yang",
      "photoUrl": "https://lh3.googleusercontent.com/a/default-user=s64",
      "userId": "06508627432049251211"
     },
     "user_tz": -540
    },
    "id": "4peida9XhyAo",
    "outputId": "701f8ac0-a554-49f2-c8b6-516cb52d2b8d"
   },
   "outputs": [
    {
     "data": {
      "text/plain": [
       "Versicolor    50\n",
       "Virginica     50\n",
       "Setosa        50\n",
       "Name: variety, dtype: int64"
      ]
     },
     "execution_count": 44,
     "metadata": {},
     "output_type": "execute_result"
    }
   ],
   "source": [
    "y.value_counts()"
   ]
  },
  {
   "cell_type": "code",
   "execution_count": 45,
   "metadata": {
    "executionInfo": {
     "elapsed": 285,
     "status": "ok",
     "timestamp": 1636511853393,
     "user": {
      "displayName": "Seunghwan Yang",
      "photoUrl": "https://lh3.googleusercontent.com/a/default-user=s64",
      "userId": "06508627432049251211"
     },
     "user_tz": -540
    },
    "id": "SsjP4BHah8yi"
   },
   "outputs": [],
   "source": [
    "X_train, X_test, y_train, y_test = train_test_split(X, y, test_size=0.3, random_state=0, stratify=y)"
   ]
  },
  {
   "cell_type": "code",
   "execution_count": 46,
   "metadata": {
    "colab": {
     "base_uri": "https://localhost:8080/"
    },
    "executionInfo": {
     "elapsed": 13,
     "status": "ok",
     "timestamp": 1636511854545,
     "user": {
      "displayName": "Seunghwan Yang",
      "photoUrl": "https://lh3.googleusercontent.com/a/default-user=s64",
      "userId": "06508627432049251211"
     },
     "user_tz": -540
    },
    "id": "P7btyyU8iJcR",
    "outputId": "d0ae4c85-f458-4a77-d74b-f3276c35ba9a"
   },
   "outputs": [
    {
     "name": "stdout",
     "output_type": "stream",
     "text": [
      "Versicolor    35\n",
      "Virginica     35\n",
      "Setosa        35\n",
      "Name: variety, dtype: int64\n",
      "Versicolor    15\n",
      "Virginica     15\n",
      "Setosa        15\n",
      "Name: variety, dtype: int64\n"
     ]
    }
   ],
   "source": [
    "print(y_train.value_counts())\n",
    "print(y_test.value_counts())"
   ]
  },
  {
   "cell_type": "markdown",
   "metadata": {
    "id": "4F3--tkdinn2"
   },
   "source": [
    "## 데이터 정규화\n",
    "- 정규화: 특성의 스케일을 특정 범위 $[a,b]$로 맞추는 것\n",
    "\n",
    "예) **최소-최대 스케일 변환**\n",
    "$$\n",
    "x^{(i)}_{norm} = \\frac{x^{(i)} - x_{min}}{x_{max}-x_{min}}\n",
    "$$\n",
    "여기서 $x^{(i)}$는 특정 샘플, $x_{max}$는 최대값이고 $x_{min}$는 최소값\n",
    "\n",
    "- 표준화: 특성의 평균을 0에 맞추고 표준편차를 1로 만들어 정규 분포와 같은 특징을 갖도록 하는 것\n",
    "$$\n",
    "x^{(i)}_{std} = \\frac{x^{(i)}-\\mu_x}{\\sigma_x}\n",
    "$$\n",
    "여기서 $\\mu_x$는 평균, $\\sigma_x$는 표준편차"
   ]
  },
  {
   "cell_type": "markdown",
   "metadata": {
    "id": "0F7DW-1liy_t"
   },
   "source": [
    "인공신경망의 입력 데이터처럼 데이터의 절댓값보다는 분포가 더 중요한 경우에는 데이터를 정규화하는 것이 좋습니다."
   ]
  },
  {
   "cell_type": "code",
   "execution_count": 47,
   "metadata": {
    "id": "o0-3Y6Tgjh3z"
   },
   "outputs": [],
   "source": [
    "import numpy as np\n",
    "from sklearn.preprocessing import MinMaxScaler, StandardScaler\n",
    "import matplotlib.pyplot as plt"
   ]
  },
  {
   "cell_type": "code",
   "execution_count": 48,
   "metadata": {
    "colab": {
     "base_uri": "https://localhost:8080/",
     "height": 419
    },
    "executionInfo": {
     "elapsed": 413,
     "status": "ok",
     "timestamp": 1636459155397,
     "user": {
      "displayName": "Seunghwan Yang",
      "photoUrl": "https://lh3.googleusercontent.com/a/default-user=s64",
      "userId": "06508627432049251211"
     },
     "user_tz": -540
    },
    "id": "TipfAuPOkO85",
    "outputId": "16064f3b-4846-4338-90af-56d678545051"
   },
   "outputs": [
    {
     "data": {
      "text/html": [
       "<div>\n",
       "<style scoped>\n",
       "    .dataframe tbody tr th:only-of-type {\n",
       "        vertical-align: middle;\n",
       "    }\n",
       "\n",
       "    .dataframe tbody tr th {\n",
       "        vertical-align: top;\n",
       "    }\n",
       "\n",
       "    .dataframe thead th {\n",
       "        text-align: right;\n",
       "    }\n",
       "</style>\n",
       "<table border=\"1\" class=\"dataframe\">\n",
       "  <thead>\n",
       "    <tr style=\"text-align: right;\">\n",
       "      <th></th>\n",
       "      <th>index</th>\n",
       "      <th>sepal.length</th>\n",
       "      <th>sepal.width</th>\n",
       "      <th>petal.length</th>\n",
       "      <th>petal.width</th>\n",
       "      <th>variety</th>\n",
       "    </tr>\n",
       "  </thead>\n",
       "  <tbody>\n",
       "    <tr>\n",
       "      <th>0</th>\n",
       "      <td>0</td>\n",
       "      <td>5.1</td>\n",
       "      <td>3.5</td>\n",
       "      <td>1.4</td>\n",
       "      <td>0.2</td>\n",
       "      <td>Setosa</td>\n",
       "    </tr>\n",
       "    <tr>\n",
       "      <th>1</th>\n",
       "      <td>1</td>\n",
       "      <td>4.9</td>\n",
       "      <td>3.0</td>\n",
       "      <td>1.4</td>\n",
       "      <td>0.2</td>\n",
       "      <td>Setosa</td>\n",
       "    </tr>\n",
       "    <tr>\n",
       "      <th>2</th>\n",
       "      <td>2</td>\n",
       "      <td>4.7</td>\n",
       "      <td>3.2</td>\n",
       "      <td>1.3</td>\n",
       "      <td>0.2</td>\n",
       "      <td>Setosa</td>\n",
       "    </tr>\n",
       "    <tr>\n",
       "      <th>3</th>\n",
       "      <td>3</td>\n",
       "      <td>4.6</td>\n",
       "      <td>3.1</td>\n",
       "      <td>1.5</td>\n",
       "      <td>0.2</td>\n",
       "      <td>Setosa</td>\n",
       "    </tr>\n",
       "    <tr>\n",
       "      <th>4</th>\n",
       "      <td>4</td>\n",
       "      <td>5.0</td>\n",
       "      <td>3.6</td>\n",
       "      <td>1.4</td>\n",
       "      <td>0.2</td>\n",
       "      <td>Setosa</td>\n",
       "    </tr>\n",
       "    <tr>\n",
       "      <th>...</th>\n",
       "      <td>...</td>\n",
       "      <td>...</td>\n",
       "      <td>...</td>\n",
       "      <td>...</td>\n",
       "      <td>...</td>\n",
       "      <td>...</td>\n",
       "    </tr>\n",
       "    <tr>\n",
       "      <th>145</th>\n",
       "      <td>145</td>\n",
       "      <td>6.7</td>\n",
       "      <td>3.0</td>\n",
       "      <td>5.2</td>\n",
       "      <td>2.3</td>\n",
       "      <td>Virginica</td>\n",
       "    </tr>\n",
       "    <tr>\n",
       "      <th>146</th>\n",
       "      <td>146</td>\n",
       "      <td>6.3</td>\n",
       "      <td>2.5</td>\n",
       "      <td>5.0</td>\n",
       "      <td>1.9</td>\n",
       "      <td>Virginica</td>\n",
       "    </tr>\n",
       "    <tr>\n",
       "      <th>147</th>\n",
       "      <td>147</td>\n",
       "      <td>6.5</td>\n",
       "      <td>3.0</td>\n",
       "      <td>5.2</td>\n",
       "      <td>2.0</td>\n",
       "      <td>Virginica</td>\n",
       "    </tr>\n",
       "    <tr>\n",
       "      <th>148</th>\n",
       "      <td>148</td>\n",
       "      <td>6.2</td>\n",
       "      <td>3.4</td>\n",
       "      <td>5.4</td>\n",
       "      <td>2.3</td>\n",
       "      <td>Virginica</td>\n",
       "    </tr>\n",
       "    <tr>\n",
       "      <th>149</th>\n",
       "      <td>149</td>\n",
       "      <td>5.9</td>\n",
       "      <td>3.0</td>\n",
       "      <td>5.1</td>\n",
       "      <td>1.8</td>\n",
       "      <td>Virginica</td>\n",
       "    </tr>\n",
       "  </tbody>\n",
       "</table>\n",
       "<p>150 rows × 6 columns</p>\n",
       "</div>"
      ],
      "text/plain": [
       "     index  sepal.length  sepal.width  petal.length  petal.width    variety\n",
       "0        0           5.1          3.5           1.4          0.2     Setosa\n",
       "1        1           4.9          3.0           1.4          0.2     Setosa\n",
       "2        2           4.7          3.2           1.3          0.2     Setosa\n",
       "3        3           4.6          3.1           1.5          0.2     Setosa\n",
       "4        4           5.0          3.6           1.4          0.2     Setosa\n",
       "..     ...           ...          ...           ...          ...        ...\n",
       "145    145           6.7          3.0           5.2          2.3  Virginica\n",
       "146    146           6.3          2.5           5.0          1.9  Virginica\n",
       "147    147           6.5          3.0           5.2          2.0  Virginica\n",
       "148    148           6.2          3.4           5.4          2.3  Virginica\n",
       "149    149           5.9          3.0           5.1          1.8  Virginica\n",
       "\n",
       "[150 rows x 6 columns]"
      ]
     },
     "execution_count": 48,
     "metadata": {},
     "output_type": "execute_result"
    }
   ],
   "source": [
    "iris.reset_index()"
   ]
  },
  {
   "cell_type": "code",
   "execution_count": 49,
   "metadata": {
    "colab": {
     "base_uri": "https://localhost:8080/",
     "height": 284
    },
    "executionInfo": {
     "elapsed": 918,
     "status": "ok",
     "timestamp": 1636512209285,
     "user": {
      "displayName": "Seunghwan Yang",
      "photoUrl": "https://lh3.googleusercontent.com/a/default-user=s64",
      "userId": "06508627432049251211"
     },
     "user_tz": -540
    },
    "id": "OGz70d9ZukKu",
    "outputId": "98473495-74f2-4e80-9459-b7eb7534aef8"
   },
   "outputs": [
    {
     "data": {
      "text/plain": [
       "<AxesSubplot:>"
      ]
     },
     "execution_count": 49,
     "metadata": {},
     "output_type": "execute_result"
    },
    {
     "data": {
      "image/png": "[encoded data removed]",
      "text/plain": [
       "<Figure size 432x288 with 1 Axes>"
      ]
     },
     "metadata": {
      "needs_background": "light"
     },
     "output_type": "display_data"
    }
   ],
   "source": [
    "iris[['sepal.length']].plot()"
   ]
  },
  {
   "cell_type": "code",
   "execution_count": 50,
   "metadata": {
    "colab": {
     "base_uri": "https://localhost:8080/",
     "height": 279
    },
    "executionInfo": {
     "elapsed": 699,
     "status": "ok",
     "timestamp": 1636459407893,
     "user": {
      "displayName": "Seunghwan Yang",
      "photoUrl": "https://lh3.googleusercontent.com/a/default-user=s64",
      "userId": "06508627432049251211"
     },
     "user_tz": -540
    },
    "id": "U77icFkEj5qB",
    "outputId": "06cd72f0-6dcf-4711-b787-fb6cd34897af"
   },
   "outputs": [
    {
     "data": {
      "image/png": "[encoded data removed]",
      "text/plain": [
       "<Figure size 432x288 with 1 Axes>"
      ]
     },
     "metadata": {
      "needs_background": "light"
     },
     "output_type": "display_data"
    }
   ],
   "source": [
    "iris.reset_index().plot.scatter(x='index', y='sepal.length');"
   ]
  },
  {
   "cell_type": "code",
   "execution_count": 51,
   "metadata": {
    "id": "Lh2oNBqjkYTi"
   },
   "outputs": [],
   "source": [
    "iris['sl_minmax'] = MinMaxScaler().fit_transform(iris[['sepal.length']])"
   ]
  },
  {
   "cell_type": "code",
   "execution_count": 52,
   "metadata": {
    "colab": {
     "base_uri": "https://localhost:8080/"
    },
    "executionInfo": {
     "elapsed": 514,
     "status": "ok",
     "timestamp": 1636459366341,
     "user": {
      "displayName": "Seunghwan Yang",
      "photoUrl": "https://lh3.googleusercontent.com/a/default-user=s64",
      "userId": "06508627432049251211"
     },
     "user_tz": -540
    },
    "id": "m2SZXeowlD2u",
    "outputId": "f41f20a6-5382-43f8-991e-b76282aaf33c"
   },
   "outputs": [
    {
     "data": {
      "text/plain": [
       "0      0.222222\n",
       "1      0.166667\n",
       "2      0.111111\n",
       "3      0.083333\n",
       "4      0.194444\n",
       "         ...   \n",
       "145    0.666667\n",
       "146    0.555556\n",
       "147    0.611111\n",
       "148    0.527778\n",
       "149    0.444444\n",
       "Name: sl_minmax, Length: 150, dtype: float64"
      ]
     },
     "execution_count": 52,
     "metadata": {},
     "output_type": "execute_result"
    }
   ],
   "source": [
    "iris['sl_minmax']"
   ]
  },
  {
   "cell_type": "code",
   "execution_count": 53,
   "metadata": {
    "colab": {
     "base_uri": "https://localhost:8080/",
     "height": 279
    },
    "executionInfo": {
     "elapsed": 519,
     "status": "ok",
     "timestamp": 1636459390715,
     "user": {
      "displayName": "Seunghwan Yang",
      "photoUrl": "https://lh3.googleusercontent.com/a/default-user=s64",
      "userId": "06508627432049251211"
     },
     "user_tz": -540
    },
    "id": "X4aIyPsykshn",
    "outputId": "bf84768a-1ebb-4858-bc34-ec113ff6e141"
   },
   "outputs": [
    {
     "data": {
      "image/png": "[encoded data removed]",
      "text/plain": [
       "<Figure size 432x288 with 1 Axes>"
      ]
     },
     "metadata": {
      "needs_background": "light"
     },
     "output_type": "display_data"
    }
   ],
   "source": [
    "iris.reset_index().plot.scatter(x='index', y='sl_minmax');"
   ]
  },
  {
   "cell_type": "code",
   "execution_count": 54,
   "metadata": {
    "id": "l-iZ6LoqkkrQ"
   },
   "outputs": [],
   "source": [
    "iris['sl_standard'] = StandardScaler().fit_transform(iris[['sepal.length']])"
   ]
  },
  {
   "cell_type": "code",
   "execution_count": 55,
   "metadata": {
    "colab": {
     "base_uri": "https://localhost:8080/",
     "height": 279
    },
    "executionInfo": {
     "elapsed": 1263,
     "status": "ok",
     "timestamp": 1636459781232,
     "user": {
      "displayName": "Seunghwan Yang",
      "photoUrl": "https://lh3.googleusercontent.com/a/default-user=s64",
      "userId": "06508627432049251211"
     },
     "user_tz": -540
    },
    "id": "7EYsbklBlihW",
    "outputId": "ee60d6f2-99c0-4cb8-9378-9c24585f72a9"
   },
   "outputs": [
    {
     "data": {
      "image/png": "[encoded data removed]",
      "text/plain": [
       "<Figure size 432x288 with 1 Axes>"
      ]
     },
     "metadata": {
      "needs_background": "light"
     },
     "output_type": "display_data"
    }
   ],
   "source": [
    "iris.reset_index().plot.scatter(x='index', y='sl_standard');"
   ]
  },
  {
   "cell_type": "markdown",
   "metadata": {
    "id": "QOP7cNpro73v"
   },
   "source": [
    "### 훈련세트와 테스트세트에 정규화를 적용하는 경우 유의할 점"
   ]
  },
  {
   "cell_type": "markdown",
   "metadata": {
    "id": "Y9NuAKPKqTgi"
   },
   "source": [
    "주의: 학습세트와 평가 세트를 나눌 경우, 동일한 정규화를 사용해야 합니다."
   ]
  },
  {
   "cell_type": "code",
   "execution_count": 56,
   "metadata": {
    "id": "CRfbNOBYnINa"
   },
   "outputs": [],
   "source": [
    "mms = MinMaxScaler()"
   ]
  },
  {
   "cell_type": "code",
   "execution_count": 57,
   "metadata": {
    "id": "rWy7oXhunsQk"
   },
   "outputs": [],
   "source": [
    "X_train_mms = mms.fit_transform(X_train)"
   ]
  },
  {
   "cell_type": "code",
   "execution_count": 58,
   "metadata": {
    "colab": {
     "base_uri": "https://localhost:8080/"
    },
    "executionInfo": {
     "elapsed": 470,
     "status": "ok",
     "timestamp": 1636460168855,
     "user": {
      "displayName": "Seunghwan Yang",
      "photoUrl": "https://lh3.googleusercontent.com/a/default-user=s64",
      "userId": "06508627432049251211"
     },
     "user_tz": -540
    },
    "id": "HgZKQ2S-oFeo",
    "outputId": "85246a89-3654-48e2-81fe-64a3b5ee7610"
   },
   "outputs": [
    {
     "data": {
      "text/plain": [
       "array([[6.7, 3.3, 5.7, 2.5],\n",
       "       [7.7, 3.8, 6.7, 2.2],\n",
       "       [6.4, 3.2, 5.3, 2.3],\n",
       "       [4.6, 3.6, 1. , 0.2],\n",
       "       [5.2, 3.4, 1.4, 0.2]])"
      ]
     },
     "execution_count": 58,
     "metadata": {},
     "output_type": "execute_result"
    }
   ],
   "source": [
    "X_train.values[:5]"
   ]
  },
  {
   "cell_type": "code",
   "execution_count": 59,
   "metadata": {
    "colab": {
     "base_uri": "https://localhost:8080/"
    },
    "executionInfo": {
     "elapsed": 419,
     "status": "ok",
     "timestamp": 1636460149926,
     "user": {
      "displayName": "Seunghwan Yang",
      "photoUrl": "https://lh3.googleusercontent.com/a/default-user=s64",
      "userId": "06508627432049251211"
     },
     "user_tz": -540
    },
    "id": "Dk2BTvwtn9yU",
    "outputId": "95d9dee7-bdab-47af-9c26-8c937b8d3207"
   },
   "outputs": [
    {
     "data": {
      "text/plain": [
       "array([[0.66666667, 0.54166667, 0.79661017, 1.        ],\n",
       "       [0.94444444, 0.75      , 0.96610169, 0.875     ],\n",
       "       [0.58333333, 0.5       , 0.72881356, 0.91666667],\n",
       "       [0.08333333, 0.66666667, 0.        , 0.04166667],\n",
       "       [0.25      , 0.58333333, 0.06779661, 0.04166667]])"
      ]
     },
     "execution_count": 59,
     "metadata": {},
     "output_type": "execute_result"
    }
   ],
   "source": [
    "X_train_mms[:5]"
   ]
  },
  {
   "cell_type": "code",
   "execution_count": 60,
   "metadata": {
    "colab": {
     "base_uri": "https://localhost:8080/"
    },
    "executionInfo": {
     "elapsed": 472,
     "status": "ok",
     "timestamp": 1636460200795,
     "user": {
      "displayName": "Seunghwan Yang",
      "photoUrl": "https://lh3.googleusercontent.com/a/default-user=s64",
      "userId": "06508627432049251211"
     },
     "user_tz": -540
    },
    "id": "Tdgk3YTin_06",
    "outputId": "94f11370-9b03-4674-d3f9-fcaf137fc2e3"
   },
   "outputs": [
    {
     "data": {
      "text/plain": [
       "array([[0.55555556, 0.58333333, 0.77966102, 0.95833333],\n",
       "       [0.41666667, 0.29166667, 0.69491525, 0.75      ],\n",
       "       [0.22222222, 0.58333333, 0.08474576, 0.04166667],\n",
       "       [0.22222222, 0.75      , 0.15254237, 0.125     ],\n",
       "       [0.75      , 0.5       , 0.62711864, 0.54166667]])"
      ]
     },
     "execution_count": 60,
     "metadata": {},
     "output_type": "execute_result"
    }
   ],
   "source": [
    "X_test_mms = mms.transform(X_test)\n",
    "X_test_mms[:5]"
   ]
  },
  {
   "cell_type": "code",
   "execution_count": null,
   "metadata": {
    "id": "mRTvnBGQoP9o"
   },
   "outputs": [],
   "source": []
  }
 ],
 "metadata": {
  "colab": {
   "authorship_tag": "ABX9TyPW/BC/DkfVyntU5nZ+c047",
   "collapsed_sections": [],
   "name": "데이터전처리.ipynb",
   "provenance": []
  },
  "kernelspec": {
   "display_name": "Python 3",
   "language": "python",
   "name": "python3"
  },
  "language_info": {
   "codemirror_mode": {
    "name": "ipython",
    "version": 3
   },
   "file_extension": ".py",
   "mimetype": "text/x-python",
   "name": "python",
   "nbconvert_exporter": "python",
   "pygments_lexer": "ipython3",
   "version": "3.8.8"
  }
 },
 "nbformat": 4,
 "nbformat_minor": 1
}
