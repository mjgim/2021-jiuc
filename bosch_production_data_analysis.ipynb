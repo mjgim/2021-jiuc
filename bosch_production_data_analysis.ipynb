{
 "cells": [
  {
   "cell_type": "code",
   "execution_count": 1,
   "id": "ba9e5d9d-3c7d-4a19-9b31-acc4c42698aa",
   "metadata": {},
   "outputs": [],
   "source": [
    "%config Completer.use_jedi=False"
   ]
  },
  {
   "cell_type": "code",
   "execution_count": 2,
   "id": "de6f636b-a03b-402b-b6e5-5f03b4d77410",
   "metadata": {},
   "outputs": [],
   "source": [
    "import pandas as pd\n",
    "import numpy as np\n",
    "from matplotlib import pyplot as plt"
   ]
  },
  {
   "cell_type": "markdown",
   "id": "63dc37d1-5475-4162-93e2-9463332d0b4f",
   "metadata": {},
   "source": [
    "## 데이터 불러오기"
   ]
  },
  {
   "cell_type": "code",
   "execution_count": 3,
   "id": "2893d0ea-cc53-4c61-a6a0-59a612e0ff6b",
   "metadata": {},
   "outputs": [],
   "source": [
    "from pathlib import Path"
   ]
  },
  {
   "cell_type": "code",
   "execution_count": 4,
   "id": "77b206c1-bbe8-41fc-960b-f8dd9591dc7d",
   "metadata": {},
   "outputs": [],
   "source": [
    "path = Path('data/')"
   ]
  },
  {
   "cell_type": "code",
   "execution_count": 5,
   "id": "b0642e90-558b-49b9-8a64-3f6e9353a589",
   "metadata": {},
   "outputs": [
    {
     "data": {
      "text/plain": [
       "PosixPath('data')"
      ]
     },
     "execution_count": 5,
     "metadata": {},
     "output_type": "execute_result"
    }
   ],
   "source": [
    "path"
   ]
  },
  {
   "cell_type": "code",
   "execution_count": 6,
   "id": "80db6697-cccb-41a5-ae00-3b639087ebc6",
   "metadata": {},
   "outputs": [
    {
     "data": {
      "text/plain": [
       "PosixPath('/Volumes/GoogleDrive/내 드라이브/JupyterNotebook/강연자료/20211014_Bosch')"
      ]
     },
     "execution_count": 6,
     "metadata": {},
     "output_type": "execute_result"
    }
   ],
   "source": [
    "path.cwd()"
   ]
  },
  {
   "cell_type": "code",
   "execution_count": 7,
   "id": "a14162f0-3fac-4fc6-b312-93dd44218df2",
   "metadata": {},
   "outputs": [],
   "source": [
    "train_numeric = pd.read_csv(path / 'train_numeric.csv')"
   ]
  },
  {
   "cell_type": "code",
   "execution_count": 8,
   "id": "74fd258d-620b-4259-977d-ed3d1f9544aa",
   "metadata": {},
   "outputs": [
    {
     "data": {
      "text/html": [
       "<div>\n",
       "<style scoped>\n",
       "    .dataframe tbody tr th:only-of-type {\n",
       "        vertical-align: middle;\n",
       "    }\n",
       "\n",
       "    .dataframe tbody tr th {\n",
       "        vertical-align: top;\n",
       "    }\n",
       "\n",
       "    .dataframe thead th {\n",
       "        text-align: right;\n",
       "    }\n",
       "</style>\n",
       "<table border=\"1\" class=\"dataframe\">\n",
       "  <thead>\n",
       "    <tr style=\"text-align: right;\">\n",
       "      <th></th>\n",
       "      <th>Id</th>\n",
       "      <th>L0_S0_F0</th>\n",
       "      <th>L0_S0_F2</th>\n",
       "      <th>L0_S0_F4</th>\n",
       "      <th>L0_S0_F6</th>\n",
       "      <th>L0_S0_F8</th>\n",
       "      <th>L0_S0_F10</th>\n",
       "      <th>L0_S0_F12</th>\n",
       "      <th>L0_S0_F14</th>\n",
       "      <th>L0_S0_F16</th>\n",
       "      <th>...</th>\n",
       "      <th>L3_S50_F4245</th>\n",
       "      <th>L3_S50_F4247</th>\n",
       "      <th>L3_S50_F4249</th>\n",
       "      <th>L3_S50_F4251</th>\n",
       "      <th>L3_S50_F4253</th>\n",
       "      <th>L3_S51_F4256</th>\n",
       "      <th>L3_S51_F4258</th>\n",
       "      <th>L3_S51_F4260</th>\n",
       "      <th>L3_S51_F4262</th>\n",
       "      <th>Response</th>\n",
       "    </tr>\n",
       "  </thead>\n",
       "  <tbody>\n",
       "    <tr>\n",
       "      <th>0</th>\n",
       "      <td>4</td>\n",
       "      <td>0.030</td>\n",
       "      <td>-0.034</td>\n",
       "      <td>-0.197</td>\n",
       "      <td>-0.179</td>\n",
       "      <td>0.118</td>\n",
       "      <td>0.116</td>\n",
       "      <td>-0.015</td>\n",
       "      <td>-0.032</td>\n",
       "      <td>0.020</td>\n",
       "      <td>...</td>\n",
       "      <td>NaN</td>\n",
       "      <td>NaN</td>\n",
       "      <td>NaN</td>\n",
       "      <td>NaN</td>\n",
       "      <td>NaN</td>\n",
       "      <td>NaN</td>\n",
       "      <td>NaN</td>\n",
       "      <td>NaN</td>\n",
       "      <td>NaN</td>\n",
       "      <td>0</td>\n",
       "    </tr>\n",
       "    <tr>\n",
       "      <th>1</th>\n",
       "      <td>6</td>\n",
       "      <td>NaN</td>\n",
       "      <td>NaN</td>\n",
       "      <td>NaN</td>\n",
       "      <td>NaN</td>\n",
       "      <td>NaN</td>\n",
       "      <td>NaN</td>\n",
       "      <td>NaN</td>\n",
       "      <td>NaN</td>\n",
       "      <td>NaN</td>\n",
       "      <td>...</td>\n",
       "      <td>NaN</td>\n",
       "      <td>NaN</td>\n",
       "      <td>NaN</td>\n",
       "      <td>NaN</td>\n",
       "      <td>NaN</td>\n",
       "      <td>NaN</td>\n",
       "      <td>NaN</td>\n",
       "      <td>NaN</td>\n",
       "      <td>NaN</td>\n",
       "      <td>0</td>\n",
       "    </tr>\n",
       "    <tr>\n",
       "      <th>2</th>\n",
       "      <td>7</td>\n",
       "      <td>0.088</td>\n",
       "      <td>0.086</td>\n",
       "      <td>0.003</td>\n",
       "      <td>-0.052</td>\n",
       "      <td>0.161</td>\n",
       "      <td>0.025</td>\n",
       "      <td>-0.015</td>\n",
       "      <td>-0.072</td>\n",
       "      <td>-0.225</td>\n",
       "      <td>...</td>\n",
       "      <td>NaN</td>\n",
       "      <td>NaN</td>\n",
       "      <td>NaN</td>\n",
       "      <td>NaN</td>\n",
       "      <td>NaN</td>\n",
       "      <td>NaN</td>\n",
       "      <td>NaN</td>\n",
       "      <td>NaN</td>\n",
       "      <td>NaN</td>\n",
       "      <td>0</td>\n",
       "    </tr>\n",
       "    <tr>\n",
       "      <th>3</th>\n",
       "      <td>9</td>\n",
       "      <td>-0.036</td>\n",
       "      <td>-0.064</td>\n",
       "      <td>0.294</td>\n",
       "      <td>0.330</td>\n",
       "      <td>0.074</td>\n",
       "      <td>0.161</td>\n",
       "      <td>0.022</td>\n",
       "      <td>0.128</td>\n",
       "      <td>-0.026</td>\n",
       "      <td>...</td>\n",
       "      <td>NaN</td>\n",
       "      <td>NaN</td>\n",
       "      <td>NaN</td>\n",
       "      <td>NaN</td>\n",
       "      <td>NaN</td>\n",
       "      <td>NaN</td>\n",
       "      <td>NaN</td>\n",
       "      <td>NaN</td>\n",
       "      <td>NaN</td>\n",
       "      <td>0</td>\n",
       "    </tr>\n",
       "    <tr>\n",
       "      <th>4</th>\n",
       "      <td>11</td>\n",
       "      <td>-0.055</td>\n",
       "      <td>-0.086</td>\n",
       "      <td>0.294</td>\n",
       "      <td>0.330</td>\n",
       "      <td>0.118</td>\n",
       "      <td>0.025</td>\n",
       "      <td>0.030</td>\n",
       "      <td>0.168</td>\n",
       "      <td>-0.169</td>\n",
       "      <td>...</td>\n",
       "      <td>NaN</td>\n",
       "      <td>NaN</td>\n",
       "      <td>NaN</td>\n",
       "      <td>NaN</td>\n",
       "      <td>NaN</td>\n",
       "      <td>NaN</td>\n",
       "      <td>NaN</td>\n",
       "      <td>NaN</td>\n",
       "      <td>NaN</td>\n",
       "      <td>0</td>\n",
       "    </tr>\n",
       "  </tbody>\n",
       "</table>\n",
       "<p>5 rows × 970 columns</p>\n",
       "</div>"
      ],
      "text/plain": [
       "   Id  L0_S0_F0  L0_S0_F2  L0_S0_F4  L0_S0_F6  L0_S0_F8  L0_S0_F10  L0_S0_F12  \\\n",
       "0   4     0.030    -0.034    -0.197    -0.179     0.118      0.116     -0.015   \n",
       "1   6       NaN       NaN       NaN       NaN       NaN        NaN        NaN   \n",
       "2   7     0.088     0.086     0.003    -0.052     0.161      0.025     -0.015   \n",
       "3   9    -0.036    -0.064     0.294     0.330     0.074      0.161      0.022   \n",
       "4  11    -0.055    -0.086     0.294     0.330     0.118      0.025      0.030   \n",
       "\n",
       "   L0_S0_F14  L0_S0_F16  ...  L3_S50_F4245  L3_S50_F4247  L3_S50_F4249  \\\n",
       "0     -0.032      0.020  ...           NaN           NaN           NaN   \n",
       "1        NaN        NaN  ...           NaN           NaN           NaN   \n",
       "2     -0.072     -0.225  ...           NaN           NaN           NaN   \n",
       "3      0.128     -0.026  ...           NaN           NaN           NaN   \n",
       "4      0.168     -0.169  ...           NaN           NaN           NaN   \n",
       "\n",
       "   L3_S50_F4251  L3_S50_F4253  L3_S51_F4256  L3_S51_F4258  L3_S51_F4260  \\\n",
       "0           NaN           NaN           NaN           NaN           NaN   \n",
       "1           NaN           NaN           NaN           NaN           NaN   \n",
       "2           NaN           NaN           NaN           NaN           NaN   \n",
       "3           NaN           NaN           NaN           NaN           NaN   \n",
       "4           NaN           NaN           NaN           NaN           NaN   \n",
       "\n",
       "   L3_S51_F4262  Response  \n",
       "0           NaN         0  \n",
       "1           NaN         0  \n",
       "2           NaN         0  \n",
       "3           NaN         0  \n",
       "4           NaN         0  \n",
       "\n",
       "[5 rows x 970 columns]"
      ]
     },
     "execution_count": 8,
     "metadata": {},
     "output_type": "execute_result"
    }
   ],
   "source": [
    "train_numeric.head()"
   ]
  },
  {
   "cell_type": "markdown",
   "id": "ba334b61-fe2a-4ea0-982c-a0322feb115d",
   "metadata": {},
   "source": [
    "#### 데이터 확인"
   ]
  },
  {
   "cell_type": "code",
   "execution_count": 9,
   "id": "cc3013a5-30e0-4ed6-9716-dc1ac520b764",
   "metadata": {},
   "outputs": [
    {
     "name": "stdout",
     "output_type": "stream",
     "text": [
      "<class 'pandas.core.frame.DataFrame'>\n",
      "RangeIndex: 1183747 entries, 0 to 1183746\n",
      "Columns: 970 entries, Id to Response\n",
      "dtypes: float64(968), int64(2)\n",
      "memory usage: 8.6 GB\n"
     ]
    }
   ],
   "source": [
    "train_numeric.info(memory_usage='deep')"
   ]
  },
  {
   "cell_type": "code",
   "execution_count": 10,
   "id": "e40ceff0-a145-4aed-8b11-c80fe168a70d",
   "metadata": {},
   "outputs": [
    {
     "data": {
      "text/html": [
       "<div>\n",
       "<style scoped>\n",
       "    .dataframe tbody tr th:only-of-type {\n",
       "        vertical-align: middle;\n",
       "    }\n",
       "\n",
       "    .dataframe tbody tr th {\n",
       "        vertical-align: top;\n",
       "    }\n",
       "\n",
       "    .dataframe thead th {\n",
       "        text-align: right;\n",
       "    }\n",
       "</style>\n",
       "<table border=\"1\" class=\"dataframe\">\n",
       "  <thead>\n",
       "    <tr style=\"text-align: right;\">\n",
       "      <th></th>\n",
       "      <th>Id</th>\n",
       "      <th>L0_S0_F0</th>\n",
       "      <th>L0_S0_F2</th>\n",
       "      <th>L0_S0_F4</th>\n",
       "      <th>L0_S0_F6</th>\n",
       "      <th>L0_S0_F8</th>\n",
       "      <th>L0_S0_F10</th>\n",
       "      <th>L0_S0_F12</th>\n",
       "      <th>L0_S0_F14</th>\n",
       "      <th>L0_S0_F16</th>\n",
       "      <th>...</th>\n",
       "      <th>L3_S50_F4245</th>\n",
       "      <th>L3_S50_F4247</th>\n",
       "      <th>L3_S50_F4249</th>\n",
       "      <th>L3_S50_F4251</th>\n",
       "      <th>L3_S50_F4253</th>\n",
       "      <th>L3_S51_F4256</th>\n",
       "      <th>L3_S51_F4258</th>\n",
       "      <th>L3_S51_F4260</th>\n",
       "      <th>L3_S51_F4262</th>\n",
       "      <th>Response</th>\n",
       "    </tr>\n",
       "  </thead>\n",
       "  <tbody>\n",
       "    <tr>\n",
       "      <th>count</th>\n",
       "      <td>1.183747e+06</td>\n",
       "      <td>673862.000000</td>\n",
       "      <td>673862.000000</td>\n",
       "      <td>673862.00000</td>\n",
       "      <td>673862.000000</td>\n",
       "      <td>673862.000000</td>\n",
       "      <td>673862.000000</td>\n",
       "      <td>673862.000000</td>\n",
       "      <td>673862.000000</td>\n",
       "      <td>6.738620e+05</td>\n",
       "      <td>...</td>\n",
       "      <td>3.035900e+04</td>\n",
       "      <td>30359.000000</td>\n",
       "      <td>30359.000000</td>\n",
       "      <td>30359.000000</td>\n",
       "      <td>30359.000000</td>\n",
       "      <td>59853.000000</td>\n",
       "      <td>59853.000000</td>\n",
       "      <td>59853.000000</td>\n",
       "      <td>59853.000000</td>\n",
       "      <td>1.183747e+06</td>\n",
       "    </tr>\n",
       "    <tr>\n",
       "      <th>mean</th>\n",
       "      <td>1.184050e+06</td>\n",
       "      <td>0.000055</td>\n",
       "      <td>0.000091</td>\n",
       "      <td>0.00004</td>\n",
       "      <td>0.000014</td>\n",
       "      <td>-0.000126</td>\n",
       "      <td>0.000161</td>\n",
       "      <td>-0.000044</td>\n",
       "      <td>-0.000359</td>\n",
       "      <td>6.722445e-07</td>\n",
       "      <td>...</td>\n",
       "      <td>8.564182e-07</td>\n",
       "      <td>0.000011</td>\n",
       "      <td>0.000413</td>\n",
       "      <td>0.000212</td>\n",
       "      <td>-0.002413</td>\n",
       "      <td>-0.000002</td>\n",
       "      <td>0.000037</td>\n",
       "      <td>0.000216</td>\n",
       "      <td>0.000056</td>\n",
       "      <td>5.811208e-03</td>\n",
       "    </tr>\n",
       "    <tr>\n",
       "      <th>std</th>\n",
       "      <td>6.834348e+05</td>\n",
       "      <td>0.080214</td>\n",
       "      <td>0.092799</td>\n",
       "      <td>0.21152</td>\n",
       "      <td>0.211635</td>\n",
       "      <td>0.094555</td>\n",
       "      <td>0.164469</td>\n",
       "      <td>0.019451</td>\n",
       "      <td>0.104133</td>\n",
       "      <td>1.148292e-01</td>\n",
       "      <td>...</td>\n",
       "      <td>4.327027e-04</td>\n",
       "      <td>0.000431</td>\n",
       "      <td>0.015370</td>\n",
       "      <td>0.007610</td>\n",
       "      <td>0.250091</td>\n",
       "      <td>0.000716</td>\n",
       "      <td>0.005785</td>\n",
       "      <td>0.008295</td>\n",
       "      <td>0.004196</td>\n",
       "      <td>7.600949e-02</td>\n",
       "    </tr>\n",
       "    <tr>\n",
       "      <th>min</th>\n",
       "      <td>4.000000e+00</td>\n",
       "      <td>-0.565000</td>\n",
       "      <td>-0.616000</td>\n",
       "      <td>-0.41500</td>\n",
       "      <td>-0.416000</td>\n",
       "      <td>-0.447000</td>\n",
       "      <td>-0.612000</td>\n",
       "      <td>-0.052000</td>\n",
       "      <td>-0.272000</td>\n",
       "      <td>-5.000000e-01</td>\n",
       "      <td>...</td>\n",
       "      <td>-2.000000e-03</td>\n",
       "      <td>0.000000</td>\n",
       "      <td>0.000000</td>\n",
       "      <td>0.000000</td>\n",
       "      <td>-0.750000</td>\n",
       "      <td>-0.001000</td>\n",
       "      <td>0.000000</td>\n",
       "      <td>0.000000</td>\n",
       "      <td>0.000000</td>\n",
       "      <td>0.000000e+00</td>\n",
       "    </tr>\n",
       "    <tr>\n",
       "      <th>25%</th>\n",
       "      <td>5.921385e+05</td>\n",
       "      <td>-0.049000</td>\n",
       "      <td>-0.056000</td>\n",
       "      <td>-0.17900</td>\n",
       "      <td>-0.179000</td>\n",
       "      <td>-0.056000</td>\n",
       "      <td>-0.066000</td>\n",
       "      <td>-0.015000</td>\n",
       "      <td>-0.072000</td>\n",
       "      <td>-8.200000e-02</td>\n",
       "      <td>...</td>\n",
       "      <td>0.000000e+00</td>\n",
       "      <td>0.000000</td>\n",
       "      <td>0.000000</td>\n",
       "      <td>0.000000</td>\n",
       "      <td>-0.250000</td>\n",
       "      <td>0.000000</td>\n",
       "      <td>0.000000</td>\n",
       "      <td>0.000000</td>\n",
       "      <td>0.000000</td>\n",
       "      <td>0.000000e+00</td>\n",
       "    </tr>\n",
       "    <tr>\n",
       "      <th>50%</th>\n",
       "      <td>1.184628e+06</td>\n",
       "      <td>0.003000</td>\n",
       "      <td>0.004000</td>\n",
       "      <td>-0.03300</td>\n",
       "      <td>-0.034000</td>\n",
       "      <td>0.031000</td>\n",
       "      <td>0.070000</td>\n",
       "      <td>0.000000</td>\n",
       "      <td>-0.032000</td>\n",
       "      <td>0.000000e+00</td>\n",
       "      <td>...</td>\n",
       "      <td>0.000000e+00</td>\n",
       "      <td>0.000000</td>\n",
       "      <td>0.000000</td>\n",
       "      <td>0.000000</td>\n",
       "      <td>-0.250000</td>\n",
       "      <td>0.000000</td>\n",
       "      <td>0.000000</td>\n",
       "      <td>0.000000</td>\n",
       "      <td>0.000000</td>\n",
       "      <td>0.000000e+00</td>\n",
       "    </tr>\n",
       "    <tr>\n",
       "      <th>75%</th>\n",
       "      <td>1.775674e+06</td>\n",
       "      <td>0.056000</td>\n",
       "      <td>0.063000</td>\n",
       "      <td>0.29400</td>\n",
       "      <td>0.294000</td>\n",
       "      <td>0.074000</td>\n",
       "      <td>0.116000</td>\n",
       "      <td>0.015000</td>\n",
       "      <td>0.088000</td>\n",
       "      <td>7.600000e-02</td>\n",
       "      <td>...</td>\n",
       "      <td>0.000000e+00</td>\n",
       "      <td>0.000000</td>\n",
       "      <td>0.000000</td>\n",
       "      <td>0.000000</td>\n",
       "      <td>0.250000</td>\n",
       "      <td>0.000000</td>\n",
       "      <td>0.000000</td>\n",
       "      <td>0.000000</td>\n",
       "      <td>0.000000</td>\n",
       "      <td>0.000000e+00</td>\n",
       "    </tr>\n",
       "    <tr>\n",
       "      <th>max</th>\n",
       "      <td>2.367495e+06</td>\n",
       "      <td>0.278000</td>\n",
       "      <td>0.302000</td>\n",
       "      <td>0.58500</td>\n",
       "      <td>0.584000</td>\n",
       "      <td>0.466000</td>\n",
       "      <td>0.388000</td>\n",
       "      <td>0.948000</td>\n",
       "      <td>0.688000</td>\n",
       "      <td>5.000000e-01</td>\n",
       "      <td>...</td>\n",
       "      <td>6.900000e-02</td>\n",
       "      <td>0.045000</td>\n",
       "      <td>1.000000</td>\n",
       "      <td>1.000000</td>\n",
       "      <td>0.250000</td>\n",
       "      <td>0.173000</td>\n",
       "      <td>1.000000</td>\n",
       "      <td>1.000000</td>\n",
       "      <td>1.000000</td>\n",
       "      <td>1.000000e+00</td>\n",
       "    </tr>\n",
       "  </tbody>\n",
       "</table>\n",
       "<p>8 rows × 970 columns</p>\n",
       "</div>"
      ],
      "text/plain": [
       "                 Id       L0_S0_F0       L0_S0_F2      L0_S0_F4  \\\n",
       "count  1.183747e+06  673862.000000  673862.000000  673862.00000   \n",
       "mean   1.184050e+06       0.000055       0.000091       0.00004   \n",
       "std    6.834348e+05       0.080214       0.092799       0.21152   \n",
       "min    4.000000e+00      -0.565000      -0.616000      -0.41500   \n",
       "25%    5.921385e+05      -0.049000      -0.056000      -0.17900   \n",
       "50%    1.184628e+06       0.003000       0.004000      -0.03300   \n",
       "75%    1.775674e+06       0.056000       0.063000       0.29400   \n",
       "max    2.367495e+06       0.278000       0.302000       0.58500   \n",
       "\n",
       "            L0_S0_F6       L0_S0_F8      L0_S0_F10      L0_S0_F12  \\\n",
       "count  673862.000000  673862.000000  673862.000000  673862.000000   \n",
       "mean        0.000014      -0.000126       0.000161      -0.000044   \n",
       "std         0.211635       0.094555       0.164469       0.019451   \n",
       "min        -0.416000      -0.447000      -0.612000      -0.052000   \n",
       "25%        -0.179000      -0.056000      -0.066000      -0.015000   \n",
       "50%        -0.034000       0.031000       0.070000       0.000000   \n",
       "75%         0.294000       0.074000       0.116000       0.015000   \n",
       "max         0.584000       0.466000       0.388000       0.948000   \n",
       "\n",
       "           L0_S0_F14     L0_S0_F16  ...  L3_S50_F4245  L3_S50_F4247  \\\n",
       "count  673862.000000  6.738620e+05  ...  3.035900e+04  30359.000000   \n",
       "mean       -0.000359  6.722445e-07  ...  8.564182e-07      0.000011   \n",
       "std         0.104133  1.148292e-01  ...  4.327027e-04      0.000431   \n",
       "min        -0.272000 -5.000000e-01  ... -2.000000e-03      0.000000   \n",
       "25%        -0.072000 -8.200000e-02  ...  0.000000e+00      0.000000   \n",
       "50%        -0.032000  0.000000e+00  ...  0.000000e+00      0.000000   \n",
       "75%         0.088000  7.600000e-02  ...  0.000000e+00      0.000000   \n",
       "max         0.688000  5.000000e-01  ...  6.900000e-02      0.045000   \n",
       "\n",
       "       L3_S50_F4249  L3_S50_F4251  L3_S50_F4253  L3_S51_F4256  L3_S51_F4258  \\\n",
       "count  30359.000000  30359.000000  30359.000000  59853.000000  59853.000000   \n",
       "mean       0.000413      0.000212     -0.002413     -0.000002      0.000037   \n",
       "std        0.015370      0.007610      0.250091      0.000716      0.005785   \n",
       "min        0.000000      0.000000     -0.750000     -0.001000      0.000000   \n",
       "25%        0.000000      0.000000     -0.250000      0.000000      0.000000   \n",
       "50%        0.000000      0.000000     -0.250000      0.000000      0.000000   \n",
       "75%        0.000000      0.000000      0.250000      0.000000      0.000000   \n",
       "max        1.000000      1.000000      0.250000      0.173000      1.000000   \n",
       "\n",
       "       L3_S51_F4260  L3_S51_F4262      Response  \n",
       "count  59853.000000  59853.000000  1.183747e+06  \n",
       "mean       0.000216      0.000056  5.811208e-03  \n",
       "std        0.008295      0.004196  7.600949e-02  \n",
       "min        0.000000      0.000000  0.000000e+00  \n",
       "25%        0.000000      0.000000  0.000000e+00  \n",
       "50%        0.000000      0.000000  0.000000e+00  \n",
       "75%        0.000000      0.000000  0.000000e+00  \n",
       "max        1.000000      1.000000  1.000000e+00  \n",
       "\n",
       "[8 rows x 970 columns]"
      ]
     },
     "execution_count": 10,
     "metadata": {},
     "output_type": "execute_result"
    }
   ],
   "source": [
    "train_numeric.describe()"
   ]
  },
  {
   "cell_type": "code",
   "execution_count": 11,
   "id": "3f52a3b1-cffc-494b-9f5d-fe8bc37e990f",
   "metadata": {},
   "outputs": [
    {
     "data": {
      "text/plain": [
       "(1183747, 970)"
      ]
     },
     "execution_count": 11,
     "metadata": {},
     "output_type": "execute_result"
    }
   ],
   "source": [
    "train_numeric.shape"
   ]
  },
  {
   "cell_type": "markdown",
   "id": "dd40047f-29bd-4347-9a99-7b5ee10c4be7",
   "metadata": {},
   "source": [
    "#### label 갯수 및 비율 확인"
   ]
  },
  {
   "cell_type": "code",
   "execution_count": 12,
   "id": "f3e7fd10-bfee-4d66-958b-2968c4fe2627",
   "metadata": {},
   "outputs": [
    {
     "data": {
      "text/plain": [
       "0    1176868\n",
       "1       6879\n",
       "Name: Response, dtype: int64"
      ]
     },
     "metadata": {},
     "output_type": "display_data"
    },
    {
     "data": {
      "text/plain": [
       "'count'"
      ]
     },
     "metadata": {},
     "output_type": "display_data"
    },
    {
     "data": {
      "text/plain": [
       "0    0.994189\n",
       "1    0.005811\n",
       "Name: Response, dtype: float64"
      ]
     },
     "metadata": {},
     "output_type": "display_data"
    },
    {
     "data": {
      "text/plain": [
       "'ratio'"
      ]
     },
     "metadata": {},
     "output_type": "display_data"
    }
   ],
   "source": [
    "display(train_numeric.Response.value_counts(), 'count')\n",
    "display(train_numeric.Response.value_counts() / train_numeric.shape[0], 'ratio')"
   ]
  },
  {
   "cell_type": "markdown",
   "id": "5159200f-a3a7-4318-b4a4-b71b9e607905",
   "metadata": {},
   "source": [
    "#### 컬럼별 NaN 값을 세어보고 분포 확인"
   ]
  },
  {
   "cell_type": "code",
   "execution_count": 13,
   "id": "75f25cb1-93ca-4fb6-aa32-f7238d82d0ef",
   "metadata": {},
   "outputs": [],
   "source": [
    "nan_counts = train_numeric.isna().sum()"
   ]
  },
  {
   "cell_type": "code",
   "execution_count": 14,
   "id": "7df8115e-7d7d-4d53-8bcb-704b2f2e4961",
   "metadata": {},
   "outputs": [
    {
     "data": {
      "image/png": "[encoded data removed]",
      "text/plain": [
       "<Figure size 720x432 with 1 Axes>"
      ]
     },
     "metadata": {
      "needs_background": "light"
     },
     "output_type": "display_data"
    }
   ],
   "source": [
    "fig, ax = plt.subplots(figsize=(10,6))\n",
    "(nan_counts / len(train_numeric)).plot.hist(bins=30, grid=True, title='NaN value ratio', ax = ax)\n",
    "ax.axvline(x=0.1, color='red')\n",
    "ax.set_xlabel('0:full_data, 1:non_data');"
   ]
  },
  {
   "cell_type": "markdown",
   "id": "9fa9d93a-9dd0-4b2c-826e-7e8a5b62b005",
   "metadata": {
    "tags": []
   },
   "source": [
    "#### 사용할 컬럼 분류 (NaN이 10% 이하인 컬럼 추출)"
   ]
  },
  {
   "cell_type": "code",
   "execution_count": 15,
   "id": "2df5370f-da59-4292-bfa2-92f13a6407ed",
   "metadata": {},
   "outputs": [],
   "source": [
    "bigger_90_cols = ((nan_counts / len(train_numeric)) <= 0.1)"
   ]
  },
  {
   "cell_type": "code",
   "execution_count": 16,
   "id": "60e6b86b-daa5-4ba7-aecc-e2be15093c50",
   "metadata": {},
   "outputs": [
    {
     "data": {
      "text/plain": [
       "Index(['Id', 'L3_S29_F3315', 'L3_S29_F3318', 'L3_S29_F3321', 'L3_S29_F3324',\n",
       "       'L3_S29_F3327', 'L3_S29_F3330', 'L3_S29_F3333', 'L3_S29_F3336',\n",
       "       'L3_S29_F3339',\n",
       "       ...\n",
       "       'L3_S33_F3873', 'L3_S34_F3876', 'L3_S34_F3878', 'L3_S34_F3880',\n",
       "       'L3_S34_F3882', 'L3_S37_F3944', 'L3_S37_F3946', 'L3_S37_F3948',\n",
       "       'L3_S37_F3950', 'Response'],\n",
       "      dtype='object', length=109)"
      ]
     },
     "execution_count": 16,
     "metadata": {},
     "output_type": "execute_result"
    }
   ],
   "source": [
    "use_cols = train_numeric.columns[bigger_90_cols]\n",
    "use_cols"
   ]
  },
  {
   "cell_type": "code",
   "execution_count": 17,
   "id": "ce4817d8-2fbe-463c-95cf-ab2ac8a8f3a9",
   "metadata": {},
   "outputs": [
    {
     "data": {
      "text/html": [
       "<div>\n",
       "<style scoped>\n",
       "    .dataframe tbody tr th:only-of-type {\n",
       "        vertical-align: middle;\n",
       "    }\n",
       "\n",
       "    .dataframe tbody tr th {\n",
       "        vertical-align: top;\n",
       "    }\n",
       "\n",
       "    .dataframe thead th {\n",
       "        text-align: right;\n",
       "    }\n",
       "</style>\n",
       "<table border=\"1\" class=\"dataframe\">\n",
       "  <thead>\n",
       "    <tr style=\"text-align: right;\">\n",
       "      <th></th>\n",
       "      <th>L3_S29_F3315</th>\n",
       "      <th>L3_S29_F3318</th>\n",
       "      <th>L3_S29_F3321</th>\n",
       "      <th>L3_S29_F3324</th>\n",
       "      <th>L3_S29_F3327</th>\n",
       "      <th>L3_S29_F3330</th>\n",
       "      <th>L3_S29_F3333</th>\n",
       "      <th>L3_S29_F3336</th>\n",
       "      <th>L3_S29_F3339</th>\n",
       "      <th>L3_S29_F3342</th>\n",
       "      <th>...</th>\n",
       "      <th>L3_S33_F3873</th>\n",
       "      <th>L3_S34_F3876</th>\n",
       "      <th>L3_S34_F3878</th>\n",
       "      <th>L3_S34_F3880</th>\n",
       "      <th>L3_S34_F3882</th>\n",
       "      <th>L3_S37_F3944</th>\n",
       "      <th>L3_S37_F3946</th>\n",
       "      <th>L3_S37_F3948</th>\n",
       "      <th>L3_S37_F3950</th>\n",
       "      <th>Response</th>\n",
       "    </tr>\n",
       "    <tr>\n",
       "      <th>Id</th>\n",
       "      <th></th>\n",
       "      <th></th>\n",
       "      <th></th>\n",
       "      <th></th>\n",
       "      <th></th>\n",
       "      <th></th>\n",
       "      <th></th>\n",
       "      <th></th>\n",
       "      <th></th>\n",
       "      <th></th>\n",
       "      <th></th>\n",
       "      <th></th>\n",
       "      <th></th>\n",
       "      <th></th>\n",
       "      <th></th>\n",
       "      <th></th>\n",
       "      <th></th>\n",
       "      <th></th>\n",
       "      <th></th>\n",
       "      <th></th>\n",
       "      <th></th>\n",
       "    </tr>\n",
       "  </thead>\n",
       "  <tbody>\n",
       "    <tr>\n",
       "      <th>4</th>\n",
       "      <td>0.030</td>\n",
       "      <td>-0.047</td>\n",
       "      <td>-0.119</td>\n",
       "      <td>0.040</td>\n",
       "      <td>-0.067</td>\n",
       "      <td>-0.058</td>\n",
       "      <td>0.044</td>\n",
       "      <td>0.044</td>\n",
       "      <td>0.010</td>\n",
       "      <td>0.041</td>\n",
       "      <td>...</td>\n",
       "      <td>0.0</td>\n",
       "      <td>0.0</td>\n",
       "      <td>0.0</td>\n",
       "      <td>0.0</td>\n",
       "      <td>0.0</td>\n",
       "      <td>0.0</td>\n",
       "      <td>0.0</td>\n",
       "      <td>0.0</td>\n",
       "      <td>0.0</td>\n",
       "      <td>0</td>\n",
       "    </tr>\n",
       "    <tr>\n",
       "      <th>6</th>\n",
       "      <td>-0.084</td>\n",
       "      <td>-0.030</td>\n",
       "      <td>-0.127</td>\n",
       "      <td>-0.174</td>\n",
       "      <td>0.145</td>\n",
       "      <td>0.152</td>\n",
       "      <td>-0.006</td>\n",
       "      <td>-0.059</td>\n",
       "      <td>-0.064</td>\n",
       "      <td>-0.031</td>\n",
       "      <td>...</td>\n",
       "      <td>0.0</td>\n",
       "      <td>0.0</td>\n",
       "      <td>0.0</td>\n",
       "      <td>0.0</td>\n",
       "      <td>0.0</td>\n",
       "      <td>0.0</td>\n",
       "      <td>0.0</td>\n",
       "      <td>0.0</td>\n",
       "      <td>0.0</td>\n",
       "      <td>0</td>\n",
       "    </tr>\n",
       "    <tr>\n",
       "      <th>7</th>\n",
       "      <td>0.049</td>\n",
       "      <td>-0.030</td>\n",
       "      <td>-0.099</td>\n",
       "      <td>0.070</td>\n",
       "      <td>0.014</td>\n",
       "      <td>0.004</td>\n",
       "      <td>0.006</td>\n",
       "      <td>0.064</td>\n",
       "      <td>0.040</td>\n",
       "      <td>-0.005</td>\n",
       "      <td>...</td>\n",
       "      <td>0.0</td>\n",
       "      <td>0.0</td>\n",
       "      <td>0.0</td>\n",
       "      <td>0.0</td>\n",
       "      <td>0.0</td>\n",
       "      <td>0.0</td>\n",
       "      <td>0.0</td>\n",
       "      <td>0.0</td>\n",
       "      <td>0.0</td>\n",
       "      <td>0</td>\n",
       "    </tr>\n",
       "    <tr>\n",
       "      <th>9</th>\n",
       "      <td>-0.084</td>\n",
       "      <td>-0.139</td>\n",
       "      <td>-0.039</td>\n",
       "      <td>-0.207</td>\n",
       "      <td>0.024</td>\n",
       "      <td>0.025</td>\n",
       "      <td>0.038</td>\n",
       "      <td>-0.033</td>\n",
       "      <td>0.014</td>\n",
       "      <td>0.020</td>\n",
       "      <td>...</td>\n",
       "      <td>0.0</td>\n",
       "      <td>0.0</td>\n",
       "      <td>0.0</td>\n",
       "      <td>0.0</td>\n",
       "      <td>0.0</td>\n",
       "      <td>0.0</td>\n",
       "      <td>0.0</td>\n",
       "      <td>0.0</td>\n",
       "      <td>0.0</td>\n",
       "      <td>0</td>\n",
       "    </tr>\n",
       "    <tr>\n",
       "      <th>11</th>\n",
       "      <td>-0.147</td>\n",
       "      <td>-0.082</td>\n",
       "      <td>-0.091</td>\n",
       "      <td>-0.137</td>\n",
       "      <td>-0.049</td>\n",
       "      <td>-0.063</td>\n",
       "      <td>-0.163</td>\n",
       "      <td>-0.111</td>\n",
       "      <td>0.053</td>\n",
       "      <td>0.033</td>\n",
       "      <td>...</td>\n",
       "      <td>0.0</td>\n",
       "      <td>0.0</td>\n",
       "      <td>0.0</td>\n",
       "      <td>0.0</td>\n",
       "      <td>0.0</td>\n",
       "      <td>0.0</td>\n",
       "      <td>0.0</td>\n",
       "      <td>0.0</td>\n",
       "      <td>0.0</td>\n",
       "      <td>0</td>\n",
       "    </tr>\n",
       "    <tr>\n",
       "      <th>...</th>\n",
       "      <td>...</td>\n",
       "      <td>...</td>\n",
       "      <td>...</td>\n",
       "      <td>...</td>\n",
       "      <td>...</td>\n",
       "      <td>...</td>\n",
       "      <td>...</td>\n",
       "      <td>...</td>\n",
       "      <td>...</td>\n",
       "      <td>...</td>\n",
       "      <td>...</td>\n",
       "      <td>...</td>\n",
       "      <td>...</td>\n",
       "      <td>...</td>\n",
       "      <td>...</td>\n",
       "      <td>...</td>\n",
       "      <td>...</td>\n",
       "      <td>...</td>\n",
       "      <td>...</td>\n",
       "      <td>...</td>\n",
       "      <td>...</td>\n",
       "    </tr>\n",
       "    <tr>\n",
       "      <th>2367490</th>\n",
       "      <td>-0.084</td>\n",
       "      <td>0.077</td>\n",
       "      <td>-0.039</td>\n",
       "      <td>-0.097</td>\n",
       "      <td>0.196</td>\n",
       "      <td>0.174</td>\n",
       "      <td>0.013</td>\n",
       "      <td>-0.027</td>\n",
       "      <td>-0.116</td>\n",
       "      <td>-0.081</td>\n",
       "      <td>...</td>\n",
       "      <td>0.0</td>\n",
       "      <td>0.0</td>\n",
       "      <td>0.0</td>\n",
       "      <td>0.0</td>\n",
       "      <td>0.0</td>\n",
       "      <td>0.0</td>\n",
       "      <td>0.0</td>\n",
       "      <td>0.0</td>\n",
       "      <td>0.0</td>\n",
       "      <td>0</td>\n",
       "    </tr>\n",
       "    <tr>\n",
       "      <th>2367491</th>\n",
       "      <td>-0.014</td>\n",
       "      <td>0.026</td>\n",
       "      <td>-0.037</td>\n",
       "      <td>-0.193</td>\n",
       "      <td>-0.049</td>\n",
       "      <td>-0.039</td>\n",
       "      <td>0.025</td>\n",
       "      <td>0.019</td>\n",
       "      <td>-0.025</td>\n",
       "      <td>-0.017</td>\n",
       "      <td>...</td>\n",
       "      <td>0.0</td>\n",
       "      <td>0.0</td>\n",
       "      <td>0.0</td>\n",
       "      <td>0.0</td>\n",
       "      <td>0.0</td>\n",
       "      <td>0.0</td>\n",
       "      <td>0.0</td>\n",
       "      <td>0.0</td>\n",
       "      <td>0.0</td>\n",
       "      <td>0</td>\n",
       "    </tr>\n",
       "    <tr>\n",
       "      <th>2367492</th>\n",
       "      <td>-0.084</td>\n",
       "      <td>0.077</td>\n",
       "      <td>-0.210</td>\n",
       "      <td>-0.038</td>\n",
       "      <td>0.099</td>\n",
       "      <td>0.074</td>\n",
       "      <td>0.025</td>\n",
       "      <td>0.051</td>\n",
       "      <td>-0.064</td>\n",
       "      <td>-0.031</td>\n",
       "      <td>...</td>\n",
       "      <td>0.0</td>\n",
       "      <td>0.0</td>\n",
       "      <td>0.0</td>\n",
       "      <td>0.0</td>\n",
       "      <td>0.0</td>\n",
       "      <td>0.0</td>\n",
       "      <td>0.0</td>\n",
       "      <td>0.0</td>\n",
       "      <td>0.0</td>\n",
       "      <td>0</td>\n",
       "    </tr>\n",
       "    <tr>\n",
       "      <th>2367493</th>\n",
       "      <td>0.385</td>\n",
       "      <td>0.134</td>\n",
       "      <td>-0.201</td>\n",
       "      <td>-0.137</td>\n",
       "      <td>-0.100</td>\n",
       "      <td>-0.109</td>\n",
       "      <td>-0.056</td>\n",
       "      <td>-0.144</td>\n",
       "      <td>0.131</td>\n",
       "      <td>0.109</td>\n",
       "      <td>...</td>\n",
       "      <td>0.0</td>\n",
       "      <td>0.0</td>\n",
       "      <td>0.0</td>\n",
       "      <td>0.0</td>\n",
       "      <td>0.0</td>\n",
       "      <td>0.0</td>\n",
       "      <td>0.0</td>\n",
       "      <td>0.0</td>\n",
       "      <td>0.0</td>\n",
       "      <td>0</td>\n",
       "    </tr>\n",
       "    <tr>\n",
       "      <th>2367495</th>\n",
       "      <td>0.252</td>\n",
       "      <td>0.134</td>\n",
       "      <td>0.072</td>\n",
       "      <td>0.012</td>\n",
       "      <td>-0.040</td>\n",
       "      <td>-0.021</td>\n",
       "      <td>0.013</td>\n",
       "      <td>0.038</td>\n",
       "      <td>0.079</td>\n",
       "      <td>0.058</td>\n",
       "      <td>...</td>\n",
       "      <td>0.0</td>\n",
       "      <td>0.0</td>\n",
       "      <td>0.0</td>\n",
       "      <td>0.0</td>\n",
       "      <td>0.0</td>\n",
       "      <td>0.0</td>\n",
       "      <td>0.0</td>\n",
       "      <td>0.0</td>\n",
       "      <td>0.0</td>\n",
       "      <td>0</td>\n",
       "    </tr>\n",
       "  </tbody>\n",
       "</table>\n",
       "<p>1183747 rows × 108 columns</p>\n",
       "</div>"
      ],
      "text/plain": [
       "         L3_S29_F3315  L3_S29_F3318  L3_S29_F3321  L3_S29_F3324  L3_S29_F3327  \\\n",
       "Id                                                                              \n",
       "4               0.030        -0.047        -0.119         0.040        -0.067   \n",
       "6              -0.084        -0.030        -0.127        -0.174         0.145   \n",
       "7               0.049        -0.030        -0.099         0.070         0.014   \n",
       "9              -0.084        -0.139        -0.039        -0.207         0.024   \n",
       "11             -0.147        -0.082        -0.091        -0.137        -0.049   \n",
       "...               ...           ...           ...           ...           ...   \n",
       "2367490        -0.084         0.077        -0.039        -0.097         0.196   \n",
       "2367491        -0.014         0.026        -0.037        -0.193        -0.049   \n",
       "2367492        -0.084         0.077        -0.210        -0.038         0.099   \n",
       "2367493         0.385         0.134        -0.201        -0.137        -0.100   \n",
       "2367495         0.252         0.134         0.072         0.012        -0.040   \n",
       "\n",
       "         L3_S29_F3330  L3_S29_F3333  L3_S29_F3336  L3_S29_F3339  L3_S29_F3342  \\\n",
       "Id                                                                              \n",
       "4              -0.058         0.044         0.044         0.010         0.041   \n",
       "6               0.152        -0.006        -0.059        -0.064        -0.031   \n",
       "7               0.004         0.006         0.064         0.040        -0.005   \n",
       "9               0.025         0.038        -0.033         0.014         0.020   \n",
       "11             -0.063        -0.163        -0.111         0.053         0.033   \n",
       "...               ...           ...           ...           ...           ...   \n",
       "2367490         0.174         0.013        -0.027        -0.116        -0.081   \n",
       "2367491        -0.039         0.025         0.019        -0.025        -0.017   \n",
       "2367492         0.074         0.025         0.051        -0.064        -0.031   \n",
       "2367493        -0.109        -0.056        -0.144         0.131         0.109   \n",
       "2367495        -0.021         0.013         0.038         0.079         0.058   \n",
       "\n",
       "         ...  L3_S33_F3873  L3_S34_F3876  L3_S34_F3878  L3_S34_F3880  \\\n",
       "Id       ...                                                           \n",
       "4        ...           0.0           0.0           0.0           0.0   \n",
       "6        ...           0.0           0.0           0.0           0.0   \n",
       "7        ...           0.0           0.0           0.0           0.0   \n",
       "9        ...           0.0           0.0           0.0           0.0   \n",
       "11       ...           0.0           0.0           0.0           0.0   \n",
       "...      ...           ...           ...           ...           ...   \n",
       "2367490  ...           0.0           0.0           0.0           0.0   \n",
       "2367491  ...           0.0           0.0           0.0           0.0   \n",
       "2367492  ...           0.0           0.0           0.0           0.0   \n",
       "2367493  ...           0.0           0.0           0.0           0.0   \n",
       "2367495  ...           0.0           0.0           0.0           0.0   \n",
       "\n",
       "         L3_S34_F3882  L3_S37_F3944  L3_S37_F3946  L3_S37_F3948  L3_S37_F3950  \\\n",
       "Id                                                                              \n",
       "4                 0.0           0.0           0.0           0.0           0.0   \n",
       "6                 0.0           0.0           0.0           0.0           0.0   \n",
       "7                 0.0           0.0           0.0           0.0           0.0   \n",
       "9                 0.0           0.0           0.0           0.0           0.0   \n",
       "11                0.0           0.0           0.0           0.0           0.0   \n",
       "...               ...           ...           ...           ...           ...   \n",
       "2367490           0.0           0.0           0.0           0.0           0.0   \n",
       "2367491           0.0           0.0           0.0           0.0           0.0   \n",
       "2367492           0.0           0.0           0.0           0.0           0.0   \n",
       "2367493           0.0           0.0           0.0           0.0           0.0   \n",
       "2367495           0.0           0.0           0.0           0.0           0.0   \n",
       "\n",
       "         Response  \n",
       "Id                 \n",
       "4               0  \n",
       "6               0  \n",
       "7               0  \n",
       "9               0  \n",
       "11              0  \n",
       "...           ...  \n",
       "2367490         0  \n",
       "2367491         0  \n",
       "2367492         0  \n",
       "2367493         0  \n",
       "2367495         0  \n",
       "\n",
       "[1183747 rows x 108 columns]"
      ]
     },
     "execution_count": 17,
     "metadata": {},
     "output_type": "execute_result"
    }
   ],
   "source": [
    "new_train_numeric = train_numeric[use_cols].copy().set_index('Id')\n",
    "new_train_numeric"
   ]
  },
  {
   "cell_type": "markdown",
   "id": "42228295-f2e6-4408-86ef-d191e97d8cd3",
   "metadata": {},
   "source": [
    "#### 사용할 row 추출 (NaN이 없는 row 추출)"
   ]
  },
  {
   "cell_type": "code",
   "execution_count": 18,
   "id": "677e16b5-a60c-4ae0-80ae-bd9499640374",
   "metadata": {},
   "outputs": [
    {
     "data": {
      "text/plain": [
       "Int64Index([      4,       6,       7,       9,      11,      13,      14,\n",
       "                 16,      18,      23,\n",
       "            ...\n",
       "            2367478, 2367480, 2367484, 2367487, 2367488, 2367490, 2367491,\n",
       "            2367492, 2367493, 2367495],\n",
       "           dtype='int64', name='Id', length=1183747)"
      ]
     },
     "execution_count": 18,
     "metadata": {},
     "output_type": "execute_result"
    }
   ],
   "source": [
    "use_index = new_train_numeric.index[~new_train_numeric.isna().sum(axis=1) != 0]\n",
    "use_index"
   ]
  },
  {
   "cell_type": "code",
   "execution_count": 19,
   "id": "12d0db24-d152-4a7a-8590-9e995b8516d9",
   "metadata": {},
   "outputs": [
    {
     "data": {
      "text/html": [
       "<div>\n",
       "<style scoped>\n",
       "    .dataframe tbody tr th:only-of-type {\n",
       "        vertical-align: middle;\n",
       "    }\n",
       "\n",
       "    .dataframe tbody tr th {\n",
       "        vertical-align: top;\n",
       "    }\n",
       "\n",
       "    .dataframe thead th {\n",
       "        text-align: right;\n",
       "    }\n",
       "</style>\n",
       "<table border=\"1\" class=\"dataframe\">\n",
       "  <thead>\n",
       "    <tr style=\"text-align: right;\">\n",
       "      <th></th>\n",
       "      <th>L3_S29_F3315</th>\n",
       "      <th>L3_S29_F3318</th>\n",
       "      <th>L3_S29_F3321</th>\n",
       "      <th>L3_S29_F3324</th>\n",
       "      <th>L3_S29_F3327</th>\n",
       "      <th>L3_S29_F3330</th>\n",
       "      <th>L3_S29_F3333</th>\n",
       "      <th>L3_S29_F3336</th>\n",
       "      <th>L3_S29_F3339</th>\n",
       "      <th>L3_S29_F3342</th>\n",
       "      <th>...</th>\n",
       "      <th>L3_S33_F3873</th>\n",
       "      <th>L3_S34_F3876</th>\n",
       "      <th>L3_S34_F3878</th>\n",
       "      <th>L3_S34_F3880</th>\n",
       "      <th>L3_S34_F3882</th>\n",
       "      <th>L3_S37_F3944</th>\n",
       "      <th>L3_S37_F3946</th>\n",
       "      <th>L3_S37_F3948</th>\n",
       "      <th>L3_S37_F3950</th>\n",
       "      <th>Response</th>\n",
       "    </tr>\n",
       "    <tr>\n",
       "      <th>Id</th>\n",
       "      <th></th>\n",
       "      <th></th>\n",
       "      <th></th>\n",
       "      <th></th>\n",
       "      <th></th>\n",
       "      <th></th>\n",
       "      <th></th>\n",
       "      <th></th>\n",
       "      <th></th>\n",
       "      <th></th>\n",
       "      <th></th>\n",
       "      <th></th>\n",
       "      <th></th>\n",
       "      <th></th>\n",
       "      <th></th>\n",
       "      <th></th>\n",
       "      <th></th>\n",
       "      <th></th>\n",
       "      <th></th>\n",
       "      <th></th>\n",
       "      <th></th>\n",
       "    </tr>\n",
       "  </thead>\n",
       "  <tbody>\n",
       "    <tr>\n",
       "      <th>4</th>\n",
       "      <td>0.030</td>\n",
       "      <td>-0.047</td>\n",
       "      <td>-0.119</td>\n",
       "      <td>0.040</td>\n",
       "      <td>-0.067</td>\n",
       "      <td>-0.058</td>\n",
       "      <td>0.044</td>\n",
       "      <td>0.044</td>\n",
       "      <td>0.010</td>\n",
       "      <td>0.041</td>\n",
       "      <td>...</td>\n",
       "      <td>0.0</td>\n",
       "      <td>0.0</td>\n",
       "      <td>0.0</td>\n",
       "      <td>0.0</td>\n",
       "      <td>0.0</td>\n",
       "      <td>0.0</td>\n",
       "      <td>0.0</td>\n",
       "      <td>0.0</td>\n",
       "      <td>0.0</td>\n",
       "      <td>0</td>\n",
       "    </tr>\n",
       "    <tr>\n",
       "      <th>6</th>\n",
       "      <td>-0.084</td>\n",
       "      <td>-0.030</td>\n",
       "      <td>-0.127</td>\n",
       "      <td>-0.174</td>\n",
       "      <td>0.145</td>\n",
       "      <td>0.152</td>\n",
       "      <td>-0.006</td>\n",
       "      <td>-0.059</td>\n",
       "      <td>-0.064</td>\n",
       "      <td>-0.031</td>\n",
       "      <td>...</td>\n",
       "      <td>0.0</td>\n",
       "      <td>0.0</td>\n",
       "      <td>0.0</td>\n",
       "      <td>0.0</td>\n",
       "      <td>0.0</td>\n",
       "      <td>0.0</td>\n",
       "      <td>0.0</td>\n",
       "      <td>0.0</td>\n",
       "      <td>0.0</td>\n",
       "      <td>0</td>\n",
       "    </tr>\n",
       "    <tr>\n",
       "      <th>7</th>\n",
       "      <td>0.049</td>\n",
       "      <td>-0.030</td>\n",
       "      <td>-0.099</td>\n",
       "      <td>0.070</td>\n",
       "      <td>0.014</td>\n",
       "      <td>0.004</td>\n",
       "      <td>0.006</td>\n",
       "      <td>0.064</td>\n",
       "      <td>0.040</td>\n",
       "      <td>-0.005</td>\n",
       "      <td>...</td>\n",
       "      <td>0.0</td>\n",
       "      <td>0.0</td>\n",
       "      <td>0.0</td>\n",
       "      <td>0.0</td>\n",
       "      <td>0.0</td>\n",
       "      <td>0.0</td>\n",
       "      <td>0.0</td>\n",
       "      <td>0.0</td>\n",
       "      <td>0.0</td>\n",
       "      <td>0</td>\n",
       "    </tr>\n",
       "    <tr>\n",
       "      <th>9</th>\n",
       "      <td>-0.084</td>\n",
       "      <td>-0.139</td>\n",
       "      <td>-0.039</td>\n",
       "      <td>-0.207</td>\n",
       "      <td>0.024</td>\n",
       "      <td>0.025</td>\n",
       "      <td>0.038</td>\n",
       "      <td>-0.033</td>\n",
       "      <td>0.014</td>\n",
       "      <td>0.020</td>\n",
       "      <td>...</td>\n",
       "      <td>0.0</td>\n",
       "      <td>0.0</td>\n",
       "      <td>0.0</td>\n",
       "      <td>0.0</td>\n",
       "      <td>0.0</td>\n",
       "      <td>0.0</td>\n",
       "      <td>0.0</td>\n",
       "      <td>0.0</td>\n",
       "      <td>0.0</td>\n",
       "      <td>0</td>\n",
       "    </tr>\n",
       "    <tr>\n",
       "      <th>11</th>\n",
       "      <td>-0.147</td>\n",
       "      <td>-0.082</td>\n",
       "      <td>-0.091</td>\n",
       "      <td>-0.137</td>\n",
       "      <td>-0.049</td>\n",
       "      <td>-0.063</td>\n",
       "      <td>-0.163</td>\n",
       "      <td>-0.111</td>\n",
       "      <td>0.053</td>\n",
       "      <td>0.033</td>\n",
       "      <td>...</td>\n",
       "      <td>0.0</td>\n",
       "      <td>0.0</td>\n",
       "      <td>0.0</td>\n",
       "      <td>0.0</td>\n",
       "      <td>0.0</td>\n",
       "      <td>0.0</td>\n",
       "      <td>0.0</td>\n",
       "      <td>0.0</td>\n",
       "      <td>0.0</td>\n",
       "      <td>0</td>\n",
       "    </tr>\n",
       "    <tr>\n",
       "      <th>...</th>\n",
       "      <td>...</td>\n",
       "      <td>...</td>\n",
       "      <td>...</td>\n",
       "      <td>...</td>\n",
       "      <td>...</td>\n",
       "      <td>...</td>\n",
       "      <td>...</td>\n",
       "      <td>...</td>\n",
       "      <td>...</td>\n",
       "      <td>...</td>\n",
       "      <td>...</td>\n",
       "      <td>...</td>\n",
       "      <td>...</td>\n",
       "      <td>...</td>\n",
       "      <td>...</td>\n",
       "      <td>...</td>\n",
       "      <td>...</td>\n",
       "      <td>...</td>\n",
       "      <td>...</td>\n",
       "      <td>...</td>\n",
       "      <td>...</td>\n",
       "    </tr>\n",
       "    <tr>\n",
       "      <th>2367490</th>\n",
       "      <td>-0.084</td>\n",
       "      <td>0.077</td>\n",
       "      <td>-0.039</td>\n",
       "      <td>-0.097</td>\n",
       "      <td>0.196</td>\n",
       "      <td>0.174</td>\n",
       "      <td>0.013</td>\n",
       "      <td>-0.027</td>\n",
       "      <td>-0.116</td>\n",
       "      <td>-0.081</td>\n",
       "      <td>...</td>\n",
       "      <td>0.0</td>\n",
       "      <td>0.0</td>\n",
       "      <td>0.0</td>\n",
       "      <td>0.0</td>\n",
       "      <td>0.0</td>\n",
       "      <td>0.0</td>\n",
       "      <td>0.0</td>\n",
       "      <td>0.0</td>\n",
       "      <td>0.0</td>\n",
       "      <td>0</td>\n",
       "    </tr>\n",
       "    <tr>\n",
       "      <th>2367491</th>\n",
       "      <td>-0.014</td>\n",
       "      <td>0.026</td>\n",
       "      <td>-0.037</td>\n",
       "      <td>-0.193</td>\n",
       "      <td>-0.049</td>\n",
       "      <td>-0.039</td>\n",
       "      <td>0.025</td>\n",
       "      <td>0.019</td>\n",
       "      <td>-0.025</td>\n",
       "      <td>-0.017</td>\n",
       "      <td>...</td>\n",
       "      <td>0.0</td>\n",
       "      <td>0.0</td>\n",
       "      <td>0.0</td>\n",
       "      <td>0.0</td>\n",
       "      <td>0.0</td>\n",
       "      <td>0.0</td>\n",
       "      <td>0.0</td>\n",
       "      <td>0.0</td>\n",
       "      <td>0.0</td>\n",
       "      <td>0</td>\n",
       "    </tr>\n",
       "    <tr>\n",
       "      <th>2367492</th>\n",
       "      <td>-0.084</td>\n",
       "      <td>0.077</td>\n",
       "      <td>-0.210</td>\n",
       "      <td>-0.038</td>\n",
       "      <td>0.099</td>\n",
       "      <td>0.074</td>\n",
       "      <td>0.025</td>\n",
       "      <td>0.051</td>\n",
       "      <td>-0.064</td>\n",
       "      <td>-0.031</td>\n",
       "      <td>...</td>\n",
       "      <td>0.0</td>\n",
       "      <td>0.0</td>\n",
       "      <td>0.0</td>\n",
       "      <td>0.0</td>\n",
       "      <td>0.0</td>\n",
       "      <td>0.0</td>\n",
       "      <td>0.0</td>\n",
       "      <td>0.0</td>\n",
       "      <td>0.0</td>\n",
       "      <td>0</td>\n",
       "    </tr>\n",
       "    <tr>\n",
       "      <th>2367493</th>\n",
       "      <td>0.385</td>\n",
       "      <td>0.134</td>\n",
       "      <td>-0.201</td>\n",
       "      <td>-0.137</td>\n",
       "      <td>-0.100</td>\n",
       "      <td>-0.109</td>\n",
       "      <td>-0.056</td>\n",
       "      <td>-0.144</td>\n",
       "      <td>0.131</td>\n",
       "      <td>0.109</td>\n",
       "      <td>...</td>\n",
       "      <td>0.0</td>\n",
       "      <td>0.0</td>\n",
       "      <td>0.0</td>\n",
       "      <td>0.0</td>\n",
       "      <td>0.0</td>\n",
       "      <td>0.0</td>\n",
       "      <td>0.0</td>\n",
       "      <td>0.0</td>\n",
       "      <td>0.0</td>\n",
       "      <td>0</td>\n",
       "    </tr>\n",
       "    <tr>\n",
       "      <th>2367495</th>\n",
       "      <td>0.252</td>\n",
       "      <td>0.134</td>\n",
       "      <td>0.072</td>\n",
       "      <td>0.012</td>\n",
       "      <td>-0.040</td>\n",
       "      <td>-0.021</td>\n",
       "      <td>0.013</td>\n",
       "      <td>0.038</td>\n",
       "      <td>0.079</td>\n",
       "      <td>0.058</td>\n",
       "      <td>...</td>\n",
       "      <td>0.0</td>\n",
       "      <td>0.0</td>\n",
       "      <td>0.0</td>\n",
       "      <td>0.0</td>\n",
       "      <td>0.0</td>\n",
       "      <td>0.0</td>\n",
       "      <td>0.0</td>\n",
       "      <td>0.0</td>\n",
       "      <td>0.0</td>\n",
       "      <td>0</td>\n",
       "    </tr>\n",
       "  </tbody>\n",
       "</table>\n",
       "<p>1059400 rows × 108 columns</p>\n",
       "</div>"
      ],
      "text/plain": [
       "         L3_S29_F3315  L3_S29_F3318  L3_S29_F3321  L3_S29_F3324  L3_S29_F3327  \\\n",
       "Id                                                                              \n",
       "4               0.030        -0.047        -0.119         0.040        -0.067   \n",
       "6              -0.084        -0.030        -0.127        -0.174         0.145   \n",
       "7               0.049        -0.030        -0.099         0.070         0.014   \n",
       "9              -0.084        -0.139        -0.039        -0.207         0.024   \n",
       "11             -0.147        -0.082        -0.091        -0.137        -0.049   \n",
       "...               ...           ...           ...           ...           ...   \n",
       "2367490        -0.084         0.077        -0.039        -0.097         0.196   \n",
       "2367491        -0.014         0.026        -0.037        -0.193        -0.049   \n",
       "2367492        -0.084         0.077        -0.210        -0.038         0.099   \n",
       "2367493         0.385         0.134        -0.201        -0.137        -0.100   \n",
       "2367495         0.252         0.134         0.072         0.012        -0.040   \n",
       "\n",
       "         L3_S29_F3330  L3_S29_F3333  L3_S29_F3336  L3_S29_F3339  L3_S29_F3342  \\\n",
       "Id                                                                              \n",
       "4              -0.058         0.044         0.044         0.010         0.041   \n",
       "6               0.152        -0.006        -0.059        -0.064        -0.031   \n",
       "7               0.004         0.006         0.064         0.040        -0.005   \n",
       "9               0.025         0.038        -0.033         0.014         0.020   \n",
       "11             -0.063        -0.163        -0.111         0.053         0.033   \n",
       "...               ...           ...           ...           ...           ...   \n",
       "2367490         0.174         0.013        -0.027        -0.116        -0.081   \n",
       "2367491        -0.039         0.025         0.019        -0.025        -0.017   \n",
       "2367492         0.074         0.025         0.051        -0.064        -0.031   \n",
       "2367493        -0.109        -0.056        -0.144         0.131         0.109   \n",
       "2367495        -0.021         0.013         0.038         0.079         0.058   \n",
       "\n",
       "         ...  L3_S33_F3873  L3_S34_F3876  L3_S34_F3878  L3_S34_F3880  \\\n",
       "Id       ...                                                           \n",
       "4        ...           0.0           0.0           0.0           0.0   \n",
       "6        ...           0.0           0.0           0.0           0.0   \n",
       "7        ...           0.0           0.0           0.0           0.0   \n",
       "9        ...           0.0           0.0           0.0           0.0   \n",
       "11       ...           0.0           0.0           0.0           0.0   \n",
       "...      ...           ...           ...           ...           ...   \n",
       "2367490  ...           0.0           0.0           0.0           0.0   \n",
       "2367491  ...           0.0           0.0           0.0           0.0   \n",
       "2367492  ...           0.0           0.0           0.0           0.0   \n",
       "2367493  ...           0.0           0.0           0.0           0.0   \n",
       "2367495  ...           0.0           0.0           0.0           0.0   \n",
       "\n",
       "         L3_S34_F3882  L3_S37_F3944  L3_S37_F3946  L3_S37_F3948  L3_S37_F3950  \\\n",
       "Id                                                                              \n",
       "4                 0.0           0.0           0.0           0.0           0.0   \n",
       "6                 0.0           0.0           0.0           0.0           0.0   \n",
       "7                 0.0           0.0           0.0           0.0           0.0   \n",
       "9                 0.0           0.0           0.0           0.0           0.0   \n",
       "11                0.0           0.0           0.0           0.0           0.0   \n",
       "...               ...           ...           ...           ...           ...   \n",
       "2367490           0.0           0.0           0.0           0.0           0.0   \n",
       "2367491           0.0           0.0           0.0           0.0           0.0   \n",
       "2367492           0.0           0.0           0.0           0.0           0.0   \n",
       "2367493           0.0           0.0           0.0           0.0           0.0   \n",
       "2367495           0.0           0.0           0.0           0.0           0.0   \n",
       "\n",
       "         Response  \n",
       "Id                 \n",
       "4               0  \n",
       "6               0  \n",
       "7               0  \n",
       "9               0  \n",
       "11              0  \n",
       "...           ...  \n",
       "2367490         0  \n",
       "2367491         0  \n",
       "2367492         0  \n",
       "2367493         0  \n",
       "2367495         0  \n",
       "\n",
       "[1059400 rows x 108 columns]"
      ]
     },
     "execution_count": 19,
     "metadata": {},
     "output_type": "execute_result"
    }
   ],
   "source": [
    "pre_train = new_train_numeric[(~(new_train_numeric.isna().sum(axis=1) != 0))].copy()\n",
    "pre_train"
   ]
  },
  {
   "cell_type": "markdown",
   "id": "16f04152-811b-49e6-b4b3-1fb90d81ac42",
   "metadata": {},
   "source": [
    "#### Summary: NaN이 10% 이하 column 추출 후 row에 NaN이 없는 row 추출하여 학습에 사용"
   ]
  },
  {
   "cell_type": "code",
   "execution_count": 74,
   "id": "665d4d39",
   "metadata": {},
   "outputs": [
    {
     "name": "stdout",
     "output_type": "stream",
     "text": [
      "<class 'pandas.core.frame.DataFrame'>\n",
      "Int64Index: 1059400 entries, 4 to 2367495\n",
      "Columns: 108 entries, L3_S29_F3315 to Response\n",
      "dtypes: float64(107), int64(1)\n",
      "memory usage: 881.0 MB\n"
     ]
    }
   ],
   "source": [
    "pre_train.info()"
   ]
  },
  {
   "cell_type": "code",
   "execution_count": 20,
   "id": "b41d0a1e-fc59-4cba-8101-ffd0c6b8a107",
   "metadata": {},
   "outputs": [],
   "source": [
    "X = pre_train.iloc[:,:-1]\n",
    "y = pre_train.iloc[:,-1:]"
   ]
  },
  {
   "cell_type": "code",
   "execution_count": 21,
   "id": "748b1896-2393-4721-9e8a-6137ba108964",
   "metadata": {},
   "outputs": [
    {
     "data": {
      "text/html": [
       "<div>\n",
       "<style scoped>\n",
       "    .dataframe tbody tr th:only-of-type {\n",
       "        vertical-align: middle;\n",
       "    }\n",
       "\n",
       "    .dataframe tbody tr th {\n",
       "        vertical-align: top;\n",
       "    }\n",
       "\n",
       "    .dataframe thead th {\n",
       "        text-align: right;\n",
       "    }\n",
       "</style>\n",
       "<table border=\"1\" class=\"dataframe\">\n",
       "  <thead>\n",
       "    <tr style=\"text-align: right;\">\n",
       "      <th></th>\n",
       "      <th>L3_S29_F3315</th>\n",
       "      <th>L3_S29_F3318</th>\n",
       "      <th>L3_S29_F3321</th>\n",
       "      <th>L3_S29_F3324</th>\n",
       "      <th>L3_S29_F3327</th>\n",
       "      <th>L3_S29_F3330</th>\n",
       "      <th>L3_S29_F3333</th>\n",
       "      <th>L3_S29_F3336</th>\n",
       "      <th>L3_S29_F3339</th>\n",
       "      <th>L3_S29_F3342</th>\n",
       "      <th>...</th>\n",
       "      <th>L3_S33_F3871</th>\n",
       "      <th>L3_S33_F3873</th>\n",
       "      <th>L3_S34_F3876</th>\n",
       "      <th>L3_S34_F3878</th>\n",
       "      <th>L3_S34_F3880</th>\n",
       "      <th>L3_S34_F3882</th>\n",
       "      <th>L3_S37_F3944</th>\n",
       "      <th>L3_S37_F3946</th>\n",
       "      <th>L3_S37_F3948</th>\n",
       "      <th>L3_S37_F3950</th>\n",
       "    </tr>\n",
       "    <tr>\n",
       "      <th>Id</th>\n",
       "      <th></th>\n",
       "      <th></th>\n",
       "      <th></th>\n",
       "      <th></th>\n",
       "      <th></th>\n",
       "      <th></th>\n",
       "      <th></th>\n",
       "      <th></th>\n",
       "      <th></th>\n",
       "      <th></th>\n",
       "      <th></th>\n",
       "      <th></th>\n",
       "      <th></th>\n",
       "      <th></th>\n",
       "      <th></th>\n",
       "      <th></th>\n",
       "      <th></th>\n",
       "      <th></th>\n",
       "      <th></th>\n",
       "      <th></th>\n",
       "      <th></th>\n",
       "    </tr>\n",
       "  </thead>\n",
       "  <tbody>\n",
       "    <tr>\n",
       "      <th>4</th>\n",
       "      <td>0.030</td>\n",
       "      <td>-0.047</td>\n",
       "      <td>-0.119</td>\n",
       "      <td>0.040</td>\n",
       "      <td>-0.067</td>\n",
       "      <td>-0.058</td>\n",
       "      <td>0.044</td>\n",
       "      <td>0.044</td>\n",
       "      <td>0.010</td>\n",
       "      <td>0.041</td>\n",
       "      <td>...</td>\n",
       "      <td>0.0</td>\n",
       "      <td>0.0</td>\n",
       "      <td>0.0</td>\n",
       "      <td>0.0</td>\n",
       "      <td>0.0</td>\n",
       "      <td>0.0</td>\n",
       "      <td>0.0</td>\n",
       "      <td>0.0</td>\n",
       "      <td>0.0</td>\n",
       "      <td>0.0</td>\n",
       "    </tr>\n",
       "    <tr>\n",
       "      <th>6</th>\n",
       "      <td>-0.084</td>\n",
       "      <td>-0.030</td>\n",
       "      <td>-0.127</td>\n",
       "      <td>-0.174</td>\n",
       "      <td>0.145</td>\n",
       "      <td>0.152</td>\n",
       "      <td>-0.006</td>\n",
       "      <td>-0.059</td>\n",
       "      <td>-0.064</td>\n",
       "      <td>-0.031</td>\n",
       "      <td>...</td>\n",
       "      <td>0.0</td>\n",
       "      <td>0.0</td>\n",
       "      <td>0.0</td>\n",
       "      <td>0.0</td>\n",
       "      <td>0.0</td>\n",
       "      <td>0.0</td>\n",
       "      <td>0.0</td>\n",
       "      <td>0.0</td>\n",
       "      <td>0.0</td>\n",
       "      <td>0.0</td>\n",
       "    </tr>\n",
       "    <tr>\n",
       "      <th>7</th>\n",
       "      <td>0.049</td>\n",
       "      <td>-0.030</td>\n",
       "      <td>-0.099</td>\n",
       "      <td>0.070</td>\n",
       "      <td>0.014</td>\n",
       "      <td>0.004</td>\n",
       "      <td>0.006</td>\n",
       "      <td>0.064</td>\n",
       "      <td>0.040</td>\n",
       "      <td>-0.005</td>\n",
       "      <td>...</td>\n",
       "      <td>0.0</td>\n",
       "      <td>0.0</td>\n",
       "      <td>0.0</td>\n",
       "      <td>0.0</td>\n",
       "      <td>0.0</td>\n",
       "      <td>0.0</td>\n",
       "      <td>0.0</td>\n",
       "      <td>0.0</td>\n",
       "      <td>0.0</td>\n",
       "      <td>0.0</td>\n",
       "    </tr>\n",
       "    <tr>\n",
       "      <th>9</th>\n",
       "      <td>-0.084</td>\n",
       "      <td>-0.139</td>\n",
       "      <td>-0.039</td>\n",
       "      <td>-0.207</td>\n",
       "      <td>0.024</td>\n",
       "      <td>0.025</td>\n",
       "      <td>0.038</td>\n",
       "      <td>-0.033</td>\n",
       "      <td>0.014</td>\n",
       "      <td>0.020</td>\n",
       "      <td>...</td>\n",
       "      <td>0.0</td>\n",
       "      <td>0.0</td>\n",
       "      <td>0.0</td>\n",
       "      <td>0.0</td>\n",
       "      <td>0.0</td>\n",
       "      <td>0.0</td>\n",
       "      <td>0.0</td>\n",
       "      <td>0.0</td>\n",
       "      <td>0.0</td>\n",
       "      <td>0.0</td>\n",
       "    </tr>\n",
       "    <tr>\n",
       "      <th>11</th>\n",
       "      <td>-0.147</td>\n",
       "      <td>-0.082</td>\n",
       "      <td>-0.091</td>\n",
       "      <td>-0.137</td>\n",
       "      <td>-0.049</td>\n",
       "      <td>-0.063</td>\n",
       "      <td>-0.163</td>\n",
       "      <td>-0.111</td>\n",
       "      <td>0.053</td>\n",
       "      <td>0.033</td>\n",
       "      <td>...</td>\n",
       "      <td>0.0</td>\n",
       "      <td>0.0</td>\n",
       "      <td>0.0</td>\n",
       "      <td>0.0</td>\n",
       "      <td>0.0</td>\n",
       "      <td>0.0</td>\n",
       "      <td>0.0</td>\n",
       "      <td>0.0</td>\n",
       "      <td>0.0</td>\n",
       "      <td>0.0</td>\n",
       "    </tr>\n",
       "  </tbody>\n",
       "</table>\n",
       "<p>5 rows × 107 columns</p>\n",
       "</div>"
      ],
      "text/plain": [
       "    L3_S29_F3315  L3_S29_F3318  L3_S29_F3321  L3_S29_F3324  L3_S29_F3327  \\\n",
       "Id                                                                         \n",
       "4          0.030        -0.047        -0.119         0.040        -0.067   \n",
       "6         -0.084        -0.030        -0.127        -0.174         0.145   \n",
       "7          0.049        -0.030        -0.099         0.070         0.014   \n",
       "9         -0.084        -0.139        -0.039        -0.207         0.024   \n",
       "11        -0.147        -0.082        -0.091        -0.137        -0.049   \n",
       "\n",
       "    L3_S29_F3330  L3_S29_F3333  L3_S29_F3336  L3_S29_F3339  L3_S29_F3342  ...  \\\n",
       "Id                                                                        ...   \n",
       "4         -0.058         0.044         0.044         0.010         0.041  ...   \n",
       "6          0.152        -0.006        -0.059        -0.064        -0.031  ...   \n",
       "7          0.004         0.006         0.064         0.040        -0.005  ...   \n",
       "9          0.025         0.038        -0.033         0.014         0.020  ...   \n",
       "11        -0.063        -0.163        -0.111         0.053         0.033  ...   \n",
       "\n",
       "    L3_S33_F3871  L3_S33_F3873  L3_S34_F3876  L3_S34_F3878  L3_S34_F3880  \\\n",
       "Id                                                                         \n",
       "4            0.0           0.0           0.0           0.0           0.0   \n",
       "6            0.0           0.0           0.0           0.0           0.0   \n",
       "7            0.0           0.0           0.0           0.0           0.0   \n",
       "9            0.0           0.0           0.0           0.0           0.0   \n",
       "11           0.0           0.0           0.0           0.0           0.0   \n",
       "\n",
       "    L3_S34_F3882  L3_S37_F3944  L3_S37_F3946  L3_S37_F3948  L3_S37_F3950  \n",
       "Id                                                                        \n",
       "4            0.0           0.0           0.0           0.0           0.0  \n",
       "6            0.0           0.0           0.0           0.0           0.0  \n",
       "7            0.0           0.0           0.0           0.0           0.0  \n",
       "9            0.0           0.0           0.0           0.0           0.0  \n",
       "11           0.0           0.0           0.0           0.0           0.0  \n",
       "\n",
       "[5 rows x 107 columns]"
      ]
     },
     "execution_count": 21,
     "metadata": {},
     "output_type": "execute_result"
    }
   ],
   "source": [
    "X.head()"
   ]
  },
  {
   "cell_type": "code",
   "execution_count": 22,
   "id": "06866ae6-a92d-44fa-aa15-76cbdcb40264",
   "metadata": {},
   "outputs": [
    {
     "data": {
      "text/plain": [
       "(1059400, 107)"
      ]
     },
     "execution_count": 22,
     "metadata": {},
     "output_type": "execute_result"
    }
   ],
   "source": [
    "X.shape"
   ]
  },
  {
   "cell_type": "markdown",
   "id": "86492df4-97e0-4e78-9426-ab6d726c3a20",
   "metadata": {},
   "source": [
    "#### 선별 후 데이터 수 / 기본 데이터 수 (10% 정도 줄었음)"
   ]
  },
  {
   "cell_type": "code",
   "execution_count": 23,
   "id": "e5b901c3-bf20-411d-b3f3-ac522ff19648",
   "metadata": {},
   "outputs": [
    {
     "name": "stdout",
     "output_type": "stream",
     "text": [
      "0.8949547496213296\n"
     ]
    }
   ],
   "source": [
    "print(f'{X.shape[0] / train_numeric.shape[0]}')"
   ]
  },
  {
   "cell_type": "markdown",
   "id": "a38e42ee-6e74-4174-82a3-7343143caceb",
   "metadata": {},
   "source": [
    "#### 데이터 선별 후 label 갯수 및 비율 확인"
   ]
  },
  {
   "cell_type": "code",
   "execution_count": 24,
   "id": "a9d874fb-30d9-4467-815f-123b5a5f3244",
   "metadata": {},
   "outputs": [
    {
     "data": {
      "text/plain": [
       "Response\n",
       "0           1054084\n",
       "1              5316\n",
       "dtype: int64"
      ]
     },
     "metadata": {},
     "output_type": "display_data"
    },
    {
     "data": {
      "text/plain": [
       "'count'"
      ]
     },
     "metadata": {},
     "output_type": "display_data"
    },
    {
     "data": {
      "text/plain": [
       "Response\n",
       "0           0.994982\n",
       "1           0.005018\n",
       "dtype: float64"
      ]
     },
     "metadata": {},
     "output_type": "display_data"
    },
    {
     "data": {
      "text/plain": [
       "'ratio'"
      ]
     },
     "metadata": {},
     "output_type": "display_data"
    }
   ],
   "source": [
    "display(y.value_counts(), 'count')\n",
    "display(y.value_counts() / len(y), 'ratio')"
   ]
  },
  {
   "cell_type": "markdown",
   "id": "5b4b467d-a5d5-4edf-9229-63b165364621",
   "metadata": {},
   "source": [
    "#### label 갯수 시각화 (차이가 너무 커서 안보임)"
   ]
  },
  {
   "cell_type": "code",
   "execution_count": 25,
   "id": "80268b58-d8bd-4e97-b5ad-d36fc07a0365",
   "metadata": {},
   "outputs": [],
   "source": [
    "import seaborn as sns"
   ]
  },
  {
   "cell_type": "code",
   "execution_count": 26,
   "id": "32025f40-a862-4229-86a1-cee3e91e1750",
   "metadata": {},
   "outputs": [
    {
     "data": {
      "image/png": "[encoded data removed]",
      "text/plain": [
       "<Figure size 432x288 with 1 Axes>"
      ]
     },
     "metadata": {
      "needs_background": "light"
     },
     "output_type": "display_data"
    }
   ],
   "source": [
    "sns.countplot(x='Response', palette='Set2', data=y);"
   ]
  },
  {
   "cell_type": "markdown",
   "id": "03d37725-8066-4929-9ec7-3e868af82272",
   "metadata": {},
   "source": [
    "#### Extra: 선별된 컬럼에서 센서명 추출후 갯수 세기"
   ]
  },
  {
   "cell_type": "code",
   "execution_count": 27,
   "id": "88e238db-1441-40ae-b332-d7af20a224d2",
   "metadata": {},
   "outputs": [
    {
     "data": {
      "text/plain": [
       "S29    53\n",
       "S30    36\n",
       "S33    10\n",
       "S34     4\n",
       "S37     4\n",
       "dtype: int64"
      ]
     },
     "execution_count": 27,
     "metadata": {},
     "output_type": "execute_result"
    }
   ],
   "source": [
    "X.columns.str.extract('_(S[0-9][0-9])_').value_counts()"
   ]
  },
  {
   "cell_type": "markdown",
   "id": "46abcf69-5e78-4baa-bc73-7ede82847ef9",
   "metadata": {},
   "source": [
    "#### Heatmap을 이용한 컬럼별 상관관계 (피어슨 계수) 확인 (컬럼 갯수가 많으니 샘플링) "
   ]
  },
  {
   "cell_type": "code",
   "execution_count": 28,
   "id": "ad2d6512-b942-4097-bc9d-9a11e5a62461",
   "metadata": {},
   "outputs": [],
   "source": [
    "import matplotlib.pyplot as plt\n",
    "import seaborn as sns"
   ]
  },
  {
   "cell_type": "code",
   "execution_count": 29,
   "id": "71679f3f-b227-477d-97b5-d3fa2b6741b2",
   "metadata": {},
   "outputs": [],
   "source": [
    "import random"
   ]
  },
  {
   "cell_type": "code",
   "execution_count": 30,
   "id": "71f025c4-c735-4701-8112-a9e01eb75f5e",
   "metadata": {},
   "outputs": [],
   "source": [
    "random.seed=42\n",
    "sample_cols = random.choices(X.columns, k=20)"
   ]
  },
  {
   "cell_type": "code",
   "execution_count": 31,
   "id": "ad45feae-4da9-4088-8ce9-a6c980351af6",
   "metadata": {},
   "outputs": [
    {
     "data": {
      "text/plain": [
       "['L3_S29_F3430',\n",
       " 'L3_S30_F3784',\n",
       " 'L3_S29_F3336',\n",
       " 'L3_S29_F3421',\n",
       " 'L3_S29_F3439',\n",
       " 'L3_S30_F3764',\n",
       " 'L3_S29_F3318',\n",
       " 'L3_S29_F3470',\n",
       " 'L3_S29_F3315',\n",
       " 'L3_S30_F3794',\n",
       " 'L3_S29_F3439',\n",
       " 'L3_S29_F3324',\n",
       " 'L3_S29_F3342',\n",
       " 'L3_S30_F3499',\n",
       " 'L3_S29_F3449',\n",
       " 'L3_S37_F3950',\n",
       " 'L3_S30_F3539',\n",
       " 'L3_S33_F3873',\n",
       " 'L3_S30_F3769',\n",
       " 'L3_S29_F3485']"
      ]
     },
     "execution_count": 31,
     "metadata": {},
     "output_type": "execute_result"
    }
   ],
   "source": [
    "sample_cols"
   ]
  },
  {
   "cell_type": "code",
   "execution_count": 32,
   "id": "0ff95d62-3e62-48b1-8f44-6d9eb8de7802",
   "metadata": {},
   "outputs": [
    {
     "data": {
      "image/png": "[encoded data removed]",
      "text/plain": [
       "<Figure size 1440x1152 with 2 Axes>"
      ]
     },
     "metadata": {
      "needs_background": "light"
     },
     "output_type": "display_data"
    }
   ],
   "source": [
    "colormap = plt.cm.bwr \n",
    "plt.figure(figsize=(20, 16)) \n",
    "plt.title(\n",
    "    \"Person Correlation of Features\", \n",
    "    y = 1.05, \n",
    "    size = 15\n",
    ") \n",
    "sns.heatmap(\n",
    "    X[sample_cols].corr(), \n",
    "    linewidths = 0.1, \n",
    "    vmax = 1.0, \n",
    "    square = True, \n",
    "    cmap = colormap, \n",
    "    linecolor = \"white\", \n",
    "    annot = True, \n",
    "    annot_kws = {\"size\" : 10}\n",
    ");"
   ]
  },
  {
   "cell_type": "markdown",
   "id": "d56c717d-15c1-4ab2-b800-6be5f5a8020d",
   "metadata": {},
   "source": [
    "#### Boxplot을 이용한 컬럼별 값 확인 (컬럼 갯수가 많으니 샘플링) "
   ]
  },
  {
   "cell_type": "code",
   "execution_count": 33,
   "id": "28324093-6bae-4749-a4e1-44cd30f9a0a6",
   "metadata": {},
   "outputs": [
    {
     "data": {
      "image/png": "[encoded data removed]",
      "text/plain": [
       "<Figure size 720x576 with 1 Axes>"
      ]
     },
     "metadata": {
      "needs_background": "light"
     },
     "output_type": "display_data"
    }
   ],
   "source": [
    "X[sample_cols].plot.box(\n",
    "    figsize=(10,8),\n",
    "    rot=45,\n",
    "    grid=True\n",
    ");"
   ]
  },
  {
   "cell_type": "markdown",
   "id": "1a587038-6966-4630-83da-c51848e1a0af",
   "metadata": {},
   "source": [
    "#### Plus Alpha"
   ]
  },
  {
   "cell_type": "markdown",
   "id": "dabf693b-2ccb-44d3-9e3c-a6aac225f6c5",
   "metadata": {},
   "source": [
    "## 문제정의 (강의 초반에 설명 후 다시 리마인드)\n",
    "- 지도학습 \n",
    "    - 분류  \n",
    "    - 회귀  \n",
    "- 비지도학습  \n",
    "    - 군집화"
   ]
  },
  {
   "cell_type": "markdown",
   "id": "098fb67a-9e7f-4115-bbbf-e6ece4a1c739",
   "metadata": {},
   "source": [
    "### 지도학습"
   ]
  },
  {
   "cell_type": "markdown",
   "id": "a520df1f-a10b-4c88-b663-77ba44819484",
   "metadata": {},
   "source": [
    "#### 지도학습을 위한 학습셋, 평가셋 분리"
   ]
  },
  {
   "cell_type": "code",
   "execution_count": 34,
   "id": "93260ebd-d409-4b6c-91ec-17c045b9997c",
   "metadata": {},
   "outputs": [],
   "source": [
    "from sklearn.model_selection import train_test_split"
   ]
  },
  {
   "cell_type": "code",
   "execution_count": 35,
   "id": "ee04e0b9-644f-4654-a1e1-1a2fe983896d",
   "metadata": {},
   "outputs": [],
   "source": [
    "X_train, X_test, y_train, y_test = train_test_split(X, y, test_size=.2, random_state=42, stratify=y)"
   ]
  },
  {
   "cell_type": "code",
   "execution_count": 36,
   "id": "4eee2bb3-e79d-41e2-a957-2640b405ff14",
   "metadata": {},
   "outputs": [
    {
     "name": "stdout",
     "output_type": "stream",
     "text": [
      "train_ratio:0.8\n",
      "test_ratio:0.2\n"
     ]
    }
   ],
   "source": [
    "print(f'train_ratio:{len(X_train) / len(X)}\\ntest_ratio:{len(X_test) / len(X)}')"
   ]
  },
  {
   "cell_type": "code",
   "execution_count": 37,
   "id": "9059a493-64ec-49aa-8a8a-e0f9a13a9955",
   "metadata": {},
   "outputs": [
    {
     "data": {
      "text/plain": [
       "Response\n",
       "0           0.994982\n",
       "1           0.005018\n",
       "dtype: float64"
      ]
     },
     "metadata": {},
     "output_type": "display_data"
    },
    {
     "data": {
      "text/plain": [
       "'train_label_ratio'"
      ]
     },
     "metadata": {},
     "output_type": "display_data"
    },
    {
     "data": {
      "text/plain": [
       "Response\n",
       "0           0.994983\n",
       "1           0.005017\n",
       "dtype: float64"
      ]
     },
     "metadata": {},
     "output_type": "display_data"
    },
    {
     "data": {
      "text/plain": [
       "'test_label_ratio'"
      ]
     },
     "metadata": {},
     "output_type": "display_data"
    }
   ],
   "source": [
    "display(y_train.value_counts() / len(y_train), 'train_label_ratio')\n",
    "display(y_test.value_counts() / len(y_test), 'test_label_ratio')"
   ]
  },
  {
   "cell_type": "markdown",
   "id": "516b5fd5-7f93-41fe-b60f-237a86aaf08d",
   "metadata": {
    "tags": []
   },
   "source": [
    "### 분류문제"
   ]
  },
  {
   "cell_type": "markdown",
   "id": "27b5da9d-766e-4a95-82ca-35b26aad81aa",
   "metadata": {
    "tags": []
   },
   "source": [
    "#### 컬럼별 표준화"
   ]
  },
  {
   "cell_type": "code",
   "execution_count": 38,
   "id": "9d7e7478-ff5a-4d79-ab22-c4ccccc548b7",
   "metadata": {},
   "outputs": [],
   "source": [
    "from sklearn.preprocessing import StandardScaler"
   ]
  },
  {
   "cell_type": "code",
   "execution_count": 39,
   "id": "11e9a093-0111-4c89-a727-3b0e7d22a315",
   "metadata": {},
   "outputs": [],
   "source": [
    "scaler = StandardScaler()"
   ]
  },
  {
   "cell_type": "code",
   "execution_count": 40,
   "id": "8be606ef-a81e-454c-baa9-7c350b6ff170",
   "metadata": {},
   "outputs": [
    {
     "data": {
      "text/plain": [
       "StandardScaler()"
      ]
     },
     "execution_count": 40,
     "metadata": {},
     "output_type": "execute_result"
    }
   ],
   "source": [
    "scaler.fit(X_train)"
   ]
  },
  {
   "cell_type": "code",
   "execution_count": 41,
   "id": "07625281-d648-429c-9d8a-e6ca0acac652",
   "metadata": {},
   "outputs": [],
   "source": [
    "X_train_scaled = scaler.transform(X_train)\n",
    "X_test_scaled = scaler.transform(X_test)"
   ]
  },
  {
   "cell_type": "code",
   "execution_count": 42,
   "id": "2886ab28-23fa-4a34-810b-c29bf5dce1e6",
   "metadata": {},
   "outputs": [
    {
     "data": {
      "text/plain": [
       "array([[ 0.27386151, -0.24566847, -0.22484057, ..., -0.00375958,\n",
       "        -0.02158736, -0.01506042],\n",
       "       [-0.83024476,  0.20534386, -0.21299288, ..., -0.00375958,\n",
       "        -0.02158736, -0.01506042],\n",
       "       [ 0.27386151,  0.61608723, -0.58027147, ..., -0.00375958,\n",
       "        -0.02158736, -0.01506042],\n",
       "       ...,\n",
       "       [-0.83024476, -0.66446562,  1.74187706, ..., -0.00375958,\n",
       "        -0.02158736, -0.01506042],\n",
       "       [-0.47535346, -1.12353174,  0.01211336, ..., -0.00375958,\n",
       "        -0.02158736, -0.01506042],\n",
       "       [-1.21893523,  1.48589671, -1.23781863, ..., -0.00375958,\n",
       "        -0.02158736, -0.01506042]])"
      ]
     },
     "execution_count": 42,
     "metadata": {},
     "output_type": "execute_result"
    }
   ],
   "source": [
    "X_train_scaled"
   ]
  },
  {
   "cell_type": "markdown",
   "id": "c040bc7d-0b4c-4a8f-a628-e47b24ad65d7",
   "metadata": {},
   "source": [
    "#### 분류모델 정의 (랜덤 포레스트)"
   ]
  },
  {
   "cell_type": "code",
   "execution_count": 43,
   "id": "5edd3c56-d950-48d7-9731-856deac9a4b7",
   "metadata": {},
   "outputs": [],
   "source": [
    "from sklearn.ensemble import RandomForestClassifier"
   ]
  },
  {
   "cell_type": "markdown",
   "id": "0030b80c-40e0-436f-8e78-f7e251453410",
   "metadata": {},
   "source": [
    "#### 학습"
   ]
  },
  {
   "cell_type": "code",
   "execution_count": 44,
   "id": "9b95f830-a851-4c26-9b8f-9ec95f84743e",
   "metadata": {},
   "outputs": [],
   "source": [
    "clf = RandomForestClassifier(max_depth=5, random_state=42)"
   ]
  },
  {
   "cell_type": "code",
   "execution_count": 45,
   "id": "af06d508-d053-497c-9c82-985302b5711d",
   "metadata": {},
   "outputs": [
    {
     "data": {
      "text/plain": [
       "RandomForestClassifier(max_depth=5, random_state=42)"
      ]
     },
     "execution_count": 45,
     "metadata": {},
     "output_type": "execute_result"
    }
   ],
   "source": [
    "clf.fit(X_train.values, y_train.to_numpy().ravel())"
   ]
  },
  {
   "cell_type": "markdown",
   "id": "d30f6e69-f860-4ed7-a2c6-8247df56d3b7",
   "metadata": {},
   "source": [
    "#### 평가"
   ]
  },
  {
   "cell_type": "code",
   "execution_count": 46,
   "id": "91c10b35-cec3-40af-82ab-ad4ef73f15c5",
   "metadata": {},
   "outputs": [],
   "source": [
    "y_predict = clf.predict(X_test)"
   ]
  },
  {
   "cell_type": "markdown",
   "id": "cfdf42bc-fb15-4e86-8ee1-040455432e8f",
   "metadata": {},
   "source": [
    "#### 정확도"
   ]
  },
  {
   "cell_type": "code",
   "execution_count": 47,
   "id": "aac7b6fd-3750-4ac5-b730-82dc0135ecc1",
   "metadata": {},
   "outputs": [
    {
     "data": {
      "text/plain": [
       "0.9949830092505192"
      ]
     },
     "execution_count": 47,
     "metadata": {},
     "output_type": "execute_result"
    }
   ],
   "source": [
    "(y_predict == y_test.to_numpy().ravel()).sum() / len(y_test)"
   ]
  },
  {
   "cell_type": "markdown",
   "id": "ed78b0dd-d155-4cf1-8672-30d943b0c12f",
   "metadata": {},
   "source": [
    "#### 혼돈행렬"
   ]
  },
  {
   "cell_type": "code",
   "execution_count": 48,
   "id": "9b3cc8a5-9b3e-4a04-a45a-d4b626c084b1",
   "metadata": {},
   "outputs": [],
   "source": [
    "from sklearn.metrics import confusion_matrix"
   ]
  },
  {
   "cell_type": "code",
   "execution_count": 49,
   "id": "b050d822-c692-463f-8298-a55867cdfea8",
   "metadata": {},
   "outputs": [
    {
     "data": {
      "text/plain": [
       "array([[210817,      0],\n",
       "       [  1063,      0]])"
      ]
     },
     "execution_count": 49,
     "metadata": {},
     "output_type": "execute_result"
    }
   ],
   "source": [
    "confusion_matrix(y_test, y_predict)"
   ]
  },
  {
   "cell_type": "code",
   "execution_count": 50,
   "id": "e89bdf02-2536-4a78-ac37-a574c383fdab",
   "metadata": {},
   "outputs": [
    {
     "data": {
      "text/plain": [
       "1.0"
      ]
     },
     "execution_count": 50,
     "metadata": {},
     "output_type": "execute_result"
    }
   ],
   "source": [
    "(y_predict == 0).sum() / len(y_test)"
   ]
  },
  {
   "cell_type": "markdown",
   "id": "9080cec5-0a0a-409d-88d7-8e359fc233cf",
   "metadata": {},
   "source": [
    "#### 데이터 불균형 문제\n",
    "- 불량 데이터에 비해 정상 데이터가 압도적으로 많음"
   ]
  },
  {
   "cell_type": "markdown",
   "id": "a32604d5-4c1f-4d72-8ad9-a7f5fc3f7d50",
   "metadata": {},
   "source": [
    "### 회귀모델"
   ]
  },
  {
   "cell_type": "markdown",
   "id": "b40d0375-a454-4409-8fd0-d6e4d855141c",
   "metadata": {},
   "source": [
    "#### 예측하고 싶은 컬럼 추출 (임의)"
   ]
  },
  {
   "cell_type": "code",
   "execution_count": 51,
   "id": "43bbc2b0-37a6-48c7-abd0-a7dfb575586b",
   "metadata": {},
   "outputs": [
    {
     "data": {
      "text/plain": [
       "'L3_S33_F3871'"
      ]
     },
     "execution_count": 51,
     "metadata": {},
     "output_type": "execute_result"
    }
   ],
   "source": [
    "random.seed=42\n",
    "target_idx = random.choice(range(X_train.shape[1]))\n",
    "target_col_nm = X_train.columns[target_idx]\n",
    "target_col_nm"
   ]
  },
  {
   "cell_type": "code",
   "execution_count": 52,
   "id": "6c81ad94-7944-456b-8a3b-6c330be05b4b",
   "metadata": {},
   "outputs": [],
   "source": [
    "X_train_target = X_train[target_col_nm]\n",
    "X_test_target = X_test[target_col_nm]"
   ]
  },
  {
   "cell_type": "code",
   "execution_count": 53,
   "id": "0a77dee7-a9e1-494b-b4f5-edfb9fefaafd",
   "metadata": {},
   "outputs": [],
   "source": [
    "X_train_reg = X_train.drop(columns=target_col_nm).copy()\n",
    "X_test_reg = X_test.drop(columns=target_col_nm).copy()"
   ]
  },
  {
   "cell_type": "markdown",
   "id": "cdf6e4de-b38c-4f77-b5f4-23b15daf4313",
   "metadata": {},
   "source": [
    "#### 컬럼 표준화"
   ]
  },
  {
   "cell_type": "code",
   "execution_count": 54,
   "id": "c1c9ff2b-045e-4251-bff9-1e7c016cac96",
   "metadata": {},
   "outputs": [],
   "source": [
    "scaler = StandardScaler()"
   ]
  },
  {
   "cell_type": "code",
   "execution_count": 55,
   "id": "dfa40646-f147-4d9d-af5d-cefc3969b6e8",
   "metadata": {},
   "outputs": [
    {
     "data": {
      "text/plain": [
       "StandardScaler()"
      ]
     },
     "execution_count": 55,
     "metadata": {},
     "output_type": "execute_result"
    }
   ],
   "source": [
    "scaler.fit(X_train_reg)"
   ]
  },
  {
   "cell_type": "code",
   "execution_count": 56,
   "id": "cddd3746-6939-4a15-8066-a4266779b7ae",
   "metadata": {},
   "outputs": [],
   "source": [
    "X_train_scaled_reg = scaler.transform(X_train_reg)\n",
    "X_test_scaled_reg = scaler.transform(X_test_reg)"
   ]
  },
  {
   "cell_type": "code",
   "execution_count": 57,
   "id": "73e8286a-0c9b-4b4c-b1b4-fd47c2ba727c",
   "metadata": {},
   "outputs": [
    {
     "data": {
      "text/plain": [
       "array([[ 0.27386151, -0.24566847, -0.22484057, ..., -0.00375958,\n",
       "        -0.02158736, -0.01506042],\n",
       "       [-0.83024476,  0.20534386, -0.21299288, ..., -0.00375958,\n",
       "        -0.02158736, -0.01506042],\n",
       "       [ 0.27386151,  0.61608723, -0.58027147, ..., -0.00375958,\n",
       "        -0.02158736, -0.01506042],\n",
       "       ...,\n",
       "       [-0.83024476, -0.66446562,  1.74187706, ..., -0.00375958,\n",
       "        -0.02158736, -0.01506042],\n",
       "       [-0.47535346, -1.12353174,  0.01211336, ..., -0.00375958,\n",
       "        -0.02158736, -0.01506042],\n",
       "       [-1.21893523,  1.48589671, -1.23781863, ..., -0.00375958,\n",
       "        -0.02158736, -0.01506042]])"
      ]
     },
     "execution_count": 57,
     "metadata": {},
     "output_type": "execute_result"
    }
   ],
   "source": [
    "X_train_scaled_reg"
   ]
  },
  {
   "cell_type": "markdown",
   "id": "8562bbfd-80ff-49bc-ac7d-42590ac8a89a",
   "metadata": {},
   "source": [
    "#### 회귀모델 정의 (랜덤포레스트)"
   ]
  },
  {
   "cell_type": "code",
   "execution_count": 58,
   "id": "52e4309c-d1e9-4718-9387-7a83faa8924e",
   "metadata": {},
   "outputs": [],
   "source": [
    "from sklearn.ensemble import RandomForestRegressor"
   ]
  },
  {
   "cell_type": "code",
   "execution_count": 59,
   "id": "f3a728d2-2402-45ac-93cc-97ac500be553",
   "metadata": {},
   "outputs": [],
   "source": [
    "regr = RandomForestRegressor(max_depth=5, random_state=42)"
   ]
  },
  {
   "cell_type": "markdown",
   "id": "d09a4842-1efd-41df-8c1b-d9ab0badf122",
   "metadata": {},
   "source": [
    "#### 학습(오래걸림)"
   ]
  },
  {
   "cell_type": "code",
   "execution_count": 60,
   "id": "6912c8b3-23fe-4e7b-a565-c3ba80d1c6d4",
   "metadata": {},
   "outputs": [
    {
     "data": {
      "text/plain": [
       "RandomForestRegressor(max_depth=5, random_state=42)"
      ]
     },
     "execution_count": 60,
     "metadata": {},
     "output_type": "execute_result"
    }
   ],
   "source": [
    "regr.fit(X_train_reg, X_train_target)"
   ]
  },
  {
   "cell_type": "markdown",
   "id": "52add30b-a32f-4269-ae13-f23ffe46a29f",
   "metadata": {},
   "source": [
    "#### 예측"
   ]
  },
  {
   "cell_type": "code",
   "execution_count": 61,
   "id": "ad66d226-f9fe-498b-b4b2-7da02a4ed01a",
   "metadata": {},
   "outputs": [],
   "source": [
    "y_pred_reg = regr.predict(X_test_reg)"
   ]
  },
  {
   "cell_type": "markdown",
   "id": "2e4222e7-2de1-477a-93d5-55d87a15e335",
   "metadata": {},
   "source": [
    "#### 평가"
   ]
  },
  {
   "cell_type": "code",
   "execution_count": 62,
   "id": "bdc86cea-ac2a-4d58-a742-74ac546c337c",
   "metadata": {},
   "outputs": [],
   "source": [
    "from sklearn.metrics import mean_squared_error, mean_absolute_error"
   ]
  },
  {
   "cell_type": "code",
   "execution_count": 63,
   "id": "654cf662-2d19-4668-afd3-42eccb743d6a",
   "metadata": {},
   "outputs": [
    {
     "name": "stdout",
     "output_type": "stream",
     "text": [
      "mse:0.005\n"
     ]
    }
   ],
   "source": [
    "mse = mean_squared_error(y_pred_reg, y_test.to_numpy().ravel())\n",
    "print(f'mse:{mse:.03f}')"
   ]
  },
  {
   "cell_type": "code",
   "execution_count": 64,
   "id": "9042ef18-95b3-4ba1-9f4e-6d9c969148f7",
   "metadata": {},
   "outputs": [
    {
     "name": "stdout",
     "output_type": "stream",
     "text": [
      "mae: 0.005\n"
     ]
    }
   ],
   "source": [
    "mae = mean_absolute_error(y_pred_reg, y_test.to_numpy().ravel())\n",
    "print(f'mae: {mae:.03f}')"
   ]
  },
  {
   "cell_type": "markdown",
   "id": "01b7c870-bd62-4d7e-bafd-ffade8baafc8",
   "metadata": {},
   "source": [
    "### 군집화"
   ]
  },
  {
   "cell_type": "code",
   "execution_count": 65,
   "id": "ef7d62f4-e39a-4e86-9250-dd7fb1aa016a",
   "metadata": {},
   "outputs": [],
   "source": [
    "from sklearn.cluster import KMeans"
   ]
  },
  {
   "cell_type": "code",
   "execution_count": 66,
   "id": "04d9e26b-51d1-4d38-b7a2-f899b928464e",
   "metadata": {},
   "outputs": [],
   "source": [
    "kmeans = KMeans(n_clusters=8)"
   ]
  },
  {
   "cell_type": "code",
   "execution_count": 67,
   "id": "b3cc9110-74fa-4aa4-98e5-7b6dab0a1606",
   "metadata": {},
   "outputs": [
    {
     "data": {
      "text/plain": [
       "KMeans()"
      ]
     },
     "execution_count": 67,
     "metadata": {},
     "output_type": "execute_result"
    }
   ],
   "source": [
    "kmeans.fit(X)"
   ]
  },
  {
   "cell_type": "code",
   "execution_count": 68,
   "id": "e6784170-320a-4da6-a54c-ddd2d08a0306",
   "metadata": {},
   "outputs": [],
   "source": [
    "from collections import Counter"
   ]
  },
  {
   "cell_type": "code",
   "execution_count": 69,
   "id": "f1031e91-d30c-47b0-b49d-c8103b7536e1",
   "metadata": {},
   "outputs": [
    {
     "data": {
      "text/plain": [
       "Counter({7: 59198,\n",
       "         5: 301712,\n",
       "         0: 173531,\n",
       "         6: 106414,\n",
       "         2: 201890,\n",
       "         1: 111823,\n",
       "         4: 92505,\n",
       "         3: 12327})"
      ]
     },
     "execution_count": 69,
     "metadata": {},
     "output_type": "execute_result"
    }
   ],
   "source": [
    "Counter(kmeans.labels_)"
   ]
  },
  {
   "cell_type": "code",
   "execution_count": 70,
   "id": "c169e3b2-ab89-4abc-b208-38df1ab1ce8f",
   "metadata": {},
   "outputs": [],
   "source": [
    "result = pd.DataFrame({'cluster':kmeans.labels_, 'Response':y.values.ravel()}, index=X.index)"
   ]
  },
  {
   "cell_type": "code",
   "execution_count": 71,
   "id": "b1663144-671d-4669-9f30-8c8cedaeb5b4",
   "metadata": {},
   "outputs": [
    {
     "data": {
      "text/plain": [
       "cluster  Response\n",
       "5        0           300833\n",
       "2        0           200643\n",
       "0        0           172935\n",
       "1        0           110958\n",
       "6        0           105658\n",
       "4        0            91768\n",
       "7        0            59052\n",
       "3        0            12237\n",
       "2        1             1247\n",
       "5        1              879\n",
       "1        1              865\n",
       "6        1              756\n",
       "4        1              737\n",
       "0        1              596\n",
       "7        1              146\n",
       "3        1               90\n",
       "dtype: int64"
      ]
     },
     "execution_count": 71,
     "metadata": {},
     "output_type": "execute_result"
    }
   ],
   "source": [
    "result.value_counts()"
   ]
  },
  {
   "cell_type": "code",
   "execution_count": 72,
   "id": "0da1d761-cbe5-41cf-ac5e-fea810666e0c",
   "metadata": {},
   "outputs": [
    {
     "data": {
      "image/png": "[encoded data removed]",
      "text/plain": [
       "<Figure size 432x288 with 1 Axes>"
      ]
     },
     "metadata": {
      "needs_background": "light"
     },
     "output_type": "display_data"
    }
   ],
   "source": [
    "result.value_counts().unstack().plot.bar(rot=0, stacked=True);"
   ]
  },
  {
   "cell_type": "code",
   "execution_count": null,
   "id": "9e7fcea6-2f21-4cfb-9268-1675ceb68034",
   "metadata": {},
   "outputs": [],
   "source": []
  }
 ],
 "metadata": {
  "kernelspec": {
   "display_name": "Python 3",
   "language": "python",
   "name": "python3"
  },
  "language_info": {
   "codemirror_mode": {
    "name": "ipython",
    "version": 3
   },
   "file_extension": ".py",
   "mimetype": "text/x-python",
   "name": "python",
   "nbconvert_exporter": "python",
   "pygments_lexer": "ipython3",
   "version": "3.8.8"
  }
 },
 "nbformat": 4,
 "nbformat_minor": 5
}
